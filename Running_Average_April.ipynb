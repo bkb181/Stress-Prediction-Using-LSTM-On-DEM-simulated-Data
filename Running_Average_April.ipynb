{
  "nbformat": 4,
  "nbformat_minor": 0,
  "metadata": {
    "colab": {
      "name": "Running Average April.ipynb",
      "provenance": []
    },
    "kernelspec": {
      "name": "python3",
      "display_name": "Python 3"
    },
    "accelerator": "TPU"
  },
  "cells": [
    {
      "cell_type": "code",
      "metadata": {
        "id": "Dd4IU_P1F-cz",
        "colab_type": "code",
        "colab": {
          "base_uri": "https://localhost:8080/",
          "height": 34
        },
        "outputId": "87074d77-54ba-4fd0-a36a-660dcaa52d5f"
      },
      "source": [
        "import numpy as np\n",
        "import pandas as pd\n",
        "\n",
        "import matplotlib.pyplot as plt\n",
        "from matplotlib import style\n",
        "style.use(\"ggplot\")\n",
        "from sklearn.cluster import KMeans\n",
        "from matplotlib import pyplot as plt \n",
        "# import meshio\n",
        "import numpy as np\n",
        "import pandas as pd\n",
        "# import vtk\n",
        "from matplotlib import pyplot as plt \n",
        "from glob import glob\n",
        "import math\n",
        "from sklearn.preprocessing import MinMaxScaler\n",
        "import os\n",
        "\n",
        "# import tensorflow as tf\n",
        "import numpy as np\n",
        "import matplotlib.pyplot as plt\n",
        "import pandas as pd\n",
        "from pandas import read_csv\n",
        "import math\n",
        "from keras.models import Sequential\n",
        "from keras.layers import Dense\n",
        "from keras.layers import LSTM\n",
        "from sklearn.preprocessing import MinMaxScaler\n",
        "from sklearn.metrics import mean_squared_error\n",
        "from keras.layers.core import Dense, Activation, Dropout\n",
        "from matplotlib.pyplot import figure\n",
        "from tensorflow.keras import layers\n",
        "from sklearn.model_selection import GridSearchCV\n",
        "import numpy\n",
        "from sklearn.model_selection import GridSearchCV\n",
        "from keras.models import Sequential\n",
        "from keras.layers import Dense\n",
        "from keras.wrappers.scikit_learn import KerasClassifier\n",
        "# Use scikit-learn to grid search the dropout rate\n",
        "import numpy\n",
        "from sklearn.model_selection import GridSearchCV\n",
        "from keras.models import Sequential\n",
        "from keras.layers import Dense\n",
        "from keras.layers import Dropout\n",
        "from keras.wrappers.scikit_learn import KerasClassifier\n",
        "from keras.constraints import maxnorm\n",
        "import time #helper libraries\n",
        "import scipy.io\n",
        "\n",
        "# file is downloaded from finance.yahoo.com, 1.1.1997-1.1.2017\n",
        "# training data = 1.1.1997 - 1.1.2007\n",
        "# test data = 1.1.2007 - 1.1.2017\n",
        "# input_file=\"DIS.csv\"\n",
        "\n",
        "# convert an array of values into a dataset matrix\n",
        "def create_dataset(dataset, look_back=1):\n",
        "\tdataX, dataY = [], []\n",
        "\tfor i in range(len(dataset)-look_back-1):\n",
        "\t\ta = dataset[i:(i+look_back), 0]\n",
        "\t\tdataX.append(a)\n",
        "\t\tdataY.append(dataset[i + look_back, 0])\n",
        "\treturn np.array(dataX), np.array(dataY)\n",
        "\n",
        "# fix random seed for reproducibility\n",
        "np.random.seed(5)\n",
        "\n",
        "# load the dataset\n",
        "# df = read_csv(input_file, header=None, index_col=None, delimiter=',')\n",
        "\n",
        "# take close price column[5]\n"
      ],
      "execution_count": null,
      "outputs": [
        {
          "output_type": "stream",
          "text": [
            "Using TensorFlow backend.\n"
          ],
          "name": "stderr"
        }
      ]
    },
    {
      "cell_type": "code",
      "metadata": {
        "id": "MpbZb8f1GFB3",
        "colab_type": "code",
        "colab": {
          "base_uri": "https://localhost:8080/",
          "height": 124
        },
        "outputId": "97528868-b026-4d3e-b944-53be400a251b"
      },
      "source": [
        "from google.colab import drive\n",
        "drive.mount('/content/drive')"
      ],
      "execution_count": null,
      "outputs": [
        {
          "output_type": "stream",
          "text": [
            "Go to this URL in a browser: https://accounts.google.com/o/oauth2/auth?client_id=947318989803-6bn6qk8qdgf4n4g3pfee6491hc0brc4i.apps.googleusercontent.com&redirect_uri=urn%3aietf%3awg%3aoauth%3a2.0%3aoob&response_type=code&scope=email%20https%3a%2f%2fwww.googleapis.com%2fauth%2fdocs.test%20https%3a%2f%2fwww.googleapis.com%2fauth%2fdrive%20https%3a%2f%2fwww.googleapis.com%2fauth%2fdrive.photos.readonly%20https%3a%2f%2fwww.googleapis.com%2fauth%2fpeopleapi.readonly\n",
            "\n",
            "Enter your authorization code:\n",
            "··········\n",
            "Mounted at /content/drive\n"
          ],
          "name": "stdout"
        }
      ]
    },
    {
      "cell_type": "code",
      "metadata": {
        "id": "_zeaV9ZfGIcx",
        "colab_type": "code",
        "colab": {}
      },
      "source": [
        ""
      ],
      "execution_count": null,
      "outputs": []
    },
    {
      "cell_type": "code",
      "metadata": {
        "id": "B-FjhlLdGrSK",
        "colab_type": "code",
        "colab": {}
      },
      "source": [
        "d1=pd.read_csv('/content/drive/My Drive/Colab Notebooks/10000k.csv')\n",
        "d2=pd.read_csv('/content/drive/My Drive/Colab Notebooks/20000k.csv')\n",
        "d3=pd.read_csv('/content/drive/My Drive/Colab Notebooks/30000k.csv')\n",
        "d4=pd.read_csv('/content/drive/My Drive/Colab Notebooks/40000k.csv')\n",
        "d5=pd.read_csv('/content/drive/My Drive/Colab Notebooks/50000k.csv')\n",
        "d6=pd.read_csv('/content/drive/My Drive/Colab Notebooks/60000k.csv')\n",
        "d7=pd.read_csv('/content/drive/My Drive/Colab Notebooks/70000k.csv')\n",
        "d8=pd.read_csv('/content/drive/My Drive/Colab Notebooks/80000k.csv')\n",
        "d9=pd.read_csv('/content/drive/My Drive/Colab Notebooks/90000k.csv')\n",
        "d10=pd.read_csv('/content/drive/My Drive/Colab Notebooks/100000k.csv')\n"
      ],
      "execution_count": null,
      "outputs": []
    },
    {
      "cell_type": "code",
      "metadata": {
        "id": "PM4Ysxd1GrQw",
        "colab_type": "code",
        "colab": {
          "base_uri": "https://localhost:8080/",
          "height": 34
        },
        "outputId": "97a9c979-f7d5-427f-c1e2-ee6f04464aab"
      },
      "source": [
        "d1.shape"
      ],
      "execution_count": null,
      "outputs": [
        {
          "output_type": "execute_result",
          "data": {
            "text/plain": [
              "(2087, 10001)"
            ]
          },
          "metadata": {
            "tags": []
          },
          "execution_count": 4
        }
      ]
    },
    {
      "cell_type": "code",
      "metadata": {
        "id": "4wxd1DCiGrO1",
        "colab_type": "code",
        "colab": {}
      },
      "source": [
        "mat = scipy.io.loadmat('/content/drive/My Drive/Colab Notebooks/cells.mat')\n"
      ],
      "execution_count": null,
      "outputs": []
    },
    {
      "cell_type": "code",
      "metadata": {
        "id": "9JSESQiIGrLy",
        "colab_type": "code",
        "colab": {}
      },
      "source": [
        "cell0=mat['cells']"
      ],
      "execution_count": null,
      "outputs": []
    },
    {
      "cell_type": "code",
      "metadata": {
        "id": "ZKIzLbo_HwyF",
        "colab_type": "code",
        "colab": {
          "base_uri": "https://localhost:8080/",
          "height": 34
        },
        "outputId": "79600e0b-44b8-4c5b-f056-984f993072de"
      },
      "source": [
        "cell0[0].shape"
      ],
      "execution_count": null,
      "outputs": [
        {
          "output_type": "execute_result",
          "data": {
            "text/plain": [
              "(329,)"
            ]
          },
          "metadata": {
            "tags": []
          },
          "execution_count": 8
        }
      ]
    },
    {
      "cell_type": "code",
      "metadata": {
        "id": "MVJ0fu8zH4PH",
        "colab_type": "code",
        "colab": {}
      },
      "source": [
        "cell0=cell0.T"
      ],
      "execution_count": null,
      "outputs": []
    },
    {
      "cell_type": "code",
      "metadata": {
        "id": "phhFSUUeIInB",
        "colab_type": "code",
        "colab": {
          "base_uri": "https://localhost:8080/",
          "height": 34
        },
        "outputId": "4dbac14c-0e2a-4da6-d54b-03008d36bcb7"
      },
      "source": [
        "cell0[9][0][0]"
      ],
      "execution_count": null,
      "outputs": [
        {
          "output_type": "execute_result",
          "data": {
            "text/plain": [
              "array([26, 28, 42], dtype=uint8)"
            ]
          },
          "metadata": {
            "tags": []
          },
          "execution_count": 14
        }
      ]
    },
    {
      "cell_type": "code",
      "metadata": {
        "id": "NoTV3lszIVUl",
        "colab_type": "code",
        "colab": {}
      },
      "source": [
        "for i in range(10):\n",
        "  d=np.genfromtxt('/content/drive/My Drive/Colab Notebooks/'+str((i+1)*10000)+'k.csv',delimiter=',')\n",
        "  df=pd.DataFrame()\n",
        "  t=0\n",
        "  for j in range(9,14):\n",
        "    df0=pd.DataFrame()\n",
        "    d1=[0]*(d.shape[1])\n",
        "    for c in range(len(cell0[j][0][0])):\n",
        "      d1=d1+d[cell0[j][0][0][c]]\n",
        "\n",
        "    d1=d1/len(cell0[j][0][0])\n",
        "    df[str(t)]=d1\n",
        "    t=t+1\n",
        "  df.to_csv('/content/drive/My Drive/Colab Notebooks/running_apr'+str(i+1)+'.csv')"
      ],
      "execution_count": null,
      "outputs": []
    },
    {
      "cell_type": "code",
      "metadata": {
        "id": "QpxfKax3OrtS",
        "colab_type": "code",
        "colab": {
          "base_uri": "https://localhost:8080/",
          "height": 426
        },
        "outputId": "00c63075-8421-477c-df69-7fa1c2cc4083"
      },
      "source": [
        "df.head(12)"
      ],
      "execution_count": null,
      "outputs": [
        {
          "output_type": "execute_result",
          "data": {
            "text/html": [
              "<div>\n",
              "<style scoped>\n",
              "    .dataframe tbody tr th:only-of-type {\n",
              "        vertical-align: middle;\n",
              "    }\n",
              "\n",
              "    .dataframe tbody tr th {\n",
              "        vertical-align: top;\n",
              "    }\n",
              "\n",
              "    .dataframe thead th {\n",
              "        text-align: right;\n",
              "    }\n",
              "</style>\n",
              "<table border=\"1\" class=\"dataframe\">\n",
              "  <thead>\n",
              "    <tr style=\"text-align: right;\">\n",
              "      <th></th>\n",
              "      <th>0</th>\n",
              "      <th>1</th>\n",
              "      <th>2</th>\n",
              "      <th>3</th>\n",
              "      <th>4</th>\n",
              "    </tr>\n",
              "  </thead>\n",
              "  <tbody>\n",
              "    <tr>\n",
              "      <th>0</th>\n",
              "      <td>31.000000</td>\n",
              "      <td>205.666667</td>\n",
              "      <td>29.333333</td>\n",
              "      <td>33.333333</td>\n",
              "      <td>103.666667</td>\n",
              "    </tr>\n",
              "    <tr>\n",
              "      <th>1</th>\n",
              "      <td>1886.033333</td>\n",
              "      <td>3396.940000</td>\n",
              "      <td>620.033333</td>\n",
              "      <td>0.000000</td>\n",
              "      <td>0.000000</td>\n",
              "    </tr>\n",
              "    <tr>\n",
              "      <th>2</th>\n",
              "      <td>684.466667</td>\n",
              "      <td>1281.526667</td>\n",
              "      <td>1538.823333</td>\n",
              "      <td>0.000000</td>\n",
              "      <td>0.000000</td>\n",
              "    </tr>\n",
              "    <tr>\n",
              "      <th>3</th>\n",
              "      <td>0.000000</td>\n",
              "      <td>3405.666667</td>\n",
              "      <td>1488.700000</td>\n",
              "      <td>0.000000</td>\n",
              "      <td>0.000000</td>\n",
              "    </tr>\n",
              "    <tr>\n",
              "      <th>4</th>\n",
              "      <td>777.033333</td>\n",
              "      <td>1368.170000</td>\n",
              "      <td>1011.266667</td>\n",
              "      <td>0.000000</td>\n",
              "      <td>0.000000</td>\n",
              "    </tr>\n",
              "    <tr>\n",
              "      <th>5</th>\n",
              "      <td>2329.853333</td>\n",
              "      <td>1676.866667</td>\n",
              "      <td>14004.833333</td>\n",
              "      <td>0.000000</td>\n",
              "      <td>0.000000</td>\n",
              "    </tr>\n",
              "    <tr>\n",
              "      <th>6</th>\n",
              "      <td>14767.666667</td>\n",
              "      <td>2940.730333</td>\n",
              "      <td>4380.666667</td>\n",
              "      <td>0.000000</td>\n",
              "      <td>0.000000</td>\n",
              "    </tr>\n",
              "    <tr>\n",
              "      <th>7</th>\n",
              "      <td>5376.333333</td>\n",
              "      <td>1993.313333</td>\n",
              "      <td>626.533333</td>\n",
              "      <td>0.000000</td>\n",
              "      <td>0.000000</td>\n",
              "    </tr>\n",
              "    <tr>\n",
              "      <th>8</th>\n",
              "      <td>1352.166667</td>\n",
              "      <td>670.833333</td>\n",
              "      <td>2002.366667</td>\n",
              "      <td>0.000000</td>\n",
              "      <td>0.000000</td>\n",
              "    </tr>\n",
              "    <tr>\n",
              "      <th>9</th>\n",
              "      <td>0.000000</td>\n",
              "      <td>0.000000</td>\n",
              "      <td>0.000000</td>\n",
              "      <td>0.000000</td>\n",
              "      <td>0.000000</td>\n",
              "    </tr>\n",
              "    <tr>\n",
              "      <th>10</th>\n",
              "      <td>0.000000</td>\n",
              "      <td>0.000000</td>\n",
              "      <td>0.000000</td>\n",
              "      <td>0.000000</td>\n",
              "      <td>0.000000</td>\n",
              "    </tr>\n",
              "    <tr>\n",
              "      <th>11</th>\n",
              "      <td>0.000000</td>\n",
              "      <td>0.000000</td>\n",
              "      <td>0.000000</td>\n",
              "      <td>0.000000</td>\n",
              "      <td>0.000000</td>\n",
              "    </tr>\n",
              "  </tbody>\n",
              "</table>\n",
              "</div>"
            ],
            "text/plain": [
              "               0            1             2          3           4\n",
              "0      31.000000   205.666667     29.333333  33.333333  103.666667\n",
              "1    1886.033333  3396.940000    620.033333   0.000000    0.000000\n",
              "2     684.466667  1281.526667   1538.823333   0.000000    0.000000\n",
              "3       0.000000  3405.666667   1488.700000   0.000000    0.000000\n",
              "4     777.033333  1368.170000   1011.266667   0.000000    0.000000\n",
              "5    2329.853333  1676.866667  14004.833333   0.000000    0.000000\n",
              "6   14767.666667  2940.730333   4380.666667   0.000000    0.000000\n",
              "7    5376.333333  1993.313333    626.533333   0.000000    0.000000\n",
              "8    1352.166667   670.833333   2002.366667   0.000000    0.000000\n",
              "9       0.000000     0.000000      0.000000   0.000000    0.000000\n",
              "10      0.000000     0.000000      0.000000   0.000000    0.000000\n",
              "11      0.000000     0.000000      0.000000   0.000000    0.000000"
            ]
          },
          "metadata": {
            "tags": []
          },
          "execution_count": 38
        }
      ]
    },
    {
      "cell_type": "code",
      "metadata": {
        "id": "sd9yvwsAPeM2",
        "colab_type": "code",
        "colab": {}
      },
      "source": [
        ""
      ],
      "execution_count": null,
      "outputs": []
    },
    {
      "cell_type": "code",
      "metadata": {
        "id": "ESxvy-KzPeDy",
        "colab_type": "code",
        "colab": {}
      },
      "source": [
        ""
      ],
      "execution_count": null,
      "outputs": []
    },
    {
      "cell_type": "code",
      "metadata": {
        "id": "rd_8_n_BJVC7",
        "colab_type": "code",
        "colab": {}
      },
      "source": [
        "d1=pd.read_csv('/content/drive/My Drive/Colab Notebooks/running_apr1.csv')\n",
        "d2=pd.read_csv('/content/drive/My Drive/Colab Notebooks/running_apr2.csv')\n",
        "d3=pd.read_csv('/content/drive/My Drive/Colab Notebooks/running_apr3.csv')\n",
        "d4=pd.read_csv('/content/drive/My Drive/Colab Notebooks/running_apr4.csv')\n",
        "d5=pd.read_csv('/content/drive/My Drive/Colab Notebooks/running_apr5.csv')\n",
        "d6=pd.read_csv('/content/drive/My Drive/Colab Notebooks/running_apr6.csv')\n",
        "d7=pd.read_csv('/content/drive/My Drive/Colab Notebooks/running_apr7.csv')\n",
        "d8=pd.read_csv('/content/drive/My Drive/Colab Notebooks/running_apr8.csv')\n",
        "d9=pd.read_csv('/content/drive/My Drive/Colab Notebooks/running_apr9.csv')\n",
        "d10=pd.read_csv('/content/drive/My Drive/Colab Notebooks/running_apr10.csv')\n"
      ],
      "execution_count": null,
      "outputs": []
    },
    {
      "cell_type": "code",
      "metadata": {
        "id": "4kuGMW46JVAD",
        "colab_type": "code",
        "colab": {}
      },
      "source": [
        "frame=[d1,d2,d3,d4,d5,d6,d7,d8,d9,d10]"
      ],
      "execution_count": null,
      "outputs": []
    },
    {
      "cell_type": "code",
      "metadata": {
        "id": "vwIIYhv2JZzu",
        "colab_type": "code",
        "colab": {
          "base_uri": "https://localhost:8080/",
          "height": 34
        },
        "outputId": "b0c5de6d-db2a-4dc3-9757-20c9ef170504"
      },
      "source": [
        "result = pd.concat(frame)\n",
        "result.shape"
      ],
      "execution_count": null,
      "outputs": [
        {
          "output_type": "execute_result",
          "data": {
            "text/plain": [
              "(100009, 6)"
            ]
          },
          "metadata": {
            "tags": []
          },
          "execution_count": 41
        }
      ]
    },
    {
      "cell_type": "code",
      "metadata": {
        "id": "eaHlLtLHMvEq",
        "colab_type": "code",
        "colab": {}
      },
      "source": [
        "result.to_csv('/content/drive/My Drive/Colab Notebooks/running_apr_neigh.csv')"
      ],
      "execution_count": null,
      "outputs": []
    },
    {
      "cell_type": "code",
      "metadata": {
        "id": "3ehlAGnKT4hw",
        "colab_type": "code",
        "colab": {}
      },
      "source": [
        ""
      ],
      "execution_count": null,
      "outputs": []
    },
    {
      "cell_type": "code",
      "metadata": {
        "id": "WZqkRD3oUBbl",
        "colab_type": "code",
        "colab": {}
      },
      "source": [
        "# data=np.genfromtxt('/content/gdrive/My Drive/Colab Notebooks/Running_averaged_Data.csv',delimiter=',')\n",
        "\n",
        "data=np.genfromtxt('/content/drive/My Drive/Colab Notebooks/running_apr_neigh.csv',delimiter=',')\n",
        "\n",
        "data=data.T"
      ],
      "execution_count": null,
      "outputs": []
    },
    {
      "cell_type": "code",
      "metadata": {
        "id": "lwLnUqvkUBYU",
        "colab_type": "code",
        "colab": {}
      },
      "source": [
        "df=pd.DataFrame()\n",
        "df1=pd.DataFrame()\n",
        "err=[]\n",
        "err1=[]\n"
      ],
      "execution_count": null,
      "outputs": []
    },
    {
      "cell_type": "code",
      "metadata": {
        "id": "A9p_5pPbYucE",
        "colab_type": "code",
        "colab": {
          "base_uri": "https://localhost:8080/",
          "height": 34
        },
        "outputId": "052b26cb-5b5f-4522-d381-b8b7d4ac0966"
      },
      "source": [
        "data.shape"
      ],
      "execution_count": null,
      "outputs": [
        {
          "output_type": "execute_result",
          "data": {
            "text/plain": [
              "(7, 100010)"
            ]
          },
          "metadata": {
            "tags": []
          },
          "execution_count": 5
        }
      ]
    },
    {
      "cell_type": "code",
      "metadata": {
        "id": "m-tqM-YTnO0c",
        "colab_type": "code",
        "colab": {}
      },
      "source": [
        "# result.head(12)"
      ],
      "execution_count": null,
      "outputs": []
    },
    {
      "cell_type": "code",
      "metadata": {
        "id": "_cP4PzMjnOpb",
        "colab_type": "code",
        "colab": {}
      },
      "source": [
        ""
      ],
      "execution_count": null,
      "outputs": []
    },
    {
      "cell_type": "code",
      "metadata": {
        "id": "UisEIJJAYuOr",
        "colab_type": "code",
        "colab": {
          "base_uri": "https://localhost:8080/",
          "height": 378
        },
        "outputId": "5822be72-5ef3-48e4-a54d-e35fcb81bc92"
      },
      "source": [
        "# i=146\n",
        "# plot baseline and predictions\n",
        "w=20\n",
        "f=1\n",
        "curr=np.convolve(data[f], np.ones((w,))/w, mode='valid')\n",
        "figure(num=None, figsize=(18, 4), dpi=120, facecolor='w', edgecolor='k')\n",
        "\n",
        "plt.plot((curr[20000:30000]),color='r',label=\"Whole Data\")\n",
        "# plt.show()\n",
        "# plt.plot(df[i],color='g',label=\"Train\")\n",
        "# print('testPrices:')\n",
        "# testPrices=scaler.inverse_transform(dataset[test_size+look_back:])\n",
        "\n",
        "\n",
        "# plt.plot(df1[i], label=\"test\")\n",
        "plt.legend()\n",
        "plt.title('colab cell-'+str(f+7))\n",
        "plt.show()\n",
        "\n",
        "\n"
      ],
      "execution_count": null,
      "outputs": [
        {
          "output_type": "display_data",
          "data": {
            "image/png": "[encoded data removed]",
            "text/plain": [
              "<Figure size 2160x480 with 1 Axes>"
            ]
          },
          "metadata": {
            "tags": []
          }
        }
      ]
    },
    {
      "cell_type": "code",
      "metadata": {
        "id": "OV-gWuCTUBUQ",
        "colab_type": "code",
        "colab": {
          "base_uri": "https://localhost:8080/",
          "height": 225
        },
        "outputId": "fe57f7e8-d39d-4a3d-c79f-761a695b067a"
      },
      "source": [
        "  # cc=[2,4,5,6,7,8,9,10,11,12,13,14,15,30,43,44,47,53,56,57,58,59,60,61]\n",
        "  # k=6000\n",
        "  # f=5\n",
        "\n",
        "w=20\n",
        "for f in range(2,6):\n",
        "  print(f)\n",
        "  curr=np.convolve(data[f], np.ones((w,))/w, mode='valid')\n",
        "  epoch=250\n",
        "  # for f in range(len(cc)):\n",
        "  # print(f)\n",
        "  all_y = curr #data[f]\n",
        "\n",
        "  # normalize the dataset\n",
        "  dataset=all_y.reshape(-1, 1)\n",
        "\n",
        "  scaler = MinMaxScaler(feature_range=(0, 1))\n",
        "  dataset = scaler.fit_transform(dataset)\n",
        "\n",
        "  # split into train and test sets, 50% test data, 50% training data\n",
        "  train_size = int(len(dataset) * 0.8)\n",
        "  k=int(len(dataset) * 0.8)\n",
        "  test_size = len(dataset) - train_size\n",
        "  train, test = dataset[0:train_size,:], dataset[train_size:len(dataset),:]\n",
        "\n",
        "  # reshape into X=t and Y=t+1, timestep 240\n",
        "  look_back = 180\n",
        "  trainX, trainY = create_dataset(train, look_back)\n",
        "  testX, testY = create_dataset(test, look_back)\n",
        "\n",
        "  # reshape input to be [samples, time steps, features]\n",
        "  trainX = np.reshape(trainX, (trainX.shape[0], 1, trainX.shape[1]))\n",
        "  testX = np.reshape(testX, (testX.shape[0], 1, testX.shape[1]))\n",
        "\n",
        "  # create and fit the LSTM network, optimizer=adam, 25 neurons, dropout 0.1\n",
        "\n",
        "  model = Sequential()\n",
        "  model.add(LSTM(25, input_shape=(1, look_back)))\n",
        "  model.add(Dropout(0.12))\n",
        "  model.add(Dense(1))\n",
        "  model.compile(loss='mse', optimizer='adam')\n",
        "  model.fit(trainX, trainY, epochs=epoch, batch_size=25, verbose=0)\n",
        "\n",
        "  # make predictions\n",
        "  trainPredict = model.predict(trainX)\n",
        "  testPredict = model.predict(testX)\n",
        "  # print('testPredict shape =',testPredict.shape)\n",
        "  # print('trainpredict shape =',trainpredict.shape)\n",
        "  # invert predictions\n",
        "  trainPredict = scaler.inverse_transform(trainPredict)\n",
        "  trainY = scaler.inverse_transform([trainY])\n",
        "  testPredict = scaler.inverse_transform(testPredict)\n",
        "  testY = scaler.inverse_transform([testY])\n",
        "\n",
        "  # calculate root mean squared error\n",
        "  trainScore = math.sqrt(mean_squared_error(trainY[0], trainPredict[:,0]))\n",
        "  print('Train Score: %.2f RMSE' % (trainScore))\n",
        "  testScore = math.sqrt(mean_squared_error(testY[0], testPredict[:,0]))\n",
        "  print('Test Score: %.2f RMSE' % (testScore))\n",
        "  err.append(trainScore)\n",
        "  err1.append(testScore)\n",
        "\n",
        "  # shift train predictions for plotting\n",
        "  trainPredictPlot = np.empty_like(dataset)\n",
        "  trainPredictPlot[:, :] = np.nan\n",
        "  trainPredictPlot[look_back:len(trainPredict)+look_back, :] = trainPredict\n",
        "\n",
        "  # shift test predictions for plotting\n",
        "  testPredictPlot = np.empty_like(dataset)\n",
        "  testPredictPlot[:, :] = np.nan\n",
        "  testPredictPlot[len(trainPredict)+(look_back*2)+1:len(dataset)-1, :] = testPredict\n",
        "  # ff.append(testScore)\n",
        "\n",
        "\n",
        "  # figure(num=None, figsize=(9, 5), dpi=120, facecolor='w', edgecolor='k')\n",
        "\n",
        "  # plt.plot((all_y),color='r',label=\"Original Data\")\n",
        "  # # plt.show()\n",
        "  # plt.plot(trainPredictPlot,color='g',label=\"Training\")\n",
        "  # print('testPrices:')\n",
        "  testPrices=scaler.inverse_transform(dataset[test_size:])\n",
        "\n",
        "\n",
        "  df[(f)]=list(trainPredictPlot)\n",
        "  df1[(f)]=list(testPredictPlot)\n",
        "\n",
        "  # df1[(f)]=list(data[f])\n",
        "\n",
        "  # plt.plot(testPredictPlot, label=\"testing\")\n",
        "  # plt.legend()\n",
        "  # plt.title('Cell-'+str(f))\n",
        "  # plt.ylabel('stress')\n",
        "  # plt.xlabel('time')\n",
        "  # plt.savefig('/content/gdrive/My Drive/Colab Notebooks/BTP/'+str(f)+'rms'+str(testScore)+'.png')\n",
        "  # plt.show()\n",
        "  # ff.to_csv('test_score.csv')\n",
        "\n",
        "df.to_csv('/content/drive/My Drive/Colab Notebooks/running_apr_train_cell_9_12.csv')\n",
        "df1.to_csv('/content/drive/My Drive/Colab Notebooks/running_apr_test_cell_9_12.csv')\n",
        "np.savetxt(\"/content/drive/My Drive/Colab Notebooks/r_new_train_err_9_12.csv\", err, delimiter=\",\")\n",
        "np.savetxt(\"/content/drive/My Drive/Colab Notebooks/r_new_test_err_9_12.csv\", err1, delimiter=\",\")"
      ],
      "execution_count": null,
      "outputs": [
        {
          "output_type": "stream",
          "text": [
            "2\n",
            "Train Score: 234.84 RMSE\n",
            "Test Score: 228.84 RMSE\n",
            "3\n",
            "Train Score: 270.21 RMSE\n",
            "Test Score: 276.01 RMSE\n",
            "4\n",
            "Train Score: 437.49 RMSE\n",
            "Test Score: 373.43 RMSE\n",
            "5\n",
            "Train Score: 440.58 RMSE\n",
            "Test Score: 497.24 RMSE\n"
          ],
          "name": "stdout"
        }
      ]
    },
    {
      "cell_type": "code",
      "metadata": {
        "id": "kN23zh5pm12s",
        "colab_type": "code",
        "colab": {}
      },
      "source": [
        "df.to_csv('/content/drive/My Drive/Colab Notebooks/running_apr_train_cell_10.csv')\n",
        "df1.to_csv('/content/drive/My Drive/Colab Notebooks/running_apr_test_cell_10.csv')"
      ],
      "execution_count": null,
      "outputs": []
    },
    {
      "cell_type": "code",
      "metadata": {
        "id": "NIv4dTAzUBRM",
        "colab_type": "code",
        "colab": {}
      },
      "source": [
        "f=3\n",
        "#cell no=10"
      ],
      "execution_count": null,
      "outputs": []
    },
    {
      "cell_type": "code",
      "metadata": {
        "id": "eQkq150MUf-1",
        "colab_type": "code",
        "colab": {
          "base_uri": "https://localhost:8080/",
          "height": 417
        },
        "outputId": "5bff4d23-4be4-4f17-e0c6-274945f1898a"
      },
      "source": [
        "\n",
        "l=0\n",
        "h=100000\n",
        "# plot baseline and predictions\n",
        "figure(num=None, figsize=(30, 8))\n",
        "\n",
        "plt.plot((curr[l:h]),color='r',label=\"Whole Data\")\n",
        "# plt.show()\n",
        "plt.plot(trainPredictPlot[l:h],color='g',label=\"Train\")\n",
        "# print('testPrices:')\n",
        "testPrices=scaler.inverse_transform(dataset[test_size+look_back:])\n",
        "\n",
        "\n",
        "plt.plot(testPredictPlot[l:h], color='b',label=\"test\")\n",
        "plt.legend()\n",
        "plt.title('colab cell-'+str(f+7))\n",
        "plt.show()\n",
        "\n",
        "\n"
      ],
      "execution_count": null,
      "outputs": [
        {
          "output_type": "display_data",
          "data": {
            "image/png": "[encoded data removed]",
            "text/plain": [
              "<Figure size 2160x576 with 1 Axes>"
            ]
          },
          "metadata": {
            "tags": [],
            "needs_background": "light"
          }
        }
      ]
    },
    {
      "cell_type": "code",
      "metadata": {
        "id": "gVbCI095Uf7P",
        "colab_type": "code",
        "colab": {
          "base_uri": "https://localhost:8080/",
          "height": 424
        },
        "outputId": "856e3446-9191-499a-adf1-e8fb061580c9"
      },
      "source": [
        "df1"
      ],
      "execution_count": null,
      "outputs": [
        {
          "output_type": "execute_result",
          "data": {
            "text/html": [
              "<div>\n",
              "<style scoped>\n",
              "    .dataframe tbody tr th:only-of-type {\n",
              "        vertical-align: middle;\n",
              "    }\n",
              "\n",
              "    .dataframe tbody tr th {\n",
              "        vertical-align: top;\n",
              "    }\n",
              "\n",
              "    .dataframe thead th {\n",
              "        text-align: right;\n",
              "    }\n",
              "</style>\n",
              "<table border=\"1\" class=\"dataframe\">\n",
              "  <thead>\n",
              "    <tr style=\"text-align: right;\">\n",
              "      <th></th>\n",
              "      <th>3</th>\n",
              "    </tr>\n",
              "  </thead>\n",
              "  <tbody>\n",
              "    <tr>\n",
              "      <th>0</th>\n",
              "      <td>[nan]</td>\n",
              "    </tr>\n",
              "    <tr>\n",
              "      <th>1</th>\n",
              "      <td>[nan]</td>\n",
              "    </tr>\n",
              "    <tr>\n",
              "      <th>2</th>\n",
              "      <td>[nan]</td>\n",
              "    </tr>\n",
              "    <tr>\n",
              "      <th>3</th>\n",
              "      <td>[nan]</td>\n",
              "    </tr>\n",
              "    <tr>\n",
              "      <th>4</th>\n",
              "      <td>[nan]</td>\n",
              "    </tr>\n",
              "    <tr>\n",
              "      <th>...</th>\n",
              "      <td>...</td>\n",
              "    </tr>\n",
              "    <tr>\n",
              "      <th>99986</th>\n",
              "      <td>[nan]</td>\n",
              "    </tr>\n",
              "    <tr>\n",
              "      <th>99987</th>\n",
              "      <td>[nan]</td>\n",
              "    </tr>\n",
              "    <tr>\n",
              "      <th>99988</th>\n",
              "      <td>[nan]</td>\n",
              "    </tr>\n",
              "    <tr>\n",
              "      <th>99989</th>\n",
              "      <td>[nan]</td>\n",
              "    </tr>\n",
              "    <tr>\n",
              "      <th>99990</th>\n",
              "      <td>[nan]</td>\n",
              "    </tr>\n",
              "  </tbody>\n",
              "</table>\n",
              "<p>99991 rows × 1 columns</p>\n",
              "</div>"
            ],
            "text/plain": [
              "           3\n",
              "0      [nan]\n",
              "1      [nan]\n",
              "2      [nan]\n",
              "3      [nan]\n",
              "4      [nan]\n",
              "...      ...\n",
              "99986  [nan]\n",
              "99987  [nan]\n",
              "99988  [nan]\n",
              "99989  [nan]\n",
              "99990  [nan]\n",
              "\n",
              "[99991 rows x 1 columns]"
            ]
          },
          "metadata": {
            "tags": []
          },
          "execution_count": 102
        }
      ]
    },
    {
      "cell_type": "code",
      "metadata": {
        "id": "mGYNVVxzpXpA",
        "colab_type": "code",
        "colab": {}
      },
      "source": [
        ""
      ],
      "execution_count": null,
      "outputs": []
    }
  ]
}