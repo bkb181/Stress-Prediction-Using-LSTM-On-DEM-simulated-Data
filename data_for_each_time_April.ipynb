{
  "nbformat": 4,
  "nbformat_minor": 0,
  "metadata": {
    "colab": {
      "name": "data for each time April.ipynb",
      "provenance": []
    },
    "kernelspec": {
      "name": "python3",
      "display_name": "Python 3"
    },
    "accelerator": "TPU"
  },
  "cells": [
    {
      "cell_type": "code",
      "metadata": {
        "id": "hWeUO4WCLXz7",
        "colab_type": "code",
        "colab": {}
      },
      "source": [
        "# !pip install tensorflow==1.14\n",
        "# !pip install keras==2.2.4\n"
      ],
      "execution_count": null,
      "outputs": []
    },
    {
      "cell_type": "code",
      "metadata": {
        "id": "3cmFhfKCLejn",
        "colab_type": "code",
        "colab": {
          "base_uri": "https://localhost:8080/",
          "height": 124
        },
        "outputId": "c452a4b1-e0c1-45f4-d7b1-8fa0d6a5ac06"
      },
      "source": [
        "from google.colab import drive\n",
        "drive.mount('/content/drive')\n",
        "%matplotlib inline"
      ],
      "execution_count": null,
      "outputs": [
        {
          "output_type": "stream",
          "text": [
            "Go to this URL in a browser: https://accounts.google.com/o/oauth2/auth?client_id=947318989803-6bn6qk8qdgf4n4g3pfee6491hc0brc4i.apps.googleusercontent.com&redirect_uri=urn%3aietf%3awg%3aoauth%3a2.0%3aoob&response_type=code&scope=email%20https%3a%2f%2fwww.googleapis.com%2fauth%2fdocs.test%20https%3a%2f%2fwww.googleapis.com%2fauth%2fdrive%20https%3a%2f%2fwww.googleapis.com%2fauth%2fdrive.photos.readonly%20https%3a%2f%2fwww.googleapis.com%2fauth%2fpeopleapi.readonly\n",
            "\n",
            "Enter your authorization code:\n",
            "··········\n",
            "Mounted at /content/drive\n"
          ],
          "name": "stdout"
        }
      ]
    },
    {
      "cell_type": "code",
      "metadata": {
        "id": "oOUwMSCHLnyI",
        "colab_type": "code",
        "colab": {
          "base_uri": "https://localhost:8080/",
          "height": 34
        },
        "outputId": "2b501ccd-0dbb-44f2-bd5f-f3b920e8f7aa"
      },
      "source": [
        "import plotly.io as pio\n",
        "import plotly.graph_objects as go\n",
        "\n",
        "%matplotlib inline\n",
        "%pylab inline\n",
        "import plotly.io as pio\n",
        "import plotly.graph_objs as go"
      ],
      "execution_count": null,
      "outputs": [
        {
          "output_type": "stream",
          "text": [
            "Populating the interactive namespace from numpy and matplotlib\n"
          ],
          "name": "stdout"
        }
      ]
    },
    {
      "cell_type": "code",
      "metadata": {
        "id": "jOxjDMlLLzZb",
        "colab_type": "code",
        "colab": {
          "base_uri": "https://localhost:8080/",
          "height": 34
        },
        "outputId": "9eae6e64-bd76-47ea-aed3-b01b8199fc89"
      },
      "source": [
        "%matplotlib inline\n",
        "%matplotlib inline\n",
        "import numpy as np\n",
        "import matplotlib.pyplot as plt\n",
        "import pandas as pd\n",
        "from pandas import read_csv\n",
        "import math\n",
        "from keras.models import Sequential\n",
        "from keras.layers import Dense\n",
        "from keras.layers import LSTM\n",
        "from sklearn.preprocessing import MinMaxScaler\n",
        "from sklearn.metrics import mean_squared_error\n",
        "from keras.layers.core import Dense, Activation, Dropout\n",
        "from matplotlib.pyplot import figure\n",
        "import statistics\n",
        "\n",
        "import time #helper libraries\n",
        "\n",
        "# file is downloaded from finance.yahoo.com, 1.1.1997-1.1.2017\n",
        "# training data = 1.1.1997 - 1.1.2007\n",
        "# test data = 1.1.2007 - 1.1.2017\n",
        "# input_file=\"DIS.csv\"\n",
        "\n",
        "# convert an array of values into a dataset matrix\n",
        "def create_dataset(dataset, look_back=1):\n",
        "\tdataX, dataY = [], []\n",
        "\tfor i in range(len(dataset)-look_back-1):\n",
        "\t\ta = dataset[i:(i+look_back), 0]\n",
        "\t\tdataX.append(a)\n",
        "\t\tdataY.append(dataset[i + look_back, 0])\n",
        "\treturn np.array(dataX), np.array(dataY)\n",
        "\n",
        "# fix random seed for reproducibility\n",
        "np.random.seed(5)\n",
        "\n",
        "# load the dataset\n",
        "# df = read_csv(input_file, header=None, index_col=None, delimiter=',')\n",
        "\n",
        "# take close price column[5]\n"
      ],
      "execution_count": null,
      "outputs": [
        {
          "output_type": "stream",
          "text": [
            "Using TensorFlow backend.\n"
          ],
          "name": "stderr"
        }
      ]
    },
    {
      "cell_type": "code",
      "metadata": {
        "id": "wGe-fC3JL1od",
        "colab_type": "code",
        "colab": {}
      },
      "source": [
        "# data=np.genfromtxt('/content/gdrive/My Drive/Colab Notebooks/Running_averaged_Data.csv',delimiter=',')\n",
        "\n",
        "data=np.genfromtxt('/content/drive/My Drive/Colab Notebooks/neighboured20.csv',delimiter=',')\n",
        "\n",
        "data=data.T"
      ],
      "execution_count": null,
      "outputs": []
    },
    {
      "cell_type": "code",
      "metadata": {
        "id": "MOtUhxTKPI0V",
        "colab_type": "code",
        "colab": {}
      },
      "source": [
        "# del err,err1"
      ],
      "execution_count": null,
      "outputs": []
    },
    {
      "cell_type": "code",
      "metadata": {
        "id": "bWqohA1BPfbb",
        "colab_type": "code",
        "colab": {}
      },
      "source": [
        "cc=[2,4,5,6,7,8,9,10,11,12,13,14,15,30,43,44,47,53,56,57,58,59,60,61,61, 63,64,65,67,\n",
        "69,98,99,100,101,102,103,104,105,106,107,108,117,131,134,135,142,143,146,184,189,191,197,\n",
        "198,199,228,229,232,233,235,236,239,240,241,242,246,273,274,275,277,278,280,283,284,285,286,287,288,289]"
      ],
      "execution_count": null,
      "outputs": []
    },
    {
      "cell_type": "code",
      "metadata": {
        "id": "nlyrTptJPR7M",
        "colab_type": "code",
        "colab": {}
      },
      "source": [
        "df=pd.DataFrame()\n",
        "df1=pd.DataFrame()\n",
        "err=[]\n",
        "err1=[]\n"
      ],
      "execution_count": null,
      "outputs": []
    },
    {
      "cell_type": "code",
      "metadata": {
        "id": "U6jA93CWPxbq",
        "colab_type": "code",
        "colab": {
          "base_uri": "https://localhost:8080/",
          "height": 35
        },
        "outputId": "66388016-44e4-4a1b-81cf-33e66027cedd"
      },
      "source": [
        "len(cc)"
      ],
      "execution_count": null,
      "outputs": [
        {
          "output_type": "execute_result",
          "data": {
            "text/plain": [
              "78"
            ]
          },
          "metadata": {
            "tags": []
          },
          "execution_count": 18
        }
      ]
    },
    {
      "cell_type": "code",
      "metadata": {
        "id": "VfwzJJ9IL6dg",
        "colab_type": "code",
        "colab": {
          "base_uri": "https://localhost:8080/",
          "height": 69
        },
        "outputId": "cb6e7b70-bc53-4957-e71e-5ce14f3bfdf1"
      },
      "source": [
        "# cc=[2,4,5,6,7,8,9,10,11,12,13,14,15,30,43,44,47,53,56,57,58,59,60,61]\n",
        "# k=6000\n",
        "# f=5\n",
        "epoch=200\n",
        "cc=[98]\n",
        "for f in range(len(cc)):\n",
        "  print(f)\n",
        "  f=cc[f]\n",
        "  all_y = data[f]\n",
        "\n",
        "# normalize the dataset\n",
        "  dataset=all_y.reshape(-1, 1)\n",
        "\n",
        "  scaler = MinMaxScaler(feature_range=(0, 1))\n",
        "  dataset = scaler.fit_transform(dataset)\n",
        "\n",
        "  # split into train and test sets, 50% test data, 50% training data\n",
        "  train_size = int(len(dataset) * 0.8)\n",
        "  k=int(len(dataset) * 0.8)\n",
        "  test_size = len(dataset) - train_size\n",
        "  train, test = dataset[0:train_size,:], dataset[train_size:len(dataset),:]\n",
        "\n",
        "  # reshape into X=t and Y=t+1, timestep 240\n",
        "  look_back = 180\n",
        "  trainX, trainY = create_dataset(train, look_back)\n",
        "  testX, testY = create_dataset(test, look_back)\n",
        "\n",
        "  # reshape input to be [samples, time steps, features]\n",
        "  trainX = np.reshape(trainX, (trainX.shape[0], 1, trainX.shape[1]))\n",
        "  testX = np.reshape(testX, (testX.shape[0], 1, testX.shape[1]))\n",
        "\n",
        "  # create and fit the LSTM network, optimizer=adam, 25 neurons, dropout 0.1\n",
        "\n",
        "  model = Sequential()\n",
        "  model.add(LSTM(25, input_shape=(1, look_back)))\n",
        "  model.add(Dropout(0.12))\n",
        "  model.add(Dense(1))\n",
        "  model.compile(loss='mse', optimizer='adam')\n",
        "  model.fit(trainX, trainY, epochs=epoch, batch_size=25, verbose=0)\n",
        "\n",
        "  # make predictions\n",
        "  trainPredict = model.predict(trainX)\n",
        "  testPredict = model.predict(testX)\n",
        "  # print('testPredict shape =',testPredict.shape)\n",
        "  # print('trainpredict shape =',trainpredict.shape)\n",
        "  # invert predictions\n",
        "  trainPredict = scaler.inverse_transform(trainPredict)\n",
        "  trainY = scaler.inverse_transform([trainY])\n",
        "  testPredict = scaler.inverse_transform(testPredict)\n",
        "  testY = scaler.inverse_transform([testY])\n",
        "\n",
        "  # calculate root mean squared error\n",
        "  trainScore = math.sqrt(mean_squared_error(trainY[0], trainPredict[:,0]))\n",
        "  print('Train Score: %.2f RMSE' % (trainScore))\n",
        "  testScore = math.sqrt(mean_squared_error(testY[0], testPredict[:,0]))\n",
        "  print('Test Score: %.2f RMSE' % (testScore))\n",
        "  err.append(trainScore)\n",
        "  err1.append(testScore)\n",
        "  \n",
        "  # shift train predictions for plotting\n",
        "  trainPredictPlot = np.empty_like(dataset)\n",
        "  trainPredictPlot[:, :] = np.nan\n",
        "  trainPredictPlot[look_back:len(trainPredict)+look_back, :] = trainPredict\n",
        "\n",
        "  # shift test predictions for plotting\n",
        "  testPredictPlot = np.empty_like(dataset)\n",
        "  testPredictPlot[:, :] = np.nan\n",
        "  testPredictPlot[len(trainPredict)+(look_back*2)+1:len(dataset)-1, :] = testPredict\n",
        "  # ff.append(testScore)\n",
        "\n",
        "  \n",
        "  # figure(num=None, figsize=(9, 5), dpi=120, facecolor='w', edgecolor='k')\n",
        "\n",
        "  # plt.plot((all_y),color='r',label=\"Original Data\")\n",
        "  # # plt.show()\n",
        "  # plt.plot(trainPredictPlot,color='g',label=\"Training\")\n",
        "  # print('testPrices:')\n",
        "  testPrices=scaler.inverse_transform(dataset[test_size:])\n",
        "\n",
        "\n",
        "  df[(f)]=list(trainPredictPlot)\n",
        "  df1[(f)]=list(testPredictPlot)\n",
        "  \n",
        "  # df1[(f)]=list(data[f])\n",
        "\n",
        "  # plt.plot(testPredictPlot, label=\"testing\")\n",
        "  # plt.legend()\n",
        "  # plt.title('Cell-'+str(f))\n",
        "  # plt.ylabel('stress')\n",
        "  # plt.xlabel('time')\n",
        "  # plt.savefig('/content/gdrive/My Drive/Colab Notebooks/BTP/'+str(f)+'rms'+str(testScore)+'.png')\n",
        "  # plt.show()\n",
        "  # ff.to_csv('test_score.csv')\n",
        "\n",
        "# df.to_csv('/content/drive/My Drive/Colab Notebooks/new_train_predct0.csv')\n",
        "# df1.to_csv('/content/drive/My Drive/Colab Notebooks/new_test_predct0.csv')\n",
        "# np.savetxt(\"/content/drive/My Drive/Colab Notebooks/new_train_err.csv\", err, delimiter=\",\")\n",
        "# np.savetxt(\"/content/drive/My Drive/Colab Notebooks/new_test_err.csv\", err1, delimiter=\",\")\n",
        "\n"
      ],
      "execution_count": null,
      "outputs": [
        {
          "output_type": "stream",
          "text": [
            "0\n",
            "Train Score: 664.66 RMSE\n",
            "Test Score: 2496.95 RMSE\n"
          ],
          "name": "stdout"
        }
      ]
    },
    {
      "cell_type": "code",
      "metadata": {
        "id": "EL1qE9NTOruE",
        "colab_type": "code",
        "colab": {}
      },
      "source": [
        ""
      ],
      "execution_count": null,
      "outputs": []
    },
    {
      "cell_type": "code",
      "metadata": {
        "id": "bmLQgtlMOrqt",
        "colab_type": "code",
        "colab": {}
      },
      "source": [
        ""
      ],
      "execution_count": null,
      "outputs": []
    },
    {
      "cell_type": "code",
      "metadata": {
        "id": "j8LsrtHUOrkf",
        "colab_type": "code",
        "colab": {
          "base_uri": "https://localhost:8080/",
          "height": 214
        },
        "outputId": "a72ef5c4-1162-4226-e34b-ccb01ee6fa56"
      },
      "source": [
        "df.head()"
      ],
      "execution_count": null,
      "outputs": [
        {
          "output_type": "execute_result",
          "data": {
            "text/html": [
              "<div>\n",
              "<style scoped>\n",
              "    .dataframe tbody tr th:only-of-type {\n",
              "        vertical-align: middle;\n",
              "    }\n",
              "\n",
              "    .dataframe tbody tr th {\n",
              "        vertical-align: top;\n",
              "    }\n",
              "\n",
              "    .dataframe thead th {\n",
              "        text-align: right;\n",
              "    }\n",
              "</style>\n",
              "<table border=\"1\" class=\"dataframe\">\n",
              "  <thead>\n",
              "    <tr style=\"text-align: right;\">\n",
              "      <th></th>\n",
              "      <th>2</th>\n",
              "      <th>4</th>\n",
              "      <th>5</th>\n",
              "      <th>6</th>\n",
              "      <th>7</th>\n",
              "      <th>8</th>\n",
              "      <th>9</th>\n",
              "      <th>10</th>\n",
              "      <th>11</th>\n",
              "      <th>12</th>\n",
              "      <th>13</th>\n",
              "      <th>14</th>\n",
              "      <th>15</th>\n",
              "      <th>30</th>\n",
              "      <th>43</th>\n",
              "      <th>44</th>\n",
              "      <th>47</th>\n",
              "      <th>53</th>\n",
              "      <th>56</th>\n",
              "      <th>57</th>\n",
              "      <th>58</th>\n",
              "      <th>59</th>\n",
              "      <th>60</th>\n",
              "      <th>61</th>\n",
              "      <th>63</th>\n",
              "      <th>64</th>\n",
              "      <th>65</th>\n",
              "      <th>67</th>\n",
              "      <th>69</th>\n",
              "      <th>98</th>\n",
              "      <th>99</th>\n",
              "      <th>100</th>\n",
              "      <th>101</th>\n",
              "      <th>102</th>\n",
              "      <th>103</th>\n",
              "      <th>104</th>\n",
              "      <th>105</th>\n",
              "      <th>106</th>\n",
              "      <th>107</th>\n",
              "      <th>108</th>\n",
              "      <th>117</th>\n",
              "      <th>131</th>\n",
              "      <th>134</th>\n",
              "      <th>135</th>\n",
              "      <th>142</th>\n",
              "      <th>143</th>\n",
              "      <th>146</th>\n",
              "      <th>184</th>\n",
              "      <th>189</th>\n",
              "      <th>191</th>\n",
              "      <th>197</th>\n",
              "      <th>198</th>\n",
              "      <th>199</th>\n",
              "      <th>228</th>\n",
              "      <th>229</th>\n",
              "      <th>232</th>\n",
              "      <th>233</th>\n",
              "      <th>235</th>\n",
              "      <th>236</th>\n",
              "      <th>239</th>\n",
              "      <th>240</th>\n",
              "      <th>241</th>\n",
              "      <th>242</th>\n",
              "      <th>246</th>\n",
              "      <th>273</th>\n",
              "      <th>274</th>\n",
              "      <th>275</th>\n",
              "      <th>277</th>\n",
              "      <th>278</th>\n",
              "      <th>280</th>\n",
              "      <th>283</th>\n",
              "      <th>284</th>\n",
              "      <th>285</th>\n",
              "      <th>286</th>\n",
              "      <th>287</th>\n",
              "      <th>288</th>\n",
              "      <th>289</th>\n",
              "    </tr>\n",
              "  </thead>\n",
              "  <tbody>\n",
              "    <tr>\n",
              "      <th>0</th>\n",
              "      <td>[nan]</td>\n",
              "      <td>[nan]</td>\n",
              "      <td>[nan]</td>\n",
              "      <td>[nan]</td>\n",
              "      <td>[nan]</td>\n",
              "      <td>[nan]</td>\n",
              "      <td>[nan]</td>\n",
              "      <td>[nan]</td>\n",
              "      <td>[nan]</td>\n",
              "      <td>[nan]</td>\n",
              "      <td>[nan]</td>\n",
              "      <td>[nan]</td>\n",
              "      <td>[nan]</td>\n",
              "      <td>[nan]</td>\n",
              "      <td>[nan]</td>\n",
              "      <td>[nan]</td>\n",
              "      <td>[nan]</td>\n",
              "      <td>[nan]</td>\n",
              "      <td>[nan]</td>\n",
              "      <td>[nan]</td>\n",
              "      <td>[nan]</td>\n",
              "      <td>[nan]</td>\n",
              "      <td>[nan]</td>\n",
              "      <td>[nan]</td>\n",
              "      <td>[nan]</td>\n",
              "      <td>[nan]</td>\n",
              "      <td>[nan]</td>\n",
              "      <td>[nan]</td>\n",
              "      <td>[nan]</td>\n",
              "      <td>[nan]</td>\n",
              "      <td>[nan]</td>\n",
              "      <td>[nan]</td>\n",
              "      <td>[nan]</td>\n",
              "      <td>[nan]</td>\n",
              "      <td>[nan]</td>\n",
              "      <td>[nan]</td>\n",
              "      <td>[nan]</td>\n",
              "      <td>[nan]</td>\n",
              "      <td>[nan]</td>\n",
              "      <td>[nan]</td>\n",
              "      <td>[nan]</td>\n",
              "      <td>[nan]</td>\n",
              "      <td>[nan]</td>\n",
              "      <td>[nan]</td>\n",
              "      <td>[nan]</td>\n",
              "      <td>[nan]</td>\n",
              "      <td>[nan]</td>\n",
              "      <td>[nan]</td>\n",
              "      <td>[nan]</td>\n",
              "      <td>[nan]</td>\n",
              "      <td>[nan]</td>\n",
              "      <td>[nan]</td>\n",
              "      <td>[nan]</td>\n",
              "      <td>[nan]</td>\n",
              "      <td>[nan]</td>\n",
              "      <td>[nan]</td>\n",
              "      <td>[nan]</td>\n",
              "      <td>[nan]</td>\n",
              "      <td>[nan]</td>\n",
              "      <td>[nan]</td>\n",
              "      <td>[nan]</td>\n",
              "      <td>[nan]</td>\n",
              "      <td>[nan]</td>\n",
              "      <td>[nan]</td>\n",
              "      <td>[nan]</td>\n",
              "      <td>[nan]</td>\n",
              "      <td>[nan]</td>\n",
              "      <td>[nan]</td>\n",
              "      <td>[nan]</td>\n",
              "      <td>[nan]</td>\n",
              "      <td>[nan]</td>\n",
              "      <td>[nan]</td>\n",
              "      <td>[nan]</td>\n",
              "      <td>[nan]</td>\n",
              "      <td>[nan]</td>\n",
              "      <td>[nan]</td>\n",
              "      <td>[nan]</td>\n",
              "    </tr>\n",
              "    <tr>\n",
              "      <th>1</th>\n",
              "      <td>[nan]</td>\n",
              "      <td>[nan]</td>\n",
              "      <td>[nan]</td>\n",
              "      <td>[nan]</td>\n",
              "      <td>[nan]</td>\n",
              "      <td>[nan]</td>\n",
              "      <td>[nan]</td>\n",
              "      <td>[nan]</td>\n",
              "      <td>[nan]</td>\n",
              "      <td>[nan]</td>\n",
              "      <td>[nan]</td>\n",
              "      <td>[nan]</td>\n",
              "      <td>[nan]</td>\n",
              "      <td>[nan]</td>\n",
              "      <td>[nan]</td>\n",
              "      <td>[nan]</td>\n",
              "      <td>[nan]</td>\n",
              "      <td>[nan]</td>\n",
              "      <td>[nan]</td>\n",
              "      <td>[nan]</td>\n",
              "      <td>[nan]</td>\n",
              "      <td>[nan]</td>\n",
              "      <td>[nan]</td>\n",
              "      <td>[nan]</td>\n",
              "      <td>[nan]</td>\n",
              "      <td>[nan]</td>\n",
              "      <td>[nan]</td>\n",
              "      <td>[nan]</td>\n",
              "      <td>[nan]</td>\n",
              "      <td>[nan]</td>\n",
              "      <td>[nan]</td>\n",
              "      <td>[nan]</td>\n",
              "      <td>[nan]</td>\n",
              "      <td>[nan]</td>\n",
              "      <td>[nan]</td>\n",
              "      <td>[nan]</td>\n",
              "      <td>[nan]</td>\n",
              "      <td>[nan]</td>\n",
              "      <td>[nan]</td>\n",
              "      <td>[nan]</td>\n",
              "      <td>[nan]</td>\n",
              "      <td>[nan]</td>\n",
              "      <td>[nan]</td>\n",
              "      <td>[nan]</td>\n",
              "      <td>[nan]</td>\n",
              "      <td>[nan]</td>\n",
              "      <td>[nan]</td>\n",
              "      <td>[nan]</td>\n",
              "      <td>[nan]</td>\n",
              "      <td>[nan]</td>\n",
              "      <td>[nan]</td>\n",
              "      <td>[nan]</td>\n",
              "      <td>[nan]</td>\n",
              "      <td>[nan]</td>\n",
              "      <td>[nan]</td>\n",
              "      <td>[nan]</td>\n",
              "      <td>[nan]</td>\n",
              "      <td>[nan]</td>\n",
              "      <td>[nan]</td>\n",
              "      <td>[nan]</td>\n",
              "      <td>[nan]</td>\n",
              "      <td>[nan]</td>\n",
              "      <td>[nan]</td>\n",
              "      <td>[nan]</td>\n",
              "      <td>[nan]</td>\n",
              "      <td>[nan]</td>\n",
              "      <td>[nan]</td>\n",
              "      <td>[nan]</td>\n",
              "      <td>[nan]</td>\n",
              "      <td>[nan]</td>\n",
              "      <td>[nan]</td>\n",
              "      <td>[nan]</td>\n",
              "      <td>[nan]</td>\n",
              "      <td>[nan]</td>\n",
              "      <td>[nan]</td>\n",
              "      <td>[nan]</td>\n",
              "      <td>[nan]</td>\n",
              "    </tr>\n",
              "    <tr>\n",
              "      <th>2</th>\n",
              "      <td>[nan]</td>\n",
              "      <td>[nan]</td>\n",
              "      <td>[nan]</td>\n",
              "      <td>[nan]</td>\n",
              "      <td>[nan]</td>\n",
              "      <td>[nan]</td>\n",
              "      <td>[nan]</td>\n",
              "      <td>[nan]</td>\n",
              "      <td>[nan]</td>\n",
              "      <td>[nan]</td>\n",
              "      <td>[nan]</td>\n",
              "      <td>[nan]</td>\n",
              "      <td>[nan]</td>\n",
              "      <td>[nan]</td>\n",
              "      <td>[nan]</td>\n",
              "      <td>[nan]</td>\n",
              "      <td>[nan]</td>\n",
              "      <td>[nan]</td>\n",
              "      <td>[nan]</td>\n",
              "      <td>[nan]</td>\n",
              "      <td>[nan]</td>\n",
              "      <td>[nan]</td>\n",
              "      <td>[nan]</td>\n",
              "      <td>[nan]</td>\n",
              "      <td>[nan]</td>\n",
              "      <td>[nan]</td>\n",
              "      <td>[nan]</td>\n",
              "      <td>[nan]</td>\n",
              "      <td>[nan]</td>\n",
              "      <td>[nan]</td>\n",
              "      <td>[nan]</td>\n",
              "      <td>[nan]</td>\n",
              "      <td>[nan]</td>\n",
              "      <td>[nan]</td>\n",
              "      <td>[nan]</td>\n",
              "      <td>[nan]</td>\n",
              "      <td>[nan]</td>\n",
              "      <td>[nan]</td>\n",
              "      <td>[nan]</td>\n",
              "      <td>[nan]</td>\n",
              "      <td>[nan]</td>\n",
              "      <td>[nan]</td>\n",
              "      <td>[nan]</td>\n",
              "      <td>[nan]</td>\n",
              "      <td>[nan]</td>\n",
              "      <td>[nan]</td>\n",
              "      <td>[nan]</td>\n",
              "      <td>[nan]</td>\n",
              "      <td>[nan]</td>\n",
              "      <td>[nan]</td>\n",
              "      <td>[nan]</td>\n",
              "      <td>[nan]</td>\n",
              "      <td>[nan]</td>\n",
              "      <td>[nan]</td>\n",
              "      <td>[nan]</td>\n",
              "      <td>[nan]</td>\n",
              "      <td>[nan]</td>\n",
              "      <td>[nan]</td>\n",
              "      <td>[nan]</td>\n",
              "      <td>[nan]</td>\n",
              "      <td>[nan]</td>\n",
              "      <td>[nan]</td>\n",
              "      <td>[nan]</td>\n",
              "      <td>[nan]</td>\n",
              "      <td>[nan]</td>\n",
              "      <td>[nan]</td>\n",
              "      <td>[nan]</td>\n",
              "      <td>[nan]</td>\n",
              "      <td>[nan]</td>\n",
              "      <td>[nan]</td>\n",
              "      <td>[nan]</td>\n",
              "      <td>[nan]</td>\n",
              "      <td>[nan]</td>\n",
              "      <td>[nan]</td>\n",
              "      <td>[nan]</td>\n",
              "      <td>[nan]</td>\n",
              "      <td>[nan]</td>\n",
              "    </tr>\n",
              "    <tr>\n",
              "      <th>3</th>\n",
              "      <td>[nan]</td>\n",
              "      <td>[nan]</td>\n",
              "      <td>[nan]</td>\n",
              "      <td>[nan]</td>\n",
              "      <td>[nan]</td>\n",
              "      <td>[nan]</td>\n",
              "      <td>[nan]</td>\n",
              "      <td>[nan]</td>\n",
              "      <td>[nan]</td>\n",
              "      <td>[nan]</td>\n",
              "      <td>[nan]</td>\n",
              "      <td>[nan]</td>\n",
              "      <td>[nan]</td>\n",
              "      <td>[nan]</td>\n",
              "      <td>[nan]</td>\n",
              "      <td>[nan]</td>\n",
              "      <td>[nan]</td>\n",
              "      <td>[nan]</td>\n",
              "      <td>[nan]</td>\n",
              "      <td>[nan]</td>\n",
              "      <td>[nan]</td>\n",
              "      <td>[nan]</td>\n",
              "      <td>[nan]</td>\n",
              "      <td>[nan]</td>\n",
              "      <td>[nan]</td>\n",
              "      <td>[nan]</td>\n",
              "      <td>[nan]</td>\n",
              "      <td>[nan]</td>\n",
              "      <td>[nan]</td>\n",
              "      <td>[nan]</td>\n",
              "      <td>[nan]</td>\n",
              "      <td>[nan]</td>\n",
              "      <td>[nan]</td>\n",
              "      <td>[nan]</td>\n",
              "      <td>[nan]</td>\n",
              "      <td>[nan]</td>\n",
              "      <td>[nan]</td>\n",
              "      <td>[nan]</td>\n",
              "      <td>[nan]</td>\n",
              "      <td>[nan]</td>\n",
              "      <td>[nan]</td>\n",
              "      <td>[nan]</td>\n",
              "      <td>[nan]</td>\n",
              "      <td>[nan]</td>\n",
              "      <td>[nan]</td>\n",
              "      <td>[nan]</td>\n",
              "      <td>[nan]</td>\n",
              "      <td>[nan]</td>\n",
              "      <td>[nan]</td>\n",
              "      <td>[nan]</td>\n",
              "      <td>[nan]</td>\n",
              "      <td>[nan]</td>\n",
              "      <td>[nan]</td>\n",
              "      <td>[nan]</td>\n",
              "      <td>[nan]</td>\n",
              "      <td>[nan]</td>\n",
              "      <td>[nan]</td>\n",
              "      <td>[nan]</td>\n",
              "      <td>[nan]</td>\n",
              "      <td>[nan]</td>\n",
              "      <td>[nan]</td>\n",
              "      <td>[nan]</td>\n",
              "      <td>[nan]</td>\n",
              "      <td>[nan]</td>\n",
              "      <td>[nan]</td>\n",
              "      <td>[nan]</td>\n",
              "      <td>[nan]</td>\n",
              "      <td>[nan]</td>\n",
              "      <td>[nan]</td>\n",
              "      <td>[nan]</td>\n",
              "      <td>[nan]</td>\n",
              "      <td>[nan]</td>\n",
              "      <td>[nan]</td>\n",
              "      <td>[nan]</td>\n",
              "      <td>[nan]</td>\n",
              "      <td>[nan]</td>\n",
              "      <td>[nan]</td>\n",
              "    </tr>\n",
              "    <tr>\n",
              "      <th>4</th>\n",
              "      <td>[nan]</td>\n",
              "      <td>[nan]</td>\n",
              "      <td>[nan]</td>\n",
              "      <td>[nan]</td>\n",
              "      <td>[nan]</td>\n",
              "      <td>[nan]</td>\n",
              "      <td>[nan]</td>\n",
              "      <td>[nan]</td>\n",
              "      <td>[nan]</td>\n",
              "      <td>[nan]</td>\n",
              "      <td>[nan]</td>\n",
              "      <td>[nan]</td>\n",
              "      <td>[nan]</td>\n",
              "      <td>[nan]</td>\n",
              "      <td>[nan]</td>\n",
              "      <td>[nan]</td>\n",
              "      <td>[nan]</td>\n",
              "      <td>[nan]</td>\n",
              "      <td>[nan]</td>\n",
              "      <td>[nan]</td>\n",
              "      <td>[nan]</td>\n",
              "      <td>[nan]</td>\n",
              "      <td>[nan]</td>\n",
              "      <td>[nan]</td>\n",
              "      <td>[nan]</td>\n",
              "      <td>[nan]</td>\n",
              "      <td>[nan]</td>\n",
              "      <td>[nan]</td>\n",
              "      <td>[nan]</td>\n",
              "      <td>[nan]</td>\n",
              "      <td>[nan]</td>\n",
              "      <td>[nan]</td>\n",
              "      <td>[nan]</td>\n",
              "      <td>[nan]</td>\n",
              "      <td>[nan]</td>\n",
              "      <td>[nan]</td>\n",
              "      <td>[nan]</td>\n",
              "      <td>[nan]</td>\n",
              "      <td>[nan]</td>\n",
              "      <td>[nan]</td>\n",
              "      <td>[nan]</td>\n",
              "      <td>[nan]</td>\n",
              "      <td>[nan]</td>\n",
              "      <td>[nan]</td>\n",
              "      <td>[nan]</td>\n",
              "      <td>[nan]</td>\n",
              "      <td>[nan]</td>\n",
              "      <td>[nan]</td>\n",
              "      <td>[nan]</td>\n",
              "      <td>[nan]</td>\n",
              "      <td>[nan]</td>\n",
              "      <td>[nan]</td>\n",
              "      <td>[nan]</td>\n",
              "      <td>[nan]</td>\n",
              "      <td>[nan]</td>\n",
              "      <td>[nan]</td>\n",
              "      <td>[nan]</td>\n",
              "      <td>[nan]</td>\n",
              "      <td>[nan]</td>\n",
              "      <td>[nan]</td>\n",
              "      <td>[nan]</td>\n",
              "      <td>[nan]</td>\n",
              "      <td>[nan]</td>\n",
              "      <td>[nan]</td>\n",
              "      <td>[nan]</td>\n",
              "      <td>[nan]</td>\n",
              "      <td>[nan]</td>\n",
              "      <td>[nan]</td>\n",
              "      <td>[nan]</td>\n",
              "      <td>[nan]</td>\n",
              "      <td>[nan]</td>\n",
              "      <td>[nan]</td>\n",
              "      <td>[nan]</td>\n",
              "      <td>[nan]</td>\n",
              "      <td>[nan]</td>\n",
              "      <td>[nan]</td>\n",
              "      <td>[nan]</td>\n",
              "    </tr>\n",
              "  </tbody>\n",
              "</table>\n",
              "</div>"
            ],
            "text/plain": [
              "     2      4      5      6      7    ...    285    286    287    288    289\n",
              "0  [nan]  [nan]  [nan]  [nan]  [nan]  ...  [nan]  [nan]  [nan]  [nan]  [nan]\n",
              "1  [nan]  [nan]  [nan]  [nan]  [nan]  ...  [nan]  [nan]  [nan]  [nan]  [nan]\n",
              "2  [nan]  [nan]  [nan]  [nan]  [nan]  ...  [nan]  [nan]  [nan]  [nan]  [nan]\n",
              "3  [nan]  [nan]  [nan]  [nan]  [nan]  ...  [nan]  [nan]  [nan]  [nan]  [nan]\n",
              "4  [nan]  [nan]  [nan]  [nan]  [nan]  ...  [nan]  [nan]  [nan]  [nan]  [nan]\n",
              "\n",
              "[5 rows x 77 columns]"
            ]
          },
          "metadata": {
            "tags": []
          },
          "execution_count": 30
        }
      ]
    },
    {
      "cell_type": "code",
      "metadata": {
        "id": "hvtrHT_tLo_N",
        "colab_type": "code",
        "colab": {}
      },
      "source": [
        ""
      ],
      "execution_count": null,
      "outputs": []
    },
    {
      "cell_type": "code",
      "metadata": {
        "id": "BfHeIiF5Lou2",
        "colab_type": "code",
        "colab": {}
      },
      "source": [
        "# data=np.genfromtxt('/content/drive/My Drive/Colab Notebooks/new_test_err.csv',delimiter=',')\n"
      ],
      "execution_count": null,
      "outputs": []
    },
    {
      "cell_type": "code",
      "metadata": {
        "id": "igVyR8W7MVRJ",
        "colab_type": "code",
        "colab": {
          "base_uri": "https://localhost:8080/",
          "height": 34
        },
        "outputId": "93a212b0-9643-4335-c2d5-e66749ac34f5"
      },
      "source": [
        "data[1]"
      ],
      "execution_count": null,
      "outputs": [
        {
          "output_type": "execute_result",
          "data": {
            "text/plain": [
              "2374.9736842660554"
            ]
          },
          "metadata": {
            "tags": []
          },
          "execution_count": 7
        }
      ]
    },
    {
      "cell_type": "code",
      "metadata": {
        "id": "UqE0xAsJLorU",
        "colab_type": "code",
        "colab": {
          "base_uri": "https://localhost:8080/",
          "height": 663
        },
        "outputId": "19284752-cff1-468f-b2d8-b8f1aae78061"
      },
      "source": [
        "i=146\n",
        "# plot baseline and predictions\n",
        "figure(num=None, figsize=(12, 6), dpi=120, facecolor='w', edgecolor='k')\n",
        "\n",
        "plt.plot((data),color='b')\n",
        "# plt.show()\n",
        "# plt.plot(df[i],color='g',label=\"Train\")\n",
        "# print('testPrices:')\n",
        "# testPrices=scaler.inverse_transform(dataset[test_size+look_back:])\n",
        "\n",
        "\n",
        "# plt.plot(df1[i], label=\"test\")\n",
        "# plt.legend()\n",
        "plt.title('RMS on test data')\n",
        "plt.xlabel('Cell No')\n",
        "plt.ylabel('RMS(N/m^2)')\n",
        "\n",
        "plt.show()\n",
        "\n",
        "\n"
      ],
      "execution_count": null,
      "outputs": [
        {
          "output_type": "display_data",
          "data": {
            "image/png": "[encoded data removed]",
            "text/plain": [
              "<Figure size 1440x720 with 1 Axes>"
            ]
          },
          "metadata": {
            "tags": []
          }
        }
      ]
    },
    {
      "cell_type": "code",
      "metadata": {
        "id": "cjI0LBAdN4f-",
        "colab_type": "code",
        "colab": {}
      },
      "source": [
        "data=np.genfromtxt('/content/drive/My Drive/Colab Notebooks/new_test_err.csv',delimiter=',')\n"
      ],
      "execution_count": null,
      "outputs": []
    },
    {
      "cell_type": "code",
      "metadata": {
        "id": "2oqcsoHWOriO",
        "colab_type": "code",
        "colab": {
          "base_uri": "https://localhost:8080/",
          "height": 825
        },
        "outputId": "bb4c8ef9-dac7-47f0-b09b-a4af552b0606"
      },
      "source": [
        "i=98\n",
        "# plot baseline and predictions\n",
        "figure(num=None, figsize=(18, 10), dpi=120, facecolor='w', edgecolor='k')\n",
        "\n",
        "plt.plot((data[i]),color='r',label=\"Whole Data\")\n",
        "# plt.show()\n",
        "plt.plot(df[i],color='g',label=\"Train\")\n",
        "# print('testPrices:')\n",
        "testPrices=scaler.inverse_transform(dataset[test_size+look_back:])\n",
        "\n",
        "\n",
        "plt.plot(df1[i], label=\"test\")\n",
        "plt.legend()\n",
        "plt.title('colab cell-'+str(i))\n",
        "plt.xlabel('Time(10^(-2)s)')\n",
        "plt.ylabel('Stress(N/m^2)')\n",
        "plt.show()\n",
        "\n",
        "\n"
      ],
      "execution_count": null,
      "outputs": [
        {
          "output_type": "display_data",
          "data": {
            "image/png": "[encoded data removed]",
            "text/plain": [
              "<Figure size 2160x1200 with 1 Axes>"
            ]
          },
          "metadata": {
            "tags": []
          }
        }
      ]
    },
    {
      "cell_type": "code",
      "metadata": {
        "id": "xb8cwxBZOrd_",
        "colab_type": "code",
        "colab": {
          "base_uri": "https://localhost:8080/",
          "height": 339
        },
        "outputId": "a2fa4162-687f-45c0-fde5-5ac6cfe00cb9"
      },
      "source": [
        "\n",
        "# plot baseline and predictions\n",
        "figure(num=None, figsize=(18, 4), dpi=120, facecolor='w', edgecolor='k')\n",
        "\n",
        "plt.plot((data[f]),color='r',label=\"Whole Data\")\n",
        "# plt.show()\n",
        "plt.plot(trainPredictPlot,color='g',label=\"Train\")\n",
        "# print('testPrices:')\n",
        "testPrices=scaler.inverse_transform(dataset[test_size+look_back:])\n",
        "\n",
        "\n",
        "plt.plot(testPredictPlot, label=\"test\")\n",
        "plt.legend()\n",
        "plt.title('colab cell-'+str(f))\n",
        "plt.show()\n",
        "\n",
        "\n"
      ],
      "execution_count": null,
      "outputs": [
        {
          "output_type": "display_data",
          "data": {
            "image/png": "[encoded data removed]",
            "text/plain": [
              "<Figure size 2160x480 with 1 Axes>"
            ]
          },
          "metadata": {
            "tags": []
          }
        }
      ]
    },
    {
      "cell_type": "code",
      "metadata": {
        "id": "CTE2yCcaOrbc",
        "colab_type": "code",
        "colab": {}
      },
      "source": [
        ""
      ],
      "execution_count": null,
      "outputs": []
    },
    {
      "cell_type": "code",
      "metadata": {
        "id": "7dzGt73TkCM9",
        "colab_type": "code",
        "colab": {}
      },
      "source": [
        "np.savetxt(\"/content/drive/My Drive/Colab Notebooks/train_err.csv\", err, delimiter=\",\")\n"
      ],
      "execution_count": null,
      "outputs": []
    },
    {
      "cell_type": "code",
      "metadata": {
        "id": "oiDFW8NeRblx",
        "colab_type": "code",
        "colab": {}
      },
      "source": [
        "  # df.to_csv('/content/gdrive/My Drive/Colab Notebooks/test_predct.csv')\n",
        "  # df1.to_csv('/content/gdrive/My Drive/Colab Notebooks/original data.csv')"
      ],
      "execution_count": null,
      "outputs": []
    },
    {
      "cell_type": "code",
      "metadata": {
        "id": "Otp6tFMlRbbL",
        "colab_type": "code",
        "colab": {}
      },
      "source": [
        "data=np.genfromtxt('/content/gdrive/My Drive/Colab Notebooks/test_predct.csv',delimiter=',')\n"
      ],
      "execution_count": null,
      "outputs": []
    },
    {
      "cell_type": "code",
      "metadata": {
        "id": "qQIqqNlynXe-",
        "colab_type": "code",
        "colab": {}
      },
      "source": [
        "data1=np.genfromtxt('/content/gdrive/My Drive/Colab Notebooks/train_predct.csv',delimiter=',')\n"
      ],
      "execution_count": null,
      "outputs": []
    },
    {
      "cell_type": "code",
      "metadata": {
        "id": "wXn6uLffnTKy",
        "colab_type": "code",
        "colab": {}
      },
      "source": [
        "# data"
      ],
      "execution_count": null,
      "outputs": []
    },
    {
      "cell_type": "code",
      "metadata": {
        "id": "Ow7WkqcSnTDb",
        "colab_type": "code",
        "colab": {}
      },
      "source": [
        "data1=pd.read_csv('/content/gdrive/My Drive/Colab Notebooks/train_predct.csv')\n",
        "data2=pd.read_csv('/content/gdrive/My Drive/Colab Notebooks/test_predct.csv')\n"
      ],
      "execution_count": null,
      "outputs": []
    },
    {
      "cell_type": "code",
      "metadata": {
        "id": "F0Xw3wernS51",
        "colab_type": "code",
        "colab": {
          "base_uri": "https://localhost:8080/",
          "height": 438
        },
        "outputId": "04592968-4a19-4ef6-9a22-c911ffcb7201"
      },
      "source": [
        "data1"
      ],
      "execution_count": null,
      "outputs": [
        {
          "output_type": "execute_result",
          "data": {
            "text/html": [
              "<div>\n",
              "<style scoped>\n",
              "    .dataframe tbody tr th:only-of-type {\n",
              "        vertical-align: middle;\n",
              "    }\n",
              "\n",
              "    .dataframe tbody tr th {\n",
              "        vertical-align: top;\n",
              "    }\n",
              "\n",
              "    .dataframe thead th {\n",
              "        text-align: right;\n",
              "    }\n",
              "</style>\n",
              "<table border=\"1\" class=\"dataframe\">\n",
              "  <thead>\n",
              "    <tr style=\"text-align: right;\">\n",
              "      <th></th>\n",
              "      <th>Unnamed: 0</th>\n",
              "      <th>0</th>\n",
              "      <th>1</th>\n",
              "      <th>2</th>\n",
              "      <th>3</th>\n",
              "      <th>4</th>\n",
              "      <th>5</th>\n",
              "      <th>6</th>\n",
              "      <th>7</th>\n",
              "      <th>8</th>\n",
              "      <th>9</th>\n",
              "      <th>10</th>\n",
              "      <th>11</th>\n",
              "      <th>12</th>\n",
              "      <th>13</th>\n",
              "      <th>14</th>\n",
              "      <th>15</th>\n",
              "      <th>16</th>\n",
              "      <th>17</th>\n",
              "      <th>18</th>\n",
              "      <th>19</th>\n",
              "      <th>20</th>\n",
              "      <th>21</th>\n",
              "      <th>22</th>\n",
              "      <th>23</th>\n",
              "      <th>24</th>\n",
              "      <th>25</th>\n",
              "      <th>26</th>\n",
              "      <th>27</th>\n",
              "      <th>28</th>\n",
              "      <th>29</th>\n",
              "    </tr>\n",
              "  </thead>\n",
              "  <tbody>\n",
              "    <tr>\n",
              "      <th>0</th>\n",
              "      <td>0</td>\n",
              "      <td>[nan]</td>\n",
              "      <td>[nan]</td>\n",
              "      <td>[nan]</td>\n",
              "      <td>[nan]</td>\n",
              "      <td>[nan]</td>\n",
              "      <td>[nan]</td>\n",
              "      <td>[nan]</td>\n",
              "      <td>[nan]</td>\n",
              "      <td>[nan]</td>\n",
              "      <td>[nan]</td>\n",
              "      <td>[nan]</td>\n",
              "      <td>[nan]</td>\n",
              "      <td>[nan]</td>\n",
              "      <td>[nan]</td>\n",
              "      <td>[nan]</td>\n",
              "      <td>[nan]</td>\n",
              "      <td>[nan]</td>\n",
              "      <td>[nan]</td>\n",
              "      <td>[nan]</td>\n",
              "      <td>[nan]</td>\n",
              "      <td>[nan]</td>\n",
              "      <td>[nan]</td>\n",
              "      <td>[nan]</td>\n",
              "      <td>[nan]</td>\n",
              "      <td>[nan]</td>\n",
              "      <td>[nan]</td>\n",
              "      <td>[nan]</td>\n",
              "      <td>[nan]</td>\n",
              "      <td>[nan]</td>\n",
              "      <td>[nan]</td>\n",
              "    </tr>\n",
              "    <tr>\n",
              "      <th>1</th>\n",
              "      <td>1</td>\n",
              "      <td>[nan]</td>\n",
              "      <td>[nan]</td>\n",
              "      <td>[nan]</td>\n",
              "      <td>[nan]</td>\n",
              "      <td>[nan]</td>\n",
              "      <td>[nan]</td>\n",
              "      <td>[nan]</td>\n",
              "      <td>[nan]</td>\n",
              "      <td>[nan]</td>\n",
              "      <td>[nan]</td>\n",
              "      <td>[nan]</td>\n",
              "      <td>[nan]</td>\n",
              "      <td>[nan]</td>\n",
              "      <td>[nan]</td>\n",
              "      <td>[nan]</td>\n",
              "      <td>[nan]</td>\n",
              "      <td>[nan]</td>\n",
              "      <td>[nan]</td>\n",
              "      <td>[nan]</td>\n",
              "      <td>[nan]</td>\n",
              "      <td>[nan]</td>\n",
              "      <td>[nan]</td>\n",
              "      <td>[nan]</td>\n",
              "      <td>[nan]</td>\n",
              "      <td>[nan]</td>\n",
              "      <td>[nan]</td>\n",
              "      <td>[nan]</td>\n",
              "      <td>[nan]</td>\n",
              "      <td>[nan]</td>\n",
              "      <td>[nan]</td>\n",
              "    </tr>\n",
              "    <tr>\n",
              "      <th>2</th>\n",
              "      <td>2</td>\n",
              "      <td>[nan]</td>\n",
              "      <td>[nan]</td>\n",
              "      <td>[nan]</td>\n",
              "      <td>[nan]</td>\n",
              "      <td>[nan]</td>\n",
              "      <td>[nan]</td>\n",
              "      <td>[nan]</td>\n",
              "      <td>[nan]</td>\n",
              "      <td>[nan]</td>\n",
              "      <td>[nan]</td>\n",
              "      <td>[nan]</td>\n",
              "      <td>[nan]</td>\n",
              "      <td>[nan]</td>\n",
              "      <td>[nan]</td>\n",
              "      <td>[nan]</td>\n",
              "      <td>[nan]</td>\n",
              "      <td>[nan]</td>\n",
              "      <td>[nan]</td>\n",
              "      <td>[nan]</td>\n",
              "      <td>[nan]</td>\n",
              "      <td>[nan]</td>\n",
              "      <td>[nan]</td>\n",
              "      <td>[nan]</td>\n",
              "      <td>[nan]</td>\n",
              "      <td>[nan]</td>\n",
              "      <td>[nan]</td>\n",
              "      <td>[nan]</td>\n",
              "      <td>[nan]</td>\n",
              "      <td>[nan]</td>\n",
              "      <td>[nan]</td>\n",
              "    </tr>\n",
              "    <tr>\n",
              "      <th>3</th>\n",
              "      <td>3</td>\n",
              "      <td>[nan]</td>\n",
              "      <td>[nan]</td>\n",
              "      <td>[nan]</td>\n",
              "      <td>[nan]</td>\n",
              "      <td>[nan]</td>\n",
              "      <td>[nan]</td>\n",
              "      <td>[nan]</td>\n",
              "      <td>[nan]</td>\n",
              "      <td>[nan]</td>\n",
              "      <td>[nan]</td>\n",
              "      <td>[nan]</td>\n",
              "      <td>[nan]</td>\n",
              "      <td>[nan]</td>\n",
              "      <td>[nan]</td>\n",
              "      <td>[nan]</td>\n",
              "      <td>[nan]</td>\n",
              "      <td>[nan]</td>\n",
              "      <td>[nan]</td>\n",
              "      <td>[nan]</td>\n",
              "      <td>[nan]</td>\n",
              "      <td>[nan]</td>\n",
              "      <td>[nan]</td>\n",
              "      <td>[nan]</td>\n",
              "      <td>[nan]</td>\n",
              "      <td>[nan]</td>\n",
              "      <td>[nan]</td>\n",
              "      <td>[nan]</td>\n",
              "      <td>[nan]</td>\n",
              "      <td>[nan]</td>\n",
              "      <td>[nan]</td>\n",
              "    </tr>\n",
              "    <tr>\n",
              "      <th>4</th>\n",
              "      <td>4</td>\n",
              "      <td>[nan]</td>\n",
              "      <td>[nan]</td>\n",
              "      <td>[nan]</td>\n",
              "      <td>[nan]</td>\n",
              "      <td>[nan]</td>\n",
              "      <td>[nan]</td>\n",
              "      <td>[nan]</td>\n",
              "      <td>[nan]</td>\n",
              "      <td>[nan]</td>\n",
              "      <td>[nan]</td>\n",
              "      <td>[nan]</td>\n",
              "      <td>[nan]</td>\n",
              "      <td>[nan]</td>\n",
              "      <td>[nan]</td>\n",
              "      <td>[nan]</td>\n",
              "      <td>[nan]</td>\n",
              "      <td>[nan]</td>\n",
              "      <td>[nan]</td>\n",
              "      <td>[nan]</td>\n",
              "      <td>[nan]</td>\n",
              "      <td>[nan]</td>\n",
              "      <td>[nan]</td>\n",
              "      <td>[nan]</td>\n",
              "      <td>[nan]</td>\n",
              "      <td>[nan]</td>\n",
              "      <td>[nan]</td>\n",
              "      <td>[nan]</td>\n",
              "      <td>[nan]</td>\n",
              "      <td>[nan]</td>\n",
              "      <td>[nan]</td>\n",
              "    </tr>\n",
              "    <tr>\n",
              "      <th>...</th>\n",
              "      <td>...</td>\n",
              "      <td>...</td>\n",
              "      <td>...</td>\n",
              "      <td>...</td>\n",
              "      <td>...</td>\n",
              "      <td>...</td>\n",
              "      <td>...</td>\n",
              "      <td>...</td>\n",
              "      <td>...</td>\n",
              "      <td>...</td>\n",
              "      <td>...</td>\n",
              "      <td>...</td>\n",
              "      <td>...</td>\n",
              "      <td>...</td>\n",
              "      <td>...</td>\n",
              "      <td>...</td>\n",
              "      <td>...</td>\n",
              "      <td>...</td>\n",
              "      <td>...</td>\n",
              "      <td>...</td>\n",
              "      <td>...</td>\n",
              "      <td>...</td>\n",
              "      <td>...</td>\n",
              "      <td>...</td>\n",
              "      <td>...</td>\n",
              "      <td>...</td>\n",
              "      <td>...</td>\n",
              "      <td>...</td>\n",
              "      <td>...</td>\n",
              "      <td>...</td>\n",
              "      <td>...</td>\n",
              "    </tr>\n",
              "    <tr>\n",
              "      <th>5995</th>\n",
              "      <td>5995</td>\n",
              "      <td>[nan]</td>\n",
              "      <td>[nan]</td>\n",
              "      <td>[nan]</td>\n",
              "      <td>[nan]</td>\n",
              "      <td>[nan]</td>\n",
              "      <td>[nan]</td>\n",
              "      <td>[nan]</td>\n",
              "      <td>[nan]</td>\n",
              "      <td>[nan]</td>\n",
              "      <td>[nan]</td>\n",
              "      <td>[nan]</td>\n",
              "      <td>[nan]</td>\n",
              "      <td>[nan]</td>\n",
              "      <td>[nan]</td>\n",
              "      <td>[nan]</td>\n",
              "      <td>[nan]</td>\n",
              "      <td>[nan]</td>\n",
              "      <td>[nan]</td>\n",
              "      <td>[nan]</td>\n",
              "      <td>[nan]</td>\n",
              "      <td>[nan]</td>\n",
              "      <td>[nan]</td>\n",
              "      <td>[nan]</td>\n",
              "      <td>[nan]</td>\n",
              "      <td>[nan]</td>\n",
              "      <td>[nan]</td>\n",
              "      <td>[nan]</td>\n",
              "      <td>[nan]</td>\n",
              "      <td>[nan]</td>\n",
              "      <td>[nan]</td>\n",
              "    </tr>\n",
              "    <tr>\n",
              "      <th>5996</th>\n",
              "      <td>5996</td>\n",
              "      <td>[nan]</td>\n",
              "      <td>[nan]</td>\n",
              "      <td>[nan]</td>\n",
              "      <td>[nan]</td>\n",
              "      <td>[nan]</td>\n",
              "      <td>[nan]</td>\n",
              "      <td>[nan]</td>\n",
              "      <td>[nan]</td>\n",
              "      <td>[nan]</td>\n",
              "      <td>[nan]</td>\n",
              "      <td>[nan]</td>\n",
              "      <td>[nan]</td>\n",
              "      <td>[nan]</td>\n",
              "      <td>[nan]</td>\n",
              "      <td>[nan]</td>\n",
              "      <td>[nan]</td>\n",
              "      <td>[nan]</td>\n",
              "      <td>[nan]</td>\n",
              "      <td>[nan]</td>\n",
              "      <td>[nan]</td>\n",
              "      <td>[nan]</td>\n",
              "      <td>[nan]</td>\n",
              "      <td>[nan]</td>\n",
              "      <td>[nan]</td>\n",
              "      <td>[nan]</td>\n",
              "      <td>[nan]</td>\n",
              "      <td>[nan]</td>\n",
              "      <td>[nan]</td>\n",
              "      <td>[nan]</td>\n",
              "      <td>[nan]</td>\n",
              "    </tr>\n",
              "    <tr>\n",
              "      <th>5997</th>\n",
              "      <td>5997</td>\n",
              "      <td>[nan]</td>\n",
              "      <td>[nan]</td>\n",
              "      <td>[nan]</td>\n",
              "      <td>[nan]</td>\n",
              "      <td>[nan]</td>\n",
              "      <td>[nan]</td>\n",
              "      <td>[nan]</td>\n",
              "      <td>[nan]</td>\n",
              "      <td>[nan]</td>\n",
              "      <td>[nan]</td>\n",
              "      <td>[nan]</td>\n",
              "      <td>[nan]</td>\n",
              "      <td>[nan]</td>\n",
              "      <td>[nan]</td>\n",
              "      <td>[nan]</td>\n",
              "      <td>[nan]</td>\n",
              "      <td>[nan]</td>\n",
              "      <td>[nan]</td>\n",
              "      <td>[nan]</td>\n",
              "      <td>[nan]</td>\n",
              "      <td>[nan]</td>\n",
              "      <td>[nan]</td>\n",
              "      <td>[nan]</td>\n",
              "      <td>[nan]</td>\n",
              "      <td>[nan]</td>\n",
              "      <td>[nan]</td>\n",
              "      <td>[nan]</td>\n",
              "      <td>[nan]</td>\n",
              "      <td>[nan]</td>\n",
              "      <td>[nan]</td>\n",
              "    </tr>\n",
              "    <tr>\n",
              "      <th>5998</th>\n",
              "      <td>5998</td>\n",
              "      <td>[nan]</td>\n",
              "      <td>[nan]</td>\n",
              "      <td>[nan]</td>\n",
              "      <td>[nan]</td>\n",
              "      <td>[nan]</td>\n",
              "      <td>[nan]</td>\n",
              "      <td>[nan]</td>\n",
              "      <td>[nan]</td>\n",
              "      <td>[nan]</td>\n",
              "      <td>[nan]</td>\n",
              "      <td>[nan]</td>\n",
              "      <td>[nan]</td>\n",
              "      <td>[nan]</td>\n",
              "      <td>[nan]</td>\n",
              "      <td>[nan]</td>\n",
              "      <td>[nan]</td>\n",
              "      <td>[nan]</td>\n",
              "      <td>[nan]</td>\n",
              "      <td>[nan]</td>\n",
              "      <td>[nan]</td>\n",
              "      <td>[nan]</td>\n",
              "      <td>[nan]</td>\n",
              "      <td>[nan]</td>\n",
              "      <td>[nan]</td>\n",
              "      <td>[nan]</td>\n",
              "      <td>[nan]</td>\n",
              "      <td>[nan]</td>\n",
              "      <td>[nan]</td>\n",
              "      <td>[nan]</td>\n",
              "      <td>[nan]</td>\n",
              "    </tr>\n",
              "    <tr>\n",
              "      <th>5999</th>\n",
              "      <td>5999</td>\n",
              "      <td>[nan]</td>\n",
              "      <td>[nan]</td>\n",
              "      <td>[nan]</td>\n",
              "      <td>[nan]</td>\n",
              "      <td>[nan]</td>\n",
              "      <td>[nan]</td>\n",
              "      <td>[nan]</td>\n",
              "      <td>[nan]</td>\n",
              "      <td>[nan]</td>\n",
              "      <td>[nan]</td>\n",
              "      <td>[nan]</td>\n",
              "      <td>[nan]</td>\n",
              "      <td>[nan]</td>\n",
              "      <td>[nan]</td>\n",
              "      <td>[nan]</td>\n",
              "      <td>[nan]</td>\n",
              "      <td>[nan]</td>\n",
              "      <td>[nan]</td>\n",
              "      <td>[nan]</td>\n",
              "      <td>[nan]</td>\n",
              "      <td>[nan]</td>\n",
              "      <td>[nan]</td>\n",
              "      <td>[nan]</td>\n",
              "      <td>[nan]</td>\n",
              "      <td>[nan]</td>\n",
              "      <td>[nan]</td>\n",
              "      <td>[nan]</td>\n",
              "      <td>[nan]</td>\n",
              "      <td>[nan]</td>\n",
              "      <td>[nan]</td>\n",
              "    </tr>\n",
              "  </tbody>\n",
              "</table>\n",
              "<p>6000 rows × 31 columns</p>\n",
              "</div>"
            ],
            "text/plain": [
              "      Unnamed: 0      0      1      2      3  ...     25     26     27     28     29\n",
              "0              0  [nan]  [nan]  [nan]  [nan]  ...  [nan]  [nan]  [nan]  [nan]  [nan]\n",
              "1              1  [nan]  [nan]  [nan]  [nan]  ...  [nan]  [nan]  [nan]  [nan]  [nan]\n",
              "2              2  [nan]  [nan]  [nan]  [nan]  ...  [nan]  [nan]  [nan]  [nan]  [nan]\n",
              "3              3  [nan]  [nan]  [nan]  [nan]  ...  [nan]  [nan]  [nan]  [nan]  [nan]\n",
              "4              4  [nan]  [nan]  [nan]  [nan]  ...  [nan]  [nan]  [nan]  [nan]  [nan]\n",
              "...          ...    ...    ...    ...    ...  ...    ...    ...    ...    ...    ...\n",
              "5995        5995  [nan]  [nan]  [nan]  [nan]  ...  [nan]  [nan]  [nan]  [nan]  [nan]\n",
              "5996        5996  [nan]  [nan]  [nan]  [nan]  ...  [nan]  [nan]  [nan]  [nan]  [nan]\n",
              "5997        5997  [nan]  [nan]  [nan]  [nan]  ...  [nan]  [nan]  [nan]  [nan]  [nan]\n",
              "5998        5998  [nan]  [nan]  [nan]  [nan]  ...  [nan]  [nan]  [nan]  [nan]  [nan]\n",
              "5999        5999  [nan]  [nan]  [nan]  [nan]  ...  [nan]  [nan]  [nan]  [nan]  [nan]\n",
              "\n",
              "[6000 rows x 31 columns]"
            ]
          },
          "metadata": {
            "tags": []
          },
          "execution_count": 7
        }
      ]
    },
    {
      "cell_type": "code",
      "metadata": {
        "id": "hOqKAy5QnSt-",
        "colab_type": "code",
        "colab": {
          "base_uri": "https://localhost:8080/",
          "height": 438
        },
        "outputId": "9b5968fd-b3af-499b-8628-1466debdc07f"
      },
      "source": [
        "data2"
      ],
      "execution_count": null,
      "outputs": [
        {
          "output_type": "execute_result",
          "data": {
            "text/html": [
              "<div>\n",
              "<style scoped>\n",
              "    .dataframe tbody tr th:only-of-type {\n",
              "        vertical-align: middle;\n",
              "    }\n",
              "\n",
              "    .dataframe tbody tr th {\n",
              "        vertical-align: top;\n",
              "    }\n",
              "\n",
              "    .dataframe thead th {\n",
              "        text-align: right;\n",
              "    }\n",
              "</style>\n",
              "<table border=\"1\" class=\"dataframe\">\n",
              "  <thead>\n",
              "    <tr style=\"text-align: right;\">\n",
              "      <th></th>\n",
              "      <th>Unnamed: 0</th>\n",
              "      <th>0</th>\n",
              "      <th>1</th>\n",
              "      <th>2</th>\n",
              "      <th>3</th>\n",
              "      <th>4</th>\n",
              "      <th>5</th>\n",
              "      <th>6</th>\n",
              "      <th>7</th>\n",
              "      <th>8</th>\n",
              "      <th>9</th>\n",
              "      <th>10</th>\n",
              "      <th>11</th>\n",
              "      <th>12</th>\n",
              "      <th>13</th>\n",
              "      <th>14</th>\n",
              "      <th>15</th>\n",
              "      <th>16</th>\n",
              "      <th>17</th>\n",
              "      <th>18</th>\n",
              "      <th>19</th>\n",
              "      <th>20</th>\n",
              "      <th>21</th>\n",
              "      <th>22</th>\n",
              "      <th>23</th>\n",
              "      <th>24</th>\n",
              "      <th>25</th>\n",
              "      <th>26</th>\n",
              "      <th>27</th>\n",
              "      <th>28</th>\n",
              "      <th>29</th>\n",
              "    </tr>\n",
              "  </thead>\n",
              "  <tbody>\n",
              "    <tr>\n",
              "      <th>0</th>\n",
              "      <td>0</td>\n",
              "      <td>[nan]</td>\n",
              "      <td>[nan]</td>\n",
              "      <td>[nan]</td>\n",
              "      <td>[nan]</td>\n",
              "      <td>[nan]</td>\n",
              "      <td>[nan]</td>\n",
              "      <td>[nan]</td>\n",
              "      <td>[nan]</td>\n",
              "      <td>[nan]</td>\n",
              "      <td>[nan]</td>\n",
              "      <td>[nan]</td>\n",
              "      <td>[nan]</td>\n",
              "      <td>[nan]</td>\n",
              "      <td>[nan]</td>\n",
              "      <td>[nan]</td>\n",
              "      <td>[nan]</td>\n",
              "      <td>[nan]</td>\n",
              "      <td>[nan]</td>\n",
              "      <td>[nan]</td>\n",
              "      <td>[nan]</td>\n",
              "      <td>[nan]</td>\n",
              "      <td>[nan]</td>\n",
              "      <td>[nan]</td>\n",
              "      <td>[nan]</td>\n",
              "      <td>[nan]</td>\n",
              "      <td>[nan]</td>\n",
              "      <td>[nan]</td>\n",
              "      <td>[nan]</td>\n",
              "      <td>[nan]</td>\n",
              "      <td>[nan]</td>\n",
              "    </tr>\n",
              "    <tr>\n",
              "      <th>1</th>\n",
              "      <td>1</td>\n",
              "      <td>[nan]</td>\n",
              "      <td>[nan]</td>\n",
              "      <td>[nan]</td>\n",
              "      <td>[nan]</td>\n",
              "      <td>[nan]</td>\n",
              "      <td>[nan]</td>\n",
              "      <td>[nan]</td>\n",
              "      <td>[nan]</td>\n",
              "      <td>[nan]</td>\n",
              "      <td>[nan]</td>\n",
              "      <td>[nan]</td>\n",
              "      <td>[nan]</td>\n",
              "      <td>[nan]</td>\n",
              "      <td>[nan]</td>\n",
              "      <td>[nan]</td>\n",
              "      <td>[nan]</td>\n",
              "      <td>[nan]</td>\n",
              "      <td>[nan]</td>\n",
              "      <td>[nan]</td>\n",
              "      <td>[nan]</td>\n",
              "      <td>[nan]</td>\n",
              "      <td>[nan]</td>\n",
              "      <td>[nan]</td>\n",
              "      <td>[nan]</td>\n",
              "      <td>[nan]</td>\n",
              "      <td>[nan]</td>\n",
              "      <td>[nan]</td>\n",
              "      <td>[nan]</td>\n",
              "      <td>[nan]</td>\n",
              "      <td>[nan]</td>\n",
              "    </tr>\n",
              "    <tr>\n",
              "      <th>2</th>\n",
              "      <td>2</td>\n",
              "      <td>[nan]</td>\n",
              "      <td>[nan]</td>\n",
              "      <td>[nan]</td>\n",
              "      <td>[nan]</td>\n",
              "      <td>[nan]</td>\n",
              "      <td>[nan]</td>\n",
              "      <td>[nan]</td>\n",
              "      <td>[nan]</td>\n",
              "      <td>[nan]</td>\n",
              "      <td>[nan]</td>\n",
              "      <td>[nan]</td>\n",
              "      <td>[nan]</td>\n",
              "      <td>[nan]</td>\n",
              "      <td>[nan]</td>\n",
              "      <td>[nan]</td>\n",
              "      <td>[nan]</td>\n",
              "      <td>[nan]</td>\n",
              "      <td>[nan]</td>\n",
              "      <td>[nan]</td>\n",
              "      <td>[nan]</td>\n",
              "      <td>[nan]</td>\n",
              "      <td>[nan]</td>\n",
              "      <td>[nan]</td>\n",
              "      <td>[nan]</td>\n",
              "      <td>[nan]</td>\n",
              "      <td>[nan]</td>\n",
              "      <td>[nan]</td>\n",
              "      <td>[nan]</td>\n",
              "      <td>[nan]</td>\n",
              "      <td>[nan]</td>\n",
              "    </tr>\n",
              "    <tr>\n",
              "      <th>3</th>\n",
              "      <td>3</td>\n",
              "      <td>[nan]</td>\n",
              "      <td>[nan]</td>\n",
              "      <td>[nan]</td>\n",
              "      <td>[nan]</td>\n",
              "      <td>[nan]</td>\n",
              "      <td>[nan]</td>\n",
              "      <td>[nan]</td>\n",
              "      <td>[nan]</td>\n",
              "      <td>[nan]</td>\n",
              "      <td>[nan]</td>\n",
              "      <td>[nan]</td>\n",
              "      <td>[nan]</td>\n",
              "      <td>[nan]</td>\n",
              "      <td>[nan]</td>\n",
              "      <td>[nan]</td>\n",
              "      <td>[nan]</td>\n",
              "      <td>[nan]</td>\n",
              "      <td>[nan]</td>\n",
              "      <td>[nan]</td>\n",
              "      <td>[nan]</td>\n",
              "      <td>[nan]</td>\n",
              "      <td>[nan]</td>\n",
              "      <td>[nan]</td>\n",
              "      <td>[nan]</td>\n",
              "      <td>[nan]</td>\n",
              "      <td>[nan]</td>\n",
              "      <td>[nan]</td>\n",
              "      <td>[nan]</td>\n",
              "      <td>[nan]</td>\n",
              "      <td>[nan]</td>\n",
              "    </tr>\n",
              "    <tr>\n",
              "      <th>4</th>\n",
              "      <td>4</td>\n",
              "      <td>[nan]</td>\n",
              "      <td>[nan]</td>\n",
              "      <td>[nan]</td>\n",
              "      <td>[nan]</td>\n",
              "      <td>[nan]</td>\n",
              "      <td>[nan]</td>\n",
              "      <td>[nan]</td>\n",
              "      <td>[nan]</td>\n",
              "      <td>[nan]</td>\n",
              "      <td>[nan]</td>\n",
              "      <td>[nan]</td>\n",
              "      <td>[nan]</td>\n",
              "      <td>[nan]</td>\n",
              "      <td>[nan]</td>\n",
              "      <td>[nan]</td>\n",
              "      <td>[nan]</td>\n",
              "      <td>[nan]</td>\n",
              "      <td>[nan]</td>\n",
              "      <td>[nan]</td>\n",
              "      <td>[nan]</td>\n",
              "      <td>[nan]</td>\n",
              "      <td>[nan]</td>\n",
              "      <td>[nan]</td>\n",
              "      <td>[nan]</td>\n",
              "      <td>[nan]</td>\n",
              "      <td>[nan]</td>\n",
              "      <td>[nan]</td>\n",
              "      <td>[nan]</td>\n",
              "      <td>[nan]</td>\n",
              "      <td>[nan]</td>\n",
              "    </tr>\n",
              "    <tr>\n",
              "      <th>...</th>\n",
              "      <td>...</td>\n",
              "      <td>...</td>\n",
              "      <td>...</td>\n",
              "      <td>...</td>\n",
              "      <td>...</td>\n",
              "      <td>...</td>\n",
              "      <td>...</td>\n",
              "      <td>...</td>\n",
              "      <td>...</td>\n",
              "      <td>...</td>\n",
              "      <td>...</td>\n",
              "      <td>...</td>\n",
              "      <td>...</td>\n",
              "      <td>...</td>\n",
              "      <td>...</td>\n",
              "      <td>...</td>\n",
              "      <td>...</td>\n",
              "      <td>...</td>\n",
              "      <td>...</td>\n",
              "      <td>...</td>\n",
              "      <td>...</td>\n",
              "      <td>...</td>\n",
              "      <td>...</td>\n",
              "      <td>...</td>\n",
              "      <td>...</td>\n",
              "      <td>...</td>\n",
              "      <td>...</td>\n",
              "      <td>...</td>\n",
              "      <td>...</td>\n",
              "      <td>...</td>\n",
              "      <td>...</td>\n",
              "    </tr>\n",
              "    <tr>\n",
              "      <th>5995</th>\n",
              "      <td>5995</td>\n",
              "      <td>[416.23153687]</td>\n",
              "      <td>[825.04095459]</td>\n",
              "      <td>[1143.97399902]</td>\n",
              "      <td>[1042.24536133]</td>\n",
              "      <td>[1438.76867676]</td>\n",
              "      <td>[830.47747803]</td>\n",
              "      <td>[1126.203125]</td>\n",
              "      <td>[1782.72167969]</td>\n",
              "      <td>[2622.57055664]</td>\n",
              "      <td>[2305.88037109]</td>\n",
              "      <td>[1023.50183105]</td>\n",
              "      <td>[305.89453125]</td>\n",
              "      <td>[747.35089111]</td>\n",
              "      <td>[1601.68688965]</td>\n",
              "      <td>[2181.21728516]</td>\n",
              "      <td>[231.62591553]</td>\n",
              "      <td>[1099.11535645]</td>\n",
              "      <td>[1340.1619873]</td>\n",
              "      <td>[2174.22387695]</td>\n",
              "      <td>[3865.67382812]</td>\n",
              "      <td>[1735.83190918]</td>\n",
              "      <td>[1718.70629883]</td>\n",
              "      <td>[3197.78588867]</td>\n",
              "      <td>[1575.38806152]</td>\n",
              "      <td>[426.02990723]</td>\n",
              "      <td>[2452.77905273]</td>\n",
              "      <td>[2340.95727539]</td>\n",
              "      <td>[906.98712158]</td>\n",
              "      <td>[2493.20263672]</td>\n",
              "      <td>[394.09628296]</td>\n",
              "    </tr>\n",
              "    <tr>\n",
              "      <th>5996</th>\n",
              "      <td>5996</td>\n",
              "      <td>[402.73580933]</td>\n",
              "      <td>[803.92364502]</td>\n",
              "      <td>[1193.29321289]</td>\n",
              "      <td>[969.6953125]</td>\n",
              "      <td>[1518.57250977]</td>\n",
              "      <td>[828.03771973]</td>\n",
              "      <td>[1074.75915527]</td>\n",
              "      <td>[1754.50354004]</td>\n",
              "      <td>[2643.42407227]</td>\n",
              "      <td>[2172.56762695]</td>\n",
              "      <td>[887.85803223]</td>\n",
              "      <td>[311.8598938]</td>\n",
              "      <td>[712.38439941]</td>\n",
              "      <td>[1709.81677246]</td>\n",
              "      <td>[2055.14892578]</td>\n",
              "      <td>[237.51646423]</td>\n",
              "      <td>[987.53704834]</td>\n",
              "      <td>[1249.9810791]</td>\n",
              "      <td>[2170.64941406]</td>\n",
              "      <td>[3733.84033203]</td>\n",
              "      <td>[1693.75036621]</td>\n",
              "      <td>[1724.89587402]</td>\n",
              "      <td>[3127.70336914]</td>\n",
              "      <td>[1551.04980469]</td>\n",
              "      <td>[459.69076538]</td>\n",
              "      <td>[2480.4753418]</td>\n",
              "      <td>[2323.99316406]</td>\n",
              "      <td>[936.87329102]</td>\n",
              "      <td>[2465.34008789]</td>\n",
              "      <td>[385.12402344]</td>\n",
              "    </tr>\n",
              "    <tr>\n",
              "      <th>5997</th>\n",
              "      <td>5997</td>\n",
              "      <td>[413.92041016]</td>\n",
              "      <td>[828.21203613]</td>\n",
              "      <td>[1239.5645752]</td>\n",
              "      <td>[927.88397217]</td>\n",
              "      <td>[1902.62084961]</td>\n",
              "      <td>[812.0213623]</td>\n",
              "      <td>[1027.55273438]</td>\n",
              "      <td>[1778.65319824]</td>\n",
              "      <td>[2496.1965332]</td>\n",
              "      <td>[2096.90332031]</td>\n",
              "      <td>[827.80053711]</td>\n",
              "      <td>[304.79541016]</td>\n",
              "      <td>[724.58380127]</td>\n",
              "      <td>[1913.93457031]</td>\n",
              "      <td>[2038.7088623]</td>\n",
              "      <td>[247.87625122]</td>\n",
              "      <td>[862.36096191]</td>\n",
              "      <td>[1120.80505371]</td>\n",
              "      <td>[2171.56787109]</td>\n",
              "      <td>[3871.71728516]</td>\n",
              "      <td>[1732.9744873]</td>\n",
              "      <td>[1763.14440918]</td>\n",
              "      <td>[3073.82714844]</td>\n",
              "      <td>[1494.19311523]</td>\n",
              "      <td>[474.668396]</td>\n",
              "      <td>[2472.29125977]</td>\n",
              "      <td>[2299.73510742]</td>\n",
              "      <td>[944.06469727]</td>\n",
              "      <td>[2522.08984375]</td>\n",
              "      <td>[382.6217041]</td>\n",
              "    </tr>\n",
              "    <tr>\n",
              "      <th>5998</th>\n",
              "      <td>5998</td>\n",
              "      <td>[416.3175354]</td>\n",
              "      <td>[908.11816406]</td>\n",
              "      <td>[1240.70239258]</td>\n",
              "      <td>[985.53051758]</td>\n",
              "      <td>[1938.81005859]</td>\n",
              "      <td>[776.81048584]</td>\n",
              "      <td>[1025.52307129]</td>\n",
              "      <td>[1757.63708496]</td>\n",
              "      <td>[2315.24926758]</td>\n",
              "      <td>[2140.48217773]</td>\n",
              "      <td>[773.82202148]</td>\n",
              "      <td>[275.09115601]</td>\n",
              "      <td>[835.48748779]</td>\n",
              "      <td>[2066.54638672]</td>\n",
              "      <td>[2106.50244141]</td>\n",
              "      <td>[253.16690063]</td>\n",
              "      <td>[744.78460693]</td>\n",
              "      <td>[1006.38092041]</td>\n",
              "      <td>[2252.80322266]</td>\n",
              "      <td>[4094.9375]</td>\n",
              "      <td>[1723.6739502]</td>\n",
              "      <td>[1788.4786377]</td>\n",
              "      <td>[3115.38671875]</td>\n",
              "      <td>[1448.8371582]</td>\n",
              "      <td>[475.77740479]</td>\n",
              "      <td>[2436.72045898]</td>\n",
              "      <td>[2317.12915039]</td>\n",
              "      <td>[947.88067627]</td>\n",
              "      <td>[2611.02172852]</td>\n",
              "      <td>[377.19198608]</td>\n",
              "    </tr>\n",
              "    <tr>\n",
              "      <th>5999</th>\n",
              "      <td>5999</td>\n",
              "      <td>[nan]</td>\n",
              "      <td>[nan]</td>\n",
              "      <td>[nan]</td>\n",
              "      <td>[nan]</td>\n",
              "      <td>[nan]</td>\n",
              "      <td>[nan]</td>\n",
              "      <td>[nan]</td>\n",
              "      <td>[nan]</td>\n",
              "      <td>[nan]</td>\n",
              "      <td>[nan]</td>\n",
              "      <td>[nan]</td>\n",
              "      <td>[nan]</td>\n",
              "      <td>[nan]</td>\n",
              "      <td>[nan]</td>\n",
              "      <td>[nan]</td>\n",
              "      <td>[nan]</td>\n",
              "      <td>[nan]</td>\n",
              "      <td>[nan]</td>\n",
              "      <td>[nan]</td>\n",
              "      <td>[nan]</td>\n",
              "      <td>[nan]</td>\n",
              "      <td>[nan]</td>\n",
              "      <td>[nan]</td>\n",
              "      <td>[nan]</td>\n",
              "      <td>[nan]</td>\n",
              "      <td>[nan]</td>\n",
              "      <td>[nan]</td>\n",
              "      <td>[nan]</td>\n",
              "      <td>[nan]</td>\n",
              "      <td>[nan]</td>\n",
              "    </tr>\n",
              "  </tbody>\n",
              "</table>\n",
              "<p>6000 rows × 31 columns</p>\n",
              "</div>"
            ],
            "text/plain": [
              "      Unnamed: 0               0  ...               28              29\n",
              "0              0           [nan]  ...            [nan]           [nan]\n",
              "1              1           [nan]  ...            [nan]           [nan]\n",
              "2              2           [nan]  ...            [nan]           [nan]\n",
              "3              3           [nan]  ...            [nan]           [nan]\n",
              "4              4           [nan]  ...            [nan]           [nan]\n",
              "...          ...             ...  ...              ...             ...\n",
              "5995        5995  [416.23153687]  ...  [2493.20263672]  [394.09628296]\n",
              "5996        5996  [402.73580933]  ...  [2465.34008789]  [385.12402344]\n",
              "5997        5997  [413.92041016]  ...  [2522.08984375]   [382.6217041]\n",
              "5998        5998   [416.3175354]  ...  [2611.02172852]  [377.19198608]\n",
              "5999        5999           [nan]  ...            [nan]           [nan]\n",
              "\n",
              "[6000 rows x 31 columns]"
            ]
          },
          "metadata": {
            "tags": []
          },
          "execution_count": 8
        }
      ]
    },
    {
      "cell_type": "code",
      "metadata": {
        "id": "PjYidBZOPhvT",
        "colab_type": "code",
        "colab": {}
      },
      "source": [
        "# df[str(0)]"
      ],
      "execution_count": null,
      "outputs": []
    },
    {
      "cell_type": "code",
      "metadata": {
        "id": "jbR9tZqdPiyF",
        "colab_type": "code",
        "colab": {}
      },
      "source": [
        "# df[0]"
      ],
      "execution_count": null,
      "outputs": []
    },
    {
      "cell_type": "code",
      "metadata": {
        "id": "YRjlqjiFQMsc",
        "colab_type": "code",
        "colab": {}
      },
      "source": [
        "  testPredictPlot = np.empty_like(dataset)\n",
        "  testPredictPlot[:, :] = np.nan\n",
        "  testPredictPlot[len(trainPredict)+(look_back*2)+1:len(dataset)-1, :] = testPredict\n",
        "  # ff.append(testScore)\n"
      ],
      "execution_count": null,
      "outputs": []
    },
    {
      "cell_type": "code",
      "metadata": {
        "id": "5xBdkjrsSqiK",
        "colab_type": "code",
        "colab": {}
      },
      "source": [
        "d=[]\n"
      ],
      "execution_count": null,
      "outputs": []
    },
    {
      "cell_type": "code",
      "metadata": {
        "id": "_Cl81VYCSqf_",
        "colab_type": "code",
        "colab": {}
      },
      "source": [
        "d1=np.array(data1)\n",
        "d2=np.array(data2)\n"
      ],
      "execution_count": null,
      "outputs": []
    },
    {
      "cell_type": "code",
      "metadata": {
        "id": "SdRDdMpOSqak",
        "colab_type": "code",
        "colab": {}
      },
      "source": [
        "d=d1"
      ],
      "execution_count": null,
      "outputs": []
    },
    {
      "cell_type": "code",
      "metadata": {
        "id": "YenX6VlnSqNx",
        "colab_type": "code",
        "colab": {}
      },
      "source": [
        "d[4870:5999,:]=d2[4870:5999,:]"
      ],
      "execution_count": null,
      "outputs": []
    },
    {
      "cell_type": "code",
      "metadata": {
        "id": "PMvk8pD1TTg5",
        "colab_type": "code",
        "colab": {}
      },
      "source": [
        ""
      ],
      "execution_count": null,
      "outputs": []
    },
    {
      "cell_type": "code",
      "metadata": {
        "id": "3QfDPaOMTTeV",
        "colab_type": "code",
        "colab": {
          "base_uri": "https://localhost:8080/",
          "height": 474
        },
        "outputId": "b3be9f3a-b8c2-4a21-e543-ae4d14a60ac8"
      },
      "source": [
        "np.savetxt(\"/content/gdrive/My Drive/Colab Notebooks/all_predict.csv\", list(d))\n"
      ],
      "execution_count": null,
      "outputs": [
        {
          "output_type": "error",
          "ename": "TypeError",
          "evalue": "ignored",
          "traceback": [
            "\u001b[0;31m---------------------------------------------------------------------------\u001b[0m",
            "\u001b[0;31mTypeError\u001b[0m                                 Traceback (most recent call last)",
            "\u001b[0;32m/usr/local/lib/python3.6/dist-packages/numpy/lib/npyio.py\u001b[0m in \u001b[0;36msavetxt\u001b[0;34m(fname, X, fmt, delimiter, newline, header, footer, comments, encoding)\u001b[0m\n\u001b[1;32m   1433\u001b[0m                 \u001b[0;32mtry\u001b[0m\u001b[0;34m:\u001b[0m\u001b[0;34m\u001b[0m\u001b[0;34m\u001b[0m\u001b[0m\n\u001b[0;32m-> 1434\u001b[0;31m                     \u001b[0mv\u001b[0m \u001b[0;34m=\u001b[0m \u001b[0mformat\u001b[0m \u001b[0;34m%\u001b[0m \u001b[0mtuple\u001b[0m\u001b[0;34m(\u001b[0m\u001b[0mrow\u001b[0m\u001b[0;34m)\u001b[0m \u001b[0;34m+\u001b[0m \u001b[0mnewline\u001b[0m\u001b[0;34m\u001b[0m\u001b[0;34m\u001b[0m\u001b[0m\n\u001b[0m\u001b[1;32m   1435\u001b[0m                 \u001b[0;32mexcept\u001b[0m \u001b[0mTypeError\u001b[0m\u001b[0;34m:\u001b[0m\u001b[0;34m\u001b[0m\u001b[0;34m\u001b[0m\u001b[0m\n",
            "\u001b[0;31mTypeError\u001b[0m: must be real number, not str",
            "\nDuring handling of the above exception, another exception occurred:\n",
            "\u001b[0;31mTypeError\u001b[0m                                 Traceback (most recent call last)",
            "\u001b[0;32m<ipython-input-22-239dca827abb>\u001b[0m in \u001b[0;36m<module>\u001b[0;34m()\u001b[0m\n\u001b[0;32m----> 1\u001b[0;31m \u001b[0mnp\u001b[0m\u001b[0;34m.\u001b[0m\u001b[0msavetxt\u001b[0m\u001b[0;34m(\u001b[0m\u001b[0;34m\"/content/gdrive/My Drive/Colab Notebooks/all_predict.csv\"\u001b[0m\u001b[0;34m,\u001b[0m \u001b[0mlist\u001b[0m\u001b[0;34m(\u001b[0m\u001b[0md\u001b[0m\u001b[0;34m)\u001b[0m\u001b[0;34m)\u001b[0m\u001b[0;34m\u001b[0m\u001b[0;34m\u001b[0m\u001b[0m\n\u001b[0m",
            "\u001b[0;32m<__array_function__ internals>\u001b[0m in \u001b[0;36msavetxt\u001b[0;34m(*args, **kwargs)\u001b[0m\n",
            "\u001b[0;32m/usr/local/lib/python3.6/dist-packages/numpy/lib/npyio.py\u001b[0m in \u001b[0;36msavetxt\u001b[0;34m(fname, X, fmt, delimiter, newline, header, footer, comments, encoding)\u001b[0m\n\u001b[1;32m   1436\u001b[0m                     raise TypeError(\"Mismatch between array dtype ('%s') and \"\n\u001b[1;32m   1437\u001b[0m                                     \u001b[0;34m\"format specifier ('%s')\"\u001b[0m\u001b[0;34m\u001b[0m\u001b[0;34m\u001b[0m\u001b[0m\n\u001b[0;32m-> 1438\u001b[0;31m                                     % (str(X.dtype), format))\n\u001b[0m\u001b[1;32m   1439\u001b[0m                 \u001b[0mfh\u001b[0m\u001b[0;34m.\u001b[0m\u001b[0mwrite\u001b[0m\u001b[0;34m(\u001b[0m\u001b[0mv\u001b[0m\u001b[0;34m)\u001b[0m\u001b[0;34m\u001b[0m\u001b[0;34m\u001b[0m\u001b[0m\n\u001b[1;32m   1440\u001b[0m \u001b[0;34m\u001b[0m\u001b[0m\n",
            "\u001b[0;31mTypeError\u001b[0m: Mismatch between array dtype ('object') and format specifier ('%.18e %.18e %.18e %.18e %.18e %.18e %.18e %.18e %.18e %.18e %.18e %.18e %.18e %.18e %.18e %.18e %.18e %.18e %.18e %.18e %.18e %.18e %.18e %.18e %.18e %.18e %.18e %.18e %.18e %.18e %.18e')"
          ]
        }
      ]
    },
    {
      "cell_type": "code",
      "metadata": {
        "id": "xqIwgIa1TTdK",
        "colab_type": "code",
        "colab": {
          "base_uri": "https://localhost:8080/",
          "height": 34
        },
        "outputId": "20375901-37ff-409b-8e2f-ea1ab701849b"
      },
      "source": [
        "type(d)"
      ],
      "execution_count": null,
      "outputs": [
        {
          "output_type": "execute_result",
          "data": {
            "text/plain": [
              "numpy.ndarray"
            ]
          },
          "metadata": {
            "tags": []
          },
          "execution_count": 19
        }
      ]
    },
    {
      "cell_type": "code",
      "metadata": {
        "id": "ErlnR91tTTb1",
        "colab_type": "code",
        "colab": {
          "base_uri": "https://localhost:8080/",
          "height": 34
        },
        "outputId": "2d1ec7ec-69e4-4e07-bcf4-8e406b991da8"
      },
      "source": [
        "d.shape"
      ],
      "execution_count": null,
      "outputs": [
        {
          "output_type": "execute_result",
          "data": {
            "text/plain": [
              "(6000, 31)"
            ]
          },
          "metadata": {
            "tags": []
          },
          "execution_count": 13
        }
      ]
    },
    {
      "cell_type": "code",
      "metadata": {
        "id": "fGZyD0NcTTaf",
        "colab_type": "code",
        "colab": {
          "base_uri": "https://localhost:8080/",
          "height": 34
        },
        "outputId": "fcd63ea5-9b89-428f-963a-5180cfe00665"
      },
      "source": [
        "d2[4832,1]"
      ],
      "execution_count": null,
      "outputs": [
        {
          "output_type": "execute_result",
          "data": {
            "text/plain": [
              "'[nan]'"
            ]
          },
          "metadata": {
            "tags": []
          },
          "execution_count": 15
        }
      ]
    },
    {
      "cell_type": "code",
      "metadata": {
        "id": "z5Wgo1TmTTW9",
        "colab_type": "code",
        "colab": {
          "base_uri": "https://localhost:8080/",
          "height": 185
        },
        "outputId": "2613f7ad-3247-48e5-a1b2-752a803231ba"
      },
      "source": [
        "d"
      ],
      "execution_count": null,
      "outputs": [
        {
          "output_type": "execute_result",
          "data": {
            "text/plain": [
              "array([[0, '[nan]', '[nan]', ..., '[nan]', '[nan]', '[nan]'],\n",
              "       [1, '[nan]', '[nan]', ..., '[nan]', '[nan]', '[nan]'],\n",
              "       [2, '[nan]', '[nan]', ..., '[nan]', '[nan]', '[nan]'],\n",
              "       ...,\n",
              "       [5997, '[413.92041016]', '[828.21203613]', ..., '[944.06469727]',\n",
              "        '[2522.08984375]', '[382.6217041]'],\n",
              "       [5998, '[416.3175354]', '[908.11816406]', ..., '[947.88067627]',\n",
              "        '[2611.02172852]', '[377.19198608]'],\n",
              "       [5999, '[nan]', '[nan]', ..., '[nan]', '[nan]', '[nan]']],\n",
              "      dtype=object)"
            ]
          },
          "metadata": {
            "tags": []
          },
          "execution_count": 21
        }
      ]
    },
    {
      "cell_type": "code",
      "metadata": {
        "id": "l5K-inFATTR9",
        "colab_type": "code",
        "colab": {}
      },
      "source": [
        "df=pd.DataFrame(d)"
      ],
      "execution_count": null,
      "outputs": []
    },
    {
      "cell_type": "code",
      "metadata": {
        "id": "4_zN1WIYVEta",
        "colab_type": "code",
        "colab": {}
      },
      "source": [
        "df.to_csv('/content/gdrive/My Drive/Colab Notebooks/all_predct.csv')\n"
      ],
      "execution_count": null,
      "outputs": []
    },
    {
      "cell_type": "code",
      "metadata": {
        "id": "vG2xumiJVQQr",
        "colab_type": "code",
        "colab": {}
      },
      "source": [
        ""
      ],
      "execution_count": null,
      "outputs": []
    },
    {
      "cell_type": "code",
      "metadata": {
        "id": "DSjtEFDyWVJq",
        "colab_type": "code",
        "colab": {}
      },
      "source": [
        ""
      ],
      "execution_count": null,
      "outputs": []
    },
    {
      "cell_type": "code",
      "metadata": {
        "id": "VHX83Y6UbuVg",
        "colab_type": "code",
        "colab": {}
      },
      "source": [
        ""
      ],
      "execution_count": null,
      "outputs": []
    },
    {
      "cell_type": "code",
      "metadata": {
        "id": "k9sf2ddyWVFa",
        "colab_type": "code",
        "colab": {}
      },
      "source": [
        "dd=np.genfromtxt('/content/gdrive/My Drive/Colab Notebooks/all_predict.csv')\n"
      ],
      "execution_count": null,
      "outputs": []
    },
    {
      "cell_type": "code",
      "metadata": {
        "id": "-ZGx7EB2WVAm",
        "colab_type": "code",
        "colab": {
          "base_uri": "https://localhost:8080/",
          "height": 34
        },
        "outputId": "c784873f-f1da-4c3e-f693-f6adac71c578"
      },
      "source": [
        "dd.dtype"
      ],
      "execution_count": null,
      "outputs": [
        {
          "output_type": "execute_result",
          "data": {
            "text/plain": [
              "dtype('float64')"
            ]
          },
          "metadata": {
            "tags": []
          },
          "execution_count": 35
        }
      ]
    },
    {
      "cell_type": "code",
      "metadata": {
        "id": "VqEBQJ7YuguN",
        "colab_type": "code",
        "colab": {}
      },
      "source": [
        "from google.colab import drive\n",
        "drive.mount('/content/drive')"
      ],
      "execution_count": null,
      "outputs": []
    },
    {
      "cell_type": "code",
      "metadata": {
        "id": "uPmRZYW-Wv2c",
        "colab_type": "code",
        "colab": {}
      },
      "source": [
        "np.savetxt('/content/gdrive/My Drive/Colab Notebooks/all_predict1.txt', dd, newline=\" \")   # X is an array\n"
      ],
      "execution_count": null,
      "outputs": []
    },
    {
      "cell_type": "code",
      "metadata": {
        "id": "8doIiiBhcTuN",
        "colab_type": "code",
        "colab": {}
      },
      "source": [
        "import numpy as np\n",
        "import scipy.io\n",
        "\n",
        "x = np.linspace(0, 2 * np.pi, 100)\n",
        "y = np.cos(x)\n",
        "\n",
        "scipy.io.savemat('test.mat', dict(x=x, y=y))\n"
      ],
      "execution_count": null,
      "outputs": []
    },
    {
      "cell_type": "code",
      "metadata": {
        "id": "IU0V6d_SwABs",
        "colab_type": "code",
        "colab": {}
      },
      "source": [
        "scipy.io.savemat('/content/gdrive/My Drive/Colab Notebooks/all_done.mat', dict(x=dd))"
      ],
      "execution_count": null,
      "outputs": []
    },
    {
      "cell_type": "code",
      "metadata": {
        "id": "16lCxTvIwIwg",
        "colab_type": "code",
        "colab": {}
      },
      "source": [
        "adict = {}\n",
        "adict['all_predict'] = dd\n",
        "scipy.io.savemat('/content/gdrive/My Drive/Colab Notebooks/all_done.mat', adict)\n"
      ],
      "execution_count": null,
      "outputs": []
    },
    {
      "cell_type": "code",
      "metadata": {
        "id": "97b3jA9yxCWH",
        "colab_type": "code",
        "colab": {
          "base_uri": "https://localhost:8080/",
          "height": 34
        },
        "outputId": "d257920a-cc09-42ca-9c01-96989c22f45c"
      },
      "source": [
        "dd.shape"
      ],
      "execution_count": null,
      "outputs": [
        {
          "output_type": "execute_result",
          "data": {
            "text/plain": [
              "(6001,)"
            ]
          },
          "metadata": {
            "tags": []
          },
          "execution_count": 63
        }
      ]
    },
    {
      "cell_type": "code",
      "metadata": {
        "id": "fyaVmdmixi-n",
        "colab_type": "code",
        "colab": {
          "base_uri": "https://localhost:8080/",
          "height": 34
        },
        "outputId": "03027978-ba21-4694-b037-209f747f2f75"
      },
      "source": [
        "dd"
      ],
      "execution_count": null,
      "outputs": [
        {
          "output_type": "execute_result",
          "data": {
            "text/plain": [
              "array([nan, nan, nan, ..., nan, nan, nan])"
            ]
          },
          "metadata": {
            "tags": []
          },
          "execution_count": 64
        }
      ]
    },
    {
      "cell_type": "code",
      "metadata": {
        "id": "zA_FVeFtyBft",
        "colab_type": "code",
        "colab": {}
      },
      "source": [
        "\n",
        "\n",
        "dd=pd.read_csv('/content/gdrive/My Drive/Colab Notebooks/all_predict.csv')\n"
      ],
      "execution_count": null,
      "outputs": []
    },
    {
      "cell_type": "code",
      "metadata": {
        "id": "OiLCBzaJyerf",
        "colab_type": "code",
        "colab": {
          "base_uri": "https://localhost:8080/",
          "height": 34
        },
        "outputId": "af7c18f8-0215-408d-f6c9-f3a8beb8ac04"
      },
      "source": [
        "dd.shape"
      ],
      "execution_count": null,
      "outputs": [
        {
          "output_type": "execute_result",
          "data": {
            "text/plain": [
              "(6000, 32)"
            ]
          },
          "metadata": {
            "tags": []
          },
          "execution_count": 66
        }
      ]
    },
    {
      "cell_type": "code",
      "metadata": {
        "id": "wnIwPuJMyf2s",
        "colab_type": "code",
        "colab": {}
      },
      "source": [
        "import pandas as pd\n",
        "import scipy.io\n",
        "# MyDataFrame = pd.read_csv('eeg.txt',sep=';',decimal='.')\n",
        "# truncDataFrame = MyDataFrame[0:1000] # reduce data size for test purposes\n",
        "scipy.io.savemat('/content/gdrive/My Drive/Colab Notebooks/all_is.mat', dd)\n"
      ],
      "execution_count": null,
      "outputs": []
    },
    {
      "cell_type": "code",
      "metadata": {
        "id": "xEvJ1crby7AD",
        "colab_type": "code",
        "colab": {}
      },
      "source": [
        "\n"
      ],
      "execution_count": null,
      "outputs": []
    }
  ]
}