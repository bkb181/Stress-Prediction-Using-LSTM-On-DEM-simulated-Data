{
  "nbformat": 4,
  "nbformat_minor": 0,
  "metadata": {
    "colab": {
      "name": "lstm grid search .ipynb",
      "provenance": [],
      "collapsed_sections": [],
      "toc_visible": true
    },
    "kernelspec": {
      "name": "python3",
      "display_name": "Python 3"
    },
    "accelerator": "TPU"
  },
  "cells": [
    {
      "cell_type": "code",
      "metadata": {
        "id": "trA_1DlVNWOs",
        "colab_type": "code",
        "colab": {
          "base_uri": "https://localhost:8080/",
          "height": 528
        },
        "outputId": "6cabda9e-4f07-49d7-f754-0102f4fbbbda"
      },
      "source": [
        "import numpy as np\n",
        "import matplotlib.pyplot as plt\n",
        "import pandas as pd\n",
        "from pandas import read_csv\n",
        "import math\n",
        "# from tensorflow import keras\n",
        "\n",
        "# from keras.models import Sequential\n",
        "from keras.layers import Dense\n",
        "from keras.layers import LSTM\n",
        "from sklearn.preprocessing import MinMaxScaler\n",
        "from sklearn.metrics import mean_squared_error\n",
        "from keras.layers.core import Dense, Activation, Dropout\n",
        "from matplotlib.pyplot import figure\n",
        "# from tensorflow.keras import layers\n",
        "from sklearn.model_selection import GridSearchCV\n",
        "from sklearn.model_selection import GridSearchCV\n",
        "from keras.models import Sequential\n",
        "from keras.layers import Dense\n",
        "from keras.wrappers.scikit_learn import KerasClassifier\n",
        "# Use scikit-learn to grid search the dropout rate\n",
        "import numpy\n",
        "from sklearn.model_selection import GridSearchCV\n",
        "# from tensorflow.keras.models import Sequential\n",
        "from keras.layers import Dense\n",
        "from keras.layers import Dropout\n",
        "from keras.wrappers.scikit_learn import KerasClassifier\n",
        "from keras.constraints import maxnorm\n",
        "import time #helper libraries\n",
        "\n",
        "# file is downloaded from finance.yahoo.com, 1.1.1997-1.1.2017\n",
        "# training data = 1.1.1997 - 1.1.2007\n",
        "# test data = 1.1.2007 - 1.1.2017\n",
        "# input_file=\"DIS.csv\"\n",
        "\n",
        "# convert an array of values into a dataset matrix\n",
        "def create_dataset(dataset, look_back=1):\n",
        "\tdataX, dataY = [], []\n",
        "\tfor i in range(len(dataset)-look_back-1):\n",
        "\t\ta = dataset[i:(i+look_back), 0]\n",
        "\t\tdataX.append(a)\n",
        "\t\tdataY.append(dataset[i + look_back, 0])\n",
        "\treturn np.array(dataX), np.array(dataY)\n",
        "\n",
        "# fix random seed for reproducibility\n",
        "np.random.seed(5)\n",
        "\n",
        "# load the dataset\n",
        "# df = read_csv(input_file, header=None, index_col=None, delimiter=',')\n",
        "\n",
        "# take close price column[5]\n"
      ],
      "execution_count": null,
      "outputs": [
        {
          "output_type": "stream",
          "text": [
            "Using TensorFlow backend.\n",
            "/usr/local/lib/python3.6/dist-packages/tensorflow/python/framework/dtypes.py:516: FutureWarning: Passing (type, 1) or '1type' as a synonym of type is deprecated; in a future version of numpy, it will be understood as (type, (1,)) / '(1,)type'.\n",
            "  _np_qint8 = np.dtype([(\"qint8\", np.int8, 1)])\n",
            "/usr/local/lib/python3.6/dist-packages/tensorflow/python/framework/dtypes.py:517: FutureWarning: Passing (type, 1) or '1type' as a synonym of type is deprecated; in a future version of numpy, it will be understood as (type, (1,)) / '(1,)type'.\n",
            "  _np_quint8 = np.dtype([(\"quint8\", np.uint8, 1)])\n",
            "/usr/local/lib/python3.6/dist-packages/tensorflow/python/framework/dtypes.py:518: FutureWarning: Passing (type, 1) or '1type' as a synonym of type is deprecated; in a future version of numpy, it will be understood as (type, (1,)) / '(1,)type'.\n",
            "  _np_qint16 = np.dtype([(\"qint16\", np.int16, 1)])\n",
            "/usr/local/lib/python3.6/dist-packages/tensorflow/python/framework/dtypes.py:519: FutureWarning: Passing (type, 1) or '1type' as a synonym of type is deprecated; in a future version of numpy, it will be understood as (type, (1,)) / '(1,)type'.\n",
            "  _np_quint16 = np.dtype([(\"quint16\", np.uint16, 1)])\n",
            "/usr/local/lib/python3.6/dist-packages/tensorflow/python/framework/dtypes.py:520: FutureWarning: Passing (type, 1) or '1type' as a synonym of type is deprecated; in a future version of numpy, it will be understood as (type, (1,)) / '(1,)type'.\n",
            "  _np_qint32 = np.dtype([(\"qint32\", np.int32, 1)])\n",
            "/usr/local/lib/python3.6/dist-packages/tensorflow/python/framework/dtypes.py:525: FutureWarning: Passing (type, 1) or '1type' as a synonym of type is deprecated; in a future version of numpy, it will be understood as (type, (1,)) / '(1,)type'.\n",
            "  np_resource = np.dtype([(\"resource\", np.ubyte, 1)])\n",
            "/usr/local/lib/python3.6/dist-packages/tensorboard/compat/tensorflow_stub/dtypes.py:541: FutureWarning: Passing (type, 1) or '1type' as a synonym of type is deprecated; in a future version of numpy, it will be understood as (type, (1,)) / '(1,)type'.\n",
            "  _np_qint8 = np.dtype([(\"qint8\", np.int8, 1)])\n",
            "/usr/local/lib/python3.6/dist-packages/tensorboard/compat/tensorflow_stub/dtypes.py:542: FutureWarning: Passing (type, 1) or '1type' as a synonym of type is deprecated; in a future version of numpy, it will be understood as (type, (1,)) / '(1,)type'.\n",
            "  _np_quint8 = np.dtype([(\"quint8\", np.uint8, 1)])\n",
            "/usr/local/lib/python3.6/dist-packages/tensorboard/compat/tensorflow_stub/dtypes.py:543: FutureWarning: Passing (type, 1) or '1type' as a synonym of type is deprecated; in a future version of numpy, it will be understood as (type, (1,)) / '(1,)type'.\n",
            "  _np_qint16 = np.dtype([(\"qint16\", np.int16, 1)])\n",
            "/usr/local/lib/python3.6/dist-packages/tensorboard/compat/tensorflow_stub/dtypes.py:544: FutureWarning: Passing (type, 1) or '1type' as a synonym of type is deprecated; in a future version of numpy, it will be understood as (type, (1,)) / '(1,)type'.\n",
            "  _np_quint16 = np.dtype([(\"quint16\", np.uint16, 1)])\n",
            "/usr/local/lib/python3.6/dist-packages/tensorboard/compat/tensorflow_stub/dtypes.py:545: FutureWarning: Passing (type, 1) or '1type' as a synonym of type is deprecated; in a future version of numpy, it will be understood as (type, (1,)) / '(1,)type'.\n",
            "  _np_qint32 = np.dtype([(\"qint32\", np.int32, 1)])\n",
            "/usr/local/lib/python3.6/dist-packages/tensorboard/compat/tensorflow_stub/dtypes.py:550: FutureWarning: Passing (type, 1) or '1type' as a synonym of type is deprecated; in a future version of numpy, it will be understood as (type, (1,)) / '(1,)type'.\n",
            "  np_resource = np.dtype([(\"resource\", np.ubyte, 1)])\n"
          ],
          "name": "stderr"
        },
        {
          "output_type": "display_data",
          "data": {
            "text/html": [
              "<p style=\"color: red;\">\n",
              "The default version of TensorFlow in Colab will switch to TensorFlow 2.x on the 27th of March, 2020.<br>\n",
              "We recommend you <a href=\"https://www.tensorflow.org/guide/migrate\" target=\"_blank\">upgrade</a> now\n",
              "or ensure your notebook will continue to use TensorFlow 1.x via the <code>%tensorflow_version 1.x</code> magic:\n",
              "<a href=\"https://colab.research.google.com/notebooks/tensorflow_version.ipynb\" target=\"_blank\">more info</a>.</p>\n"
            ],
            "text/plain": [
              "<IPython.core.display.HTML object>"
            ]
          },
          "metadata": {
            "tags": []
          }
        }
      ]
    },
    {
      "cell_type": "code",
      "metadata": {
        "id": "S23lWbhXNj8i",
        "colab_type": "code",
        "colab": {
          "base_uri": "https://localhost:8080/",
          "height": 35
        },
        "outputId": "35f68583-1c66-46f2-c43a-68b22f11376f"
      },
      "source": [
        "from google.colab import drive\n",
        "drive.mount('/content/drive')"
      ],
      "execution_count": null,
      "outputs": [
        {
          "output_type": "stream",
          "text": [
            "Drive already mounted at /content/drive; to attempt to forcibly remount, call drive.mount(\"/content/drive\", force_remount=True).\n"
          ],
          "name": "stdout"
        }
      ]
    },
    {
      "cell_type": "code",
      "metadata": {
        "id": "ub16L2TaNpak",
        "colab_type": "code",
        "colab": {}
      },
      "source": [
        "\n",
        "#  data=pd.read_csv(\"stress.csv\")\n",
        "# data=data.to_numpy()\n",
        "# data=np.genfromtxt('stress.csv',delimiter=',') # use this command to retrieve data in numpy form\n",
        "# data=np.genfromtxt('stress.csv',delimiter=',')\n",
        "\n",
        "# data=np.genfromtxt('/content/drive/My Drive/Colab Notebooks/final_basant.csv',delimiter=',')\n",
        "\n",
        "# data=np.genfromtxt('/content/drive/My Drive/Colab Notebooks/stress.csv',delimiter=',')\n",
        "\n",
        "data=np.genfromtxt('/content/drive/My Drive/Colab Notebooks/neighboured20.csv',delimiter=',')\n",
        "\n",
        "data=data.T"
      ],
      "execution_count": null,
      "outputs": []
    },
    {
      "cell_type": "code",
      "metadata": {
        "id": "HH_88BqcD1UL",
        "colab_type": "code",
        "colab": {}
      },
      "source": [
        "# data=np.genfromtxt('/content/Averaged_Non_zero_Data.csv',delimiter=',')\n"
      ],
      "execution_count": null,
      "outputs": []
    },
    {
      "cell_type": "code",
      "metadata": {
        "id": "n8z4axt8D1Ox",
        "colab_type": "code",
        "colab": {}
      },
      "source": [
        "# from keras.models import Sequential\n",
        "# !pip install keras==2.2.4\n"
      ],
      "execution_count": null,
      "outputs": []
    },
    {
      "cell_type": "code",
      "metadata": {
        "id": "XQMqkfQhD1Hf",
        "colab_type": "code",
        "colab": {}
      },
      "source": [
        ""
      ],
      "execution_count": null,
      "outputs": []
    },
    {
      "cell_type": "code",
      "metadata": {
        "id": "he1Op7yK6Uf9",
        "colab_type": "code",
        "colab": {}
      },
      "source": [
        "df=pd.DataFrame(data)"
      ],
      "execution_count": null,
      "outputs": []
    },
    {
      "cell_type": "code",
      "metadata": {
        "id": "ZaA-Kmzq6qNW",
        "colab_type": "code",
        "colab": {
          "base_uri": "https://localhost:8080/",
          "height": 35
        },
        "outputId": "c93fc466-6efd-410b-8d7b-5f05250aba32"
      },
      "source": [
        "df.shape"
      ],
      "execution_count": null,
      "outputs": [
        {
          "output_type": "execute_result",
          "data": {
            "text/plain": [
              "(331, 5001)"
            ]
          },
          "metadata": {
            "tags": []
          },
          "execution_count": 6
        }
      ]
    },
    {
      "cell_type": "code",
      "metadata": {
        "id": "SJmUpm9R6UXj",
        "colab_type": "code",
        "colab": {
          "base_uri": "https://localhost:8080/",
          "height": 243
        },
        "outputId": "324f6c5c-44ef-4bb2-9e28-ee0f18c7060c"
      },
      "source": [
        "df.head()"
      ],
      "execution_count": null,
      "outputs": [
        {
          "output_type": "execute_result",
          "data": {
            "text/html": [
              "<div>\n",
              "<style scoped>\n",
              "    .dataframe tbody tr th:only-of-type {\n",
              "        vertical-align: middle;\n",
              "    }\n",
              "\n",
              "    .dataframe tbody tr th {\n",
              "        vertical-align: top;\n",
              "    }\n",
              "\n",
              "    .dataframe thead th {\n",
              "        text-align: right;\n",
              "    }\n",
              "</style>\n",
              "<table border=\"1\" class=\"dataframe\">\n",
              "  <thead>\n",
              "    <tr style=\"text-align: right;\">\n",
              "      <th></th>\n",
              "      <th>0</th>\n",
              "      <th>1</th>\n",
              "      <th>2</th>\n",
              "      <th>3</th>\n",
              "      <th>4</th>\n",
              "      <th>5</th>\n",
              "      <th>6</th>\n",
              "      <th>7</th>\n",
              "      <th>8</th>\n",
              "      <th>9</th>\n",
              "      <th>10</th>\n",
              "      <th>11</th>\n",
              "      <th>12</th>\n",
              "      <th>13</th>\n",
              "      <th>14</th>\n",
              "      <th>15</th>\n",
              "      <th>16</th>\n",
              "      <th>17</th>\n",
              "      <th>18</th>\n",
              "      <th>19</th>\n",
              "      <th>20</th>\n",
              "      <th>21</th>\n",
              "      <th>22</th>\n",
              "      <th>23</th>\n",
              "      <th>24</th>\n",
              "      <th>25</th>\n",
              "      <th>26</th>\n",
              "      <th>27</th>\n",
              "      <th>28</th>\n",
              "      <th>29</th>\n",
              "      <th>30</th>\n",
              "      <th>31</th>\n",
              "      <th>32</th>\n",
              "      <th>33</th>\n",
              "      <th>34</th>\n",
              "      <th>35</th>\n",
              "      <th>36</th>\n",
              "      <th>37</th>\n",
              "      <th>38</th>\n",
              "      <th>39</th>\n",
              "      <th>...</th>\n",
              "      <th>4961</th>\n",
              "      <th>4962</th>\n",
              "      <th>4963</th>\n",
              "      <th>4964</th>\n",
              "      <th>4965</th>\n",
              "      <th>4966</th>\n",
              "      <th>4967</th>\n",
              "      <th>4968</th>\n",
              "      <th>4969</th>\n",
              "      <th>4970</th>\n",
              "      <th>4971</th>\n",
              "      <th>4972</th>\n",
              "      <th>4973</th>\n",
              "      <th>4974</th>\n",
              "      <th>4975</th>\n",
              "      <th>4976</th>\n",
              "      <th>4977</th>\n",
              "      <th>4978</th>\n",
              "      <th>4979</th>\n",
              "      <th>4980</th>\n",
              "      <th>4981</th>\n",
              "      <th>4982</th>\n",
              "      <th>4983</th>\n",
              "      <th>4984</th>\n",
              "      <th>4985</th>\n",
              "      <th>4986</th>\n",
              "      <th>4987</th>\n",
              "      <th>4988</th>\n",
              "      <th>4989</th>\n",
              "      <th>4990</th>\n",
              "      <th>4991</th>\n",
              "      <th>4992</th>\n",
              "      <th>4993</th>\n",
              "      <th>4994</th>\n",
              "      <th>4995</th>\n",
              "      <th>4996</th>\n",
              "      <th>4997</th>\n",
              "      <th>4998</th>\n",
              "      <th>4999</th>\n",
              "      <th>5000</th>\n",
              "    </tr>\n",
              "  </thead>\n",
              "  <tbody>\n",
              "    <tr>\n",
              "      <th>0</th>\n",
              "      <td>NaN</td>\n",
              "      <td>0.000000</td>\n",
              "      <td>1.0</td>\n",
              "      <td>2.0</td>\n",
              "      <td>3.0</td>\n",
              "      <td>4.0</td>\n",
              "      <td>5.0</td>\n",
              "      <td>6.0</td>\n",
              "      <td>7.0</td>\n",
              "      <td>8.0</td>\n",
              "      <td>9.0</td>\n",
              "      <td>10.0</td>\n",
              "      <td>11.0</td>\n",
              "      <td>12.0</td>\n",
              "      <td>13.0</td>\n",
              "      <td>14.0</td>\n",
              "      <td>15.0</td>\n",
              "      <td>16.0</td>\n",
              "      <td>17.0</td>\n",
              "      <td>18.0</td>\n",
              "      <td>19.0</td>\n",
              "      <td>20.0</td>\n",
              "      <td>21.0</td>\n",
              "      <td>22.0</td>\n",
              "      <td>23.0</td>\n",
              "      <td>24.0</td>\n",
              "      <td>25.0</td>\n",
              "      <td>26.0</td>\n",
              "      <td>27.0</td>\n",
              "      <td>28.0</td>\n",
              "      <td>29.0</td>\n",
              "      <td>30.0</td>\n",
              "      <td>31.0</td>\n",
              "      <td>32.0</td>\n",
              "      <td>33.0</td>\n",
              "      <td>34.0</td>\n",
              "      <td>35.0</td>\n",
              "      <td>36.0</td>\n",
              "      <td>37.0</td>\n",
              "      <td>38.0</td>\n",
              "      <td>...</td>\n",
              "      <td>460.000000</td>\n",
              "      <td>461.000000</td>\n",
              "      <td>462.000000</td>\n",
              "      <td>463.000000</td>\n",
              "      <td>464.000000</td>\n",
              "      <td>465.000000</td>\n",
              "      <td>466.000000</td>\n",
              "      <td>467.000000</td>\n",
              "      <td>468.000000</td>\n",
              "      <td>469.000000</td>\n",
              "      <td>470.000000</td>\n",
              "      <td>471.000000</td>\n",
              "      <td>472.000000</td>\n",
              "      <td>473.000000</td>\n",
              "      <td>474.000000</td>\n",
              "      <td>475.000000</td>\n",
              "      <td>476.000000</td>\n",
              "      <td>477.000000</td>\n",
              "      <td>478.000000</td>\n",
              "      <td>479.000000</td>\n",
              "      <td>480.0000</td>\n",
              "      <td>481.000000</td>\n",
              "      <td>482.0000</td>\n",
              "      <td>483.000000</td>\n",
              "      <td>484.00000</td>\n",
              "      <td>485.000000</td>\n",
              "      <td>486.000000</td>\n",
              "      <td>487.000000</td>\n",
              "      <td>488.000000</td>\n",
              "      <td>489.000000</td>\n",
              "      <td>490.000000</td>\n",
              "      <td>491.000000</td>\n",
              "      <td>492.000000</td>\n",
              "      <td>493.000000</td>\n",
              "      <td>494.000000</td>\n",
              "      <td>495.000000</td>\n",
              "      <td>496.000000</td>\n",
              "      <td>497.000000</td>\n",
              "      <td>498.000000</td>\n",
              "      <td>499.000000</td>\n",
              "    </tr>\n",
              "    <tr>\n",
              "      <th>1</th>\n",
              "      <td>NaN</td>\n",
              "      <td>0.000000</td>\n",
              "      <td>1.0</td>\n",
              "      <td>2.0</td>\n",
              "      <td>3.0</td>\n",
              "      <td>4.0</td>\n",
              "      <td>5.0</td>\n",
              "      <td>6.0</td>\n",
              "      <td>7.0</td>\n",
              "      <td>8.0</td>\n",
              "      <td>9.0</td>\n",
              "      <td>10.0</td>\n",
              "      <td>11.0</td>\n",
              "      <td>12.0</td>\n",
              "      <td>13.0</td>\n",
              "      <td>14.0</td>\n",
              "      <td>15.0</td>\n",
              "      <td>16.0</td>\n",
              "      <td>17.0</td>\n",
              "      <td>18.0</td>\n",
              "      <td>19.0</td>\n",
              "      <td>20.0</td>\n",
              "      <td>21.0</td>\n",
              "      <td>22.0</td>\n",
              "      <td>23.0</td>\n",
              "      <td>24.0</td>\n",
              "      <td>25.0</td>\n",
              "      <td>26.0</td>\n",
              "      <td>27.0</td>\n",
              "      <td>28.0</td>\n",
              "      <td>29.0</td>\n",
              "      <td>30.0</td>\n",
              "      <td>31.0</td>\n",
              "      <td>32.0</td>\n",
              "      <td>33.0</td>\n",
              "      <td>34.0</td>\n",
              "      <td>35.0</td>\n",
              "      <td>36.0</td>\n",
              "      <td>37.0</td>\n",
              "      <td>38.0</td>\n",
              "      <td>...</td>\n",
              "      <td>460.000000</td>\n",
              "      <td>461.000000</td>\n",
              "      <td>462.000000</td>\n",
              "      <td>463.000000</td>\n",
              "      <td>464.000000</td>\n",
              "      <td>465.000000</td>\n",
              "      <td>466.000000</td>\n",
              "      <td>467.000000</td>\n",
              "      <td>468.000000</td>\n",
              "      <td>469.000000</td>\n",
              "      <td>470.000000</td>\n",
              "      <td>471.000000</td>\n",
              "      <td>472.000000</td>\n",
              "      <td>473.000000</td>\n",
              "      <td>474.000000</td>\n",
              "      <td>475.000000</td>\n",
              "      <td>476.000000</td>\n",
              "      <td>477.000000</td>\n",
              "      <td>478.000000</td>\n",
              "      <td>479.000000</td>\n",
              "      <td>480.0000</td>\n",
              "      <td>481.000000</td>\n",
              "      <td>482.0000</td>\n",
              "      <td>483.000000</td>\n",
              "      <td>484.00000</td>\n",
              "      <td>485.000000</td>\n",
              "      <td>486.000000</td>\n",
              "      <td>487.000000</td>\n",
              "      <td>488.000000</td>\n",
              "      <td>489.000000</td>\n",
              "      <td>490.000000</td>\n",
              "      <td>491.000000</td>\n",
              "      <td>492.000000</td>\n",
              "      <td>493.000000</td>\n",
              "      <td>494.000000</td>\n",
              "      <td>495.000000</td>\n",
              "      <td>496.000000</td>\n",
              "      <td>497.000000</td>\n",
              "      <td>498.000000</td>\n",
              "      <td>499.000000</td>\n",
              "    </tr>\n",
              "    <tr>\n",
              "      <th>2</th>\n",
              "      <td>0.0</td>\n",
              "      <td>15.512500</td>\n",
              "      <td>0.0</td>\n",
              "      <td>0.0</td>\n",
              "      <td>0.0</td>\n",
              "      <td>0.0</td>\n",
              "      <td>0.0</td>\n",
              "      <td>0.0</td>\n",
              "      <td>0.0</td>\n",
              "      <td>0.0</td>\n",
              "      <td>0.0</td>\n",
              "      <td>0.0</td>\n",
              "      <td>0.0</td>\n",
              "      <td>0.0</td>\n",
              "      <td>0.0</td>\n",
              "      <td>0.0</td>\n",
              "      <td>0.0</td>\n",
              "      <td>0.0</td>\n",
              "      <td>0.0</td>\n",
              "      <td>0.0</td>\n",
              "      <td>0.0</td>\n",
              "      <td>0.0</td>\n",
              "      <td>0.0</td>\n",
              "      <td>0.0</td>\n",
              "      <td>0.0</td>\n",
              "      <td>0.0</td>\n",
              "      <td>0.0</td>\n",
              "      <td>0.0</td>\n",
              "      <td>0.0</td>\n",
              "      <td>0.0</td>\n",
              "      <td>0.0</td>\n",
              "      <td>0.0</td>\n",
              "      <td>0.0</td>\n",
              "      <td>0.0</td>\n",
              "      <td>0.0</td>\n",
              "      <td>0.0</td>\n",
              "      <td>0.0</td>\n",
              "      <td>0.0</td>\n",
              "      <td>0.0</td>\n",
              "      <td>0.0</td>\n",
              "      <td>...</td>\n",
              "      <td>1327.124653</td>\n",
              "      <td>3460.654354</td>\n",
              "      <td>2799.504491</td>\n",
              "      <td>1464.795237</td>\n",
              "      <td>3874.318525</td>\n",
              "      <td>3735.107063</td>\n",
              "      <td>6428.772738</td>\n",
              "      <td>5738.484750</td>\n",
              "      <td>3545.973112</td>\n",
              "      <td>3958.477925</td>\n",
              "      <td>5447.330363</td>\n",
              "      <td>5607.649210</td>\n",
              "      <td>7230.971450</td>\n",
              "      <td>2139.523413</td>\n",
              "      <td>2804.552664</td>\n",
              "      <td>617.849958</td>\n",
              "      <td>1016.926755</td>\n",
              "      <td>1755.986187</td>\n",
              "      <td>1765.728455</td>\n",
              "      <td>1152.234175</td>\n",
              "      <td>4147.6575</td>\n",
              "      <td>1944.245038</td>\n",
              "      <td>1041.2186</td>\n",
              "      <td>3850.935577</td>\n",
              "      <td>2788.86405</td>\n",
              "      <td>2306.294658</td>\n",
              "      <td>2392.778764</td>\n",
              "      <td>4163.197337</td>\n",
              "      <td>4811.098075</td>\n",
              "      <td>4203.179450</td>\n",
              "      <td>2304.026562</td>\n",
              "      <td>4009.389825</td>\n",
              "      <td>3050.131456</td>\n",
              "      <td>6196.644014</td>\n",
              "      <td>4103.939078</td>\n",
              "      <td>7721.592438</td>\n",
              "      <td>3487.135224</td>\n",
              "      <td>4324.363812</td>\n",
              "      <td>1610.261088</td>\n",
              "      <td>1295.636853</td>\n",
              "    </tr>\n",
              "    <tr>\n",
              "      <th>3</th>\n",
              "      <td>1.0</td>\n",
              "      <td>28.700000</td>\n",
              "      <td>0.0</td>\n",
              "      <td>0.0</td>\n",
              "      <td>0.0</td>\n",
              "      <td>0.0</td>\n",
              "      <td>0.0</td>\n",
              "      <td>0.0</td>\n",
              "      <td>0.0</td>\n",
              "      <td>0.0</td>\n",
              "      <td>0.0</td>\n",
              "      <td>0.0</td>\n",
              "      <td>0.0</td>\n",
              "      <td>0.0</td>\n",
              "      <td>0.0</td>\n",
              "      <td>0.0</td>\n",
              "      <td>0.0</td>\n",
              "      <td>0.0</td>\n",
              "      <td>0.0</td>\n",
              "      <td>0.0</td>\n",
              "      <td>0.0</td>\n",
              "      <td>0.0</td>\n",
              "      <td>0.0</td>\n",
              "      <td>0.0</td>\n",
              "      <td>0.0</td>\n",
              "      <td>0.0</td>\n",
              "      <td>0.0</td>\n",
              "      <td>0.0</td>\n",
              "      <td>0.0</td>\n",
              "      <td>0.0</td>\n",
              "      <td>0.0</td>\n",
              "      <td>0.0</td>\n",
              "      <td>0.0</td>\n",
              "      <td>0.0</td>\n",
              "      <td>0.0</td>\n",
              "      <td>0.0</td>\n",
              "      <td>0.0</td>\n",
              "      <td>0.0</td>\n",
              "      <td>0.0</td>\n",
              "      <td>0.0</td>\n",
              "      <td>...</td>\n",
              "      <td>0.000000</td>\n",
              "      <td>185.602875</td>\n",
              "      <td>24.824500</td>\n",
              "      <td>0.000000</td>\n",
              "      <td>0.000000</td>\n",
              "      <td>0.000000</td>\n",
              "      <td>0.000000</td>\n",
              "      <td>0.000000</td>\n",
              "      <td>0.000000</td>\n",
              "      <td>0.000000</td>\n",
              "      <td>686.675000</td>\n",
              "      <td>60.517625</td>\n",
              "      <td>0.000000</td>\n",
              "      <td>0.000000</td>\n",
              "      <td>0.000000</td>\n",
              "      <td>0.000000</td>\n",
              "      <td>0.000000</td>\n",
              "      <td>0.000000</td>\n",
              "      <td>0.000000</td>\n",
              "      <td>0.000000</td>\n",
              "      <td>0.0000</td>\n",
              "      <td>0.000000</td>\n",
              "      <td>0.0000</td>\n",
              "      <td>0.000000</td>\n",
              "      <td>0.00000</td>\n",
              "      <td>0.000000</td>\n",
              "      <td>0.000000</td>\n",
              "      <td>0.000000</td>\n",
              "      <td>0.000000</td>\n",
              "      <td>0.000000</td>\n",
              "      <td>0.000000</td>\n",
              "      <td>0.000000</td>\n",
              "      <td>0.000000</td>\n",
              "      <td>0.000000</td>\n",
              "      <td>0.000000</td>\n",
              "      <td>0.000000</td>\n",
              "      <td>0.000000</td>\n",
              "      <td>0.000000</td>\n",
              "      <td>0.000000</td>\n",
              "      <td>0.000000</td>\n",
              "    </tr>\n",
              "    <tr>\n",
              "      <th>4</th>\n",
              "      <td>2.0</td>\n",
              "      <td>20.466667</td>\n",
              "      <td>0.0</td>\n",
              "      <td>0.0</td>\n",
              "      <td>0.0</td>\n",
              "      <td>0.0</td>\n",
              "      <td>0.0</td>\n",
              "      <td>0.0</td>\n",
              "      <td>0.0</td>\n",
              "      <td>0.0</td>\n",
              "      <td>0.0</td>\n",
              "      <td>0.0</td>\n",
              "      <td>0.0</td>\n",
              "      <td>0.0</td>\n",
              "      <td>0.0</td>\n",
              "      <td>0.0</td>\n",
              "      <td>0.0</td>\n",
              "      <td>0.0</td>\n",
              "      <td>0.0</td>\n",
              "      <td>0.0</td>\n",
              "      <td>0.0</td>\n",
              "      <td>0.0</td>\n",
              "      <td>0.0</td>\n",
              "      <td>0.0</td>\n",
              "      <td>0.0</td>\n",
              "      <td>0.0</td>\n",
              "      <td>0.0</td>\n",
              "      <td>0.0</td>\n",
              "      <td>0.0</td>\n",
              "      <td>0.0</td>\n",
              "      <td>0.0</td>\n",
              "      <td>0.0</td>\n",
              "      <td>0.0</td>\n",
              "      <td>0.0</td>\n",
              "      <td>0.0</td>\n",
              "      <td>0.0</td>\n",
              "      <td>0.0</td>\n",
              "      <td>0.0</td>\n",
              "      <td>0.0</td>\n",
              "      <td>0.0</td>\n",
              "      <td>...</td>\n",
              "      <td>0.000000</td>\n",
              "      <td>0.000000</td>\n",
              "      <td>22.628333</td>\n",
              "      <td>0.000000</td>\n",
              "      <td>0.000000</td>\n",
              "      <td>477.050000</td>\n",
              "      <td>282.881667</td>\n",
              "      <td>596.383333</td>\n",
              "      <td>94.228333</td>\n",
              "      <td>0.000000</td>\n",
              "      <td>0.000000</td>\n",
              "      <td>2458.359667</td>\n",
              "      <td>1483.725333</td>\n",
              "      <td>87.000000</td>\n",
              "      <td>124.286000</td>\n",
              "      <td>262.805783</td>\n",
              "      <td>139.210000</td>\n",
              "      <td>0.000000</td>\n",
              "      <td>968.798167</td>\n",
              "      <td>2230.813333</td>\n",
              "      <td>0.0000</td>\n",
              "      <td>1542.088133</td>\n",
              "      <td>8164.7652</td>\n",
              "      <td>2008.675658</td>\n",
              "      <td>785.23055</td>\n",
              "      <td>1.217750</td>\n",
              "      <td>0.000000</td>\n",
              "      <td>56.838333</td>\n",
              "      <td>5893.421667</td>\n",
              "      <td>1278.298833</td>\n",
              "      <td>24.038683</td>\n",
              "      <td>191.567412</td>\n",
              "      <td>329.088300</td>\n",
              "      <td>3582.966667</td>\n",
              "      <td>1203.936500</td>\n",
              "      <td>1039.513333</td>\n",
              "      <td>1730.358333</td>\n",
              "      <td>2203.250700</td>\n",
              "      <td>911.856833</td>\n",
              "      <td>1978.318333</td>\n",
              "    </tr>\n",
              "  </tbody>\n",
              "</table>\n",
              "<p>5 rows × 5001 columns</p>\n",
              "</div>"
            ],
            "text/plain": [
              "   0          1     2     ...         4998         4999         5000\n",
              "0   NaN   0.000000   1.0  ...   497.000000   498.000000   499.000000\n",
              "1   NaN   0.000000   1.0  ...   497.000000   498.000000   499.000000\n",
              "2   0.0  15.512500   0.0  ...  4324.363812  1610.261088  1295.636853\n",
              "3   1.0  28.700000   0.0  ...     0.000000     0.000000     0.000000\n",
              "4   2.0  20.466667   0.0  ...  2203.250700   911.856833  1978.318333\n",
              "\n",
              "[5 rows x 5001 columns]"
            ]
          },
          "metadata": {
            "tags": []
          },
          "execution_count": 7
        }
      ]
    },
    {
      "cell_type": "code",
      "metadata": {
        "id": "UWAAINgX6USB",
        "colab_type": "code",
        "colab": {}
      },
      "source": [
        ""
      ],
      "execution_count": null,
      "outputs": []
    },
    {
      "cell_type": "code",
      "metadata": {
        "id": "U2qnZI_5Tv6L",
        "colab_type": "code",
        "colab": {
          "base_uri": "https://localhost:8080/",
          "height": 320
        },
        "outputId": "1d2b9d29-c13c-46de-93b4-71e01c6cdaf4"
      },
      "source": [
        "# plot baseline and predictions\n",
        "figure(num=None, figsize=(18, 4), dpi=120, facecolor='w', edgecolor='k')\n",
        "f=13\n",
        "plt.plot((data[f]),color='r',label=\"Whole Data\")\n",
        "# plt.show()\n",
        "# plt.plot(trainPredictPlot,color='g',label=\"Train\")\n",
        "# # print('testPrices:')\n",
        "# testPrices=scaler.inverse_transform(dataset[test_size+look_back:])\n",
        "\n",
        "\n",
        "# plt.plot(testPredictPlot, label=\"test\")\n",
        "plt.legend()\n",
        "# plt.title('colab file'+str(f))\n",
        "plt.show()\n",
        "\n"
      ],
      "execution_count": null,
      "outputs": [
        {
          "output_type": "display_data",
          "data": {
            "image/png": "[encoded data removed]",
            "text/plain": [
              "<Figure size 2160x480 with 1 Axes>"
            ]
          },
          "metadata": {
            "tags": []
          }
        }
      ]
    },
    {
      "cell_type": "code",
      "metadata": {
        "id": "VunEx6iLTv3r",
        "colab_type": "code",
        "colab": {}
      },
      "source": [
        ""
      ],
      "execution_count": null,
      "outputs": []
    },
    {
      "cell_type": "code",
      "metadata": {
        "id": "YdurfJGmTv0T",
        "colab_type": "code",
        "colab": {}
      },
      "source": [
        ""
      ],
      "execution_count": null,
      "outputs": []
    },
    {
      "cell_type": "code",
      "metadata": {
        "id": "nMQdINkFNpH3",
        "colab_type": "code",
        "colab": {
          "base_uri": "https://localhost:8080/",
          "height": 410
        },
        "outputId": "a7e6b90e-a1d5-4cb3-8d86-db3eb700c532"
      },
      "source": [
        "# k=2000\n",
        "f=170\n",
        "epoch=100\n",
        "all_y = data[f]\n",
        "dataset=all_y.reshape(-1, 1)\n",
        "print(f)\n",
        "# normalize the dataset\n",
        "scaler = MinMaxScaler(feature_range=(0, 1))\n",
        "dataset = scaler.fit_transform(dataset)\n",
        "\n",
        "# split into train and test sets, 50% test data, 50% training data\n",
        "train_size = int(len(dataset) * 0.8)\n",
        "k=int(len(dataset) * 0.8)\n",
        "test_size = len(dataset) - train_size\n",
        "train, test = dataset[0:train_size,:], dataset[train_size:len(dataset),:]\n",
        "\n",
        "# reshape into X=t and Y=t+1, timestep 240\n",
        "look_back = 150\n",
        "trainX, trainY = create_dataset(train, look_back)\n",
        "testX, testY = create_dataset(test, look_back)\n",
        "\n",
        "# reshape input to be [samples, time steps, features]\n",
        "trainX = np.reshape(trainX, (trainX.shape[0], 1, trainX.shape[1]))\n",
        "testX = np.reshape(testX, (testX.shape[0], 1, testX.shape[1]))\n",
        "\n",
        "# create and fit the LSTM network, optimizer=adam, 25 neurons, dropout 0.1\n",
        "# model = Sequential()\n",
        "# model.add(LSTM(50 , activation='relu', input_shape=(1, look_back), return_sequences=True))\n",
        "\n",
        "# # model.add(LSTM(120, return_sequences=True))\n",
        "# # model.add(LSTM(100, activation='relu', return_sequences=True))\n",
        "# # model.add(LSTM(50), return_sequences=True)\n",
        "# model.add(Dropout(0.1))\n",
        "# model.add(Dense(1))\n",
        "# model.compile(loss='mse', optimizer='adam')\n",
        "# model.fit(trainX, trainY, epochs=epoch, batch_size=240, verbose=0)\n",
        "\n",
        "# model.add(LSTM(150 , activation='relu', input_shape=(3, look_back)  ))\n",
        "# model.add(LSTM(50))\n",
        "# model.add(Dropout(0.5))\n",
        "# model.add(Dense(1))\n",
        "\n",
        "# model.add(LSTM(80, activation='tanh', return_sequences=True,input_shape=(1, look_back)))\n",
        "\n",
        "# # model.add(LSTM(32, return_sequences=True, stateful=True,\n",
        "# #                batch_input_shape=(10, 1, look_back)))\n",
        "\n",
        "# model.add(LSTM(50,return_sequences=True))\n",
        "# model.add(LSTM(50, activation='relu'))\n",
        "# model.add(Dropout(0.7))\n",
        "# # model.add(LSTM(10))\n",
        "# model.add(Dense(1))\n",
        "\n",
        "# model.compile(loss='mse', optimizer='adam')\n",
        "\n",
        "model = Sequential()\n",
        "# model.add(LSTM(50 , activation='relu', input_shape=(1, look_back), return_sequences=True))\n",
        "model = Sequential()\n",
        "model.add(LSTM(60, input_shape=(1, look_back)))\n",
        "model.add(Dropout(0.12))\n",
        "model.add(Dense(1))\n",
        "model.compile(loss='mse', optimizer='adam', metrics=['accuracy'])\n",
        "\n",
        "\n",
        "\n",
        "model.fit(trainX, trainY, epochs=epoch, batch_size=60, verbose=0)\n",
        "\n",
        "\n",
        "# make predictions\n",
        "trainPredict = model.predict(trainX)\n",
        "testPredict = model.predict(testX)\n",
        "\n",
        "# invert predictions\n",
        "trainPredict = scaler.inverse_transform(trainPredict)\n",
        "trainY = scaler.inverse_transform([trainY])\n",
        "testPredict = scaler.inverse_transform(testPredict)\n",
        "testY = scaler.inverse_transform([testY])\n",
        "\n",
        "# calculate root mean squared error\n",
        "trainScore = math.sqrt(mean_squared_error(trainY[0], trainPredict[:,0]))\n",
        "print('Train Score: %.2f RMSE' % (trainScore))\n",
        "testScore = math.sqrt(mean_squared_error(testY[0], testPredict[:,0]))\n",
        "print('Test Score: %.2f RMSE' % (testScore))\n",
        "\n",
        "# shift train predictions for plotting\n",
        "trainPredictPlot = np.empty_like(dataset)\n",
        "trainPredictPlot[:, :] = np.nan\n",
        "trainPredictPlot[look_back:len(trainPredict)+look_back, :] = trainPredict\n",
        "\n",
        "# shift test predictions for plotting\n",
        "testPredictPlot = np.empty_like(dataset)\n",
        "testPredictPlot[:, :] = np.nan\n",
        "testPredictPlot[len(trainPredict)+(look_back*2)+1:len(dataset)-1, :] = testPredict\n",
        "# testPredictPlot.reshape(-1, 1)\n",
        "# df[str(f)]=list(testPredictPlot)\n",
        "# df1[str(f)]=list(data[f])\n",
        "\n"
      ],
      "execution_count": null,
      "outputs": [
        {
          "output_type": "stream",
          "text": [
            "13\n",
            "WARNING:tensorflow:From /usr/local/lib/python3.6/dist-packages/keras/backend/tensorflow_backend.py:74: The name tf.get_default_graph is deprecated. Please use tf.compat.v1.get_default_graph instead.\n",
            "\n",
            "WARNING:tensorflow:From /usr/local/lib/python3.6/dist-packages/keras/backend/tensorflow_backend.py:517: The name tf.placeholder is deprecated. Please use tf.compat.v1.placeholder instead.\n",
            "\n",
            "WARNING:tensorflow:From /usr/local/lib/python3.6/dist-packages/keras/backend/tensorflow_backend.py:4138: The name tf.random_uniform is deprecated. Please use tf.random.uniform instead.\n",
            "\n",
            "WARNING:tensorflow:From /usr/local/lib/python3.6/dist-packages/keras/backend/tensorflow_backend.py:133: The name tf.placeholder_with_default is deprecated. Please use tf.compat.v1.placeholder_with_default instead.\n",
            "\n",
            "WARNING:tensorflow:From /usr/local/lib/python3.6/dist-packages/keras/backend/tensorflow_backend.py:3445: calling dropout (from tensorflow.python.ops.nn_ops) with keep_prob is deprecated and will be removed in a future version.\n",
            "Instructions for updating:\n",
            "Please use `rate` instead of `keep_prob`. Rate should be set to `rate = 1 - keep_prob`.\n",
            "WARNING:tensorflow:From /usr/local/lib/python3.6/dist-packages/keras/optimizers.py:790: The name tf.train.Optimizer is deprecated. Please use tf.compat.v1.train.Optimizer instead.\n",
            "\n",
            "WARNING:tensorflow:From /usr/local/lib/python3.6/dist-packages/tensorflow/python/ops/math_grad.py:1250: add_dispatch_support.<locals>.wrapper (from tensorflow.python.ops.array_ops) is deprecated and will be removed in a future version.\n",
            "Instructions for updating:\n",
            "Use tf.where in 2.0, which has the same broadcast rule as np.where\n",
            "WARNING:tensorflow:From /usr/local/lib/python3.6/dist-packages/keras/backend/tensorflow_backend.py:986: The name tf.assign_add is deprecated. Please use tf.compat.v1.assign_add instead.\n",
            "\n",
            "Train Score: 1446.70 RMSE\n",
            "Test Score: 2336.62 RMSE\n"
          ],
          "name": "stdout"
        }
      ]
    },
    {
      "cell_type": "code",
      "metadata": {
        "id": "4OG1t-cfmnRL",
        "colab_type": "code",
        "colab": {
          "base_uri": "https://localhost:8080/",
          "height": 339
        },
        "outputId": "cfcc74df-3547-4878-83a9-bee96969f47e"
      },
      "source": [
        "\n",
        "# plot baseline and predictions\n",
        "figure(num=None, figsize=(18, 4), dpi=120, facecolor='w', edgecolor='k')\n",
        "\n",
        "plt.plot((data[f]),color='r',label=\"Whole Data\")\n",
        "# plt.show()\n",
        "plt.plot(trainPredictPlot,color='g',label=\"Train\")\n",
        "# print('testPrices:')\n",
        "testPrices=scaler.inverse_transform(dataset[test_size+look_back:])\n",
        "\n",
        "\n",
        "plt.plot(testPredictPlot, label=\"test\")\n",
        "plt.legend()\n",
        "plt.title('colab cell-'+str(f))\n",
        "plt.show()\n",
        "\n",
        "\n"
      ],
      "execution_count": null,
      "outputs": [
        {
          "output_type": "display_data",
          "data": {
            "image/png": "[encoded data removed]",
            "text/plain": [
              "<Figure size 2160x480 with 1 Axes>"
            ]
          },
          "metadata": {
            "tags": []
          }
        }
      ]
    },
    {
      "cell_type": "code",
      "metadata": {
        "id": "fI4GdXhdgIz4",
        "colab_type": "code",
        "colab": {
          "base_uri": "https://localhost:8080/",
          "height": 35
        },
        "outputId": "64a4c5d8-af4e-4e99-f6b1-29f555b196e4"
      },
      "source": [
        "f=13\n",
        "epoch=100\n",
        "# for f in range(189,2417):\n",
        "all_y = data[f]\n",
        "dataset=all_y.reshape(-1, 1)\n",
        "print(f)\n",
        "# normalize the dataset\n",
        "scaler = MinMaxScaler(feature_range=(0, 1))\n",
        "dataset = scaler.fit_transform(dataset)\n",
        "\n",
        "# split into train and test sets, 50% test data, 50% training data\n",
        "train_size = int(len(dataset) * 0.8)\n",
        "k=int(len(dataset) * 0.8)\n",
        "test_size = len(dataset) - train_size\n",
        "train, test = dataset[0:train_size,:], dataset[train_size:len(dataset),:]\n",
        "\n",
        "# reshape into X=t and Y=t+1, timestep 240\n",
        "look_back = 180\n",
        "trainX, trainY = create_dataset(train, look_back)\n",
        "testX, testY = create_dataset(test, look_back)\n",
        "\n",
        "# reshape input to be [samples, time steps, features]\n",
        "trainX = np.reshape(trainX, (trainX.shape[0], 1, trainX.shape[1]))\n",
        "testX = np.reshape(testX, (testX.shape[0], 1, testX.shape[1]))\n",
        "look_back=180"
      ],
      "execution_count": null,
      "outputs": [
        {
          "output_type": "stream",
          "text": [
            "13\n"
          ],
          "name": "stdout"
        }
      ]
    },
    {
      "cell_type": "markdown",
      "metadata": {
        "id": "CxkFG5wdZ-xJ",
        "colab_type": "text"
      },
      "source": [
        "Batch Size Optimization\n",
        "\n"
      ]
    },
    {
      "cell_type": "code",
      "metadata": {
        "id": "t5CpAEos7dg-",
        "colab_type": "code",
        "colab": {
          "base_uri": "https://localhost:8080/",
          "height": 232
        },
        "outputId": "a51ac75e-4b46-4a59-e181-d8b0ade61d13"
      },
      "source": [
        "# look_back=190\n",
        "epoch=130\n",
        "def create_model():\n",
        "\t# create model\n",
        "  model = Sequential()\n",
        "  model.add(LSTM(60, input_shape=(1, look_back)))\n",
        "  model.add(Dropout(0.12))\n",
        "  model.add(Dense(1))\n",
        "  # model.compile(loss='mse', optimizer='adam')\n",
        "  model.compile(loss='mse', optimizer='adam', metrics=['accuracy'])\n",
        "  return model\n",
        "\n",
        "model = KerasClassifier(build_fn=create_model, verbose=0)\n",
        "# define the grid search parameters\n",
        "batch_size = [25,30,45,60, 80, 100,130,150]\n",
        "\n",
        "epochs = [epoch]\n",
        "\n",
        "param_grid = dict(batch_size=batch_size, epochs=epochs)\n",
        "grid = GridSearchCV(estimator=model, param_grid=param_grid, n_jobs=-1, cv=3)\n",
        "\n",
        "grid_result = grid.fit(trainX, trainY)\n",
        "\n",
        "print(\"Best: %f using %s\" % (grid_result.best_score_, grid_result.best_params_))\n",
        "means = grid_result.cv_results_['mean_test_score']\n",
        "stds = grid_result.cv_results_['std_test_score']\n",
        "params = grid_result.cv_results_['params']\n",
        "for mean, stdev, param in zip(means, stds, params):\n",
        "    print(\"%f (%f) with: %r\" % (mean, stdev, param))\n"
      ],
      "execution_count": null,
      "outputs": [
        {
          "output_type": "stream",
          "text": [
            "/usr/local/lib/python3.6/dist-packages/joblib/externals/loky/process_executor.py:706: UserWarning: A worker stopped while some jobs were given to the executor. This can be caused by a too short worker timeout or by a memory leak.\n",
            "  \"timeout or by a memory leak.\", UserWarning\n"
          ],
          "name": "stderr"
        },
        {
          "output_type": "stream",
          "text": [
            "Best: 0.000524 using {'batch_size': 25, 'epochs': 130}\n",
            "0.000524 (0.000370) with: {'batch_size': 25, 'epochs': 130}\n",
            "0.000262 (0.000370) with: {'batch_size': 30, 'epochs': 130}\n",
            "0.000000 (0.000000) with: {'batch_size': 45, 'epochs': 130}\n",
            "0.000000 (0.000000) with: {'batch_size': 60, 'epochs': 130}\n",
            "0.000262 (0.000370) with: {'batch_size': 80, 'epochs': 130}\n",
            "0.000262 (0.000370) with: {'batch_size': 100, 'epochs': 130}\n",
            "0.000262 (0.000370) with: {'batch_size': 130, 'epochs': 130}\n",
            "0.000000 (0.000000) with: {'batch_size': 150, 'epochs': 130}\n"
          ],
          "name": "stdout"
        }
      ]
    },
    {
      "cell_type": "markdown",
      "metadata": {
        "id": "CEKS7W75j71R",
        "colab_type": "text"
      },
      "source": [
        "Dropout Optimization"
      ]
    },
    {
      "cell_type": "code",
      "metadata": {
        "id": "CFCuJlsUj3kP",
        "colab_type": "code",
        "colab": {}
      },
      "source": [
        "epoch=130\n",
        "def create_model():\n",
        "\t# create model\n",
        "  model = Sequential()\n",
        "  model.add(LSTM(60, input_shape=(1, look_back)))\n",
        "  model.add(Dropout(0.12))\n",
        "  model.add(Dense(1))\n",
        "  # model.compile(loss='mse', optimizer='adam')\n",
        "  model.compile(loss='mse', optimizer='adam', metrics=['accuracy'])\n",
        "  return model\n",
        "\n",
        "model = KerasClassifier(build_fn=create_model, verbose=0)\n",
        "# define the grid search parameters\n",
        "batch_size = [30,45,60, 80, 100,130,150,180,240,270]\n",
        "epochs = [epoch]\n",
        "\n",
        "param_grid = dict(batch_size=batch_size, epochs=epochs)\n",
        "grid = GridSearchCV(estimator=model, param_grid=param_grid, n_jobs=-1, cv=3)\n",
        "\n",
        "grid_result = grid.fit(trainX, trainY)\n",
        "\n",
        "print(\"Best: %f using %s\" % (grid_result.best_score_, grid_result.best_params_))\n",
        "means = grid_result.cv_results_['mean_test_score']\n",
        "stds = grid_result.cv_results_['std_test_score']\n",
        "params = grid_result.cv_results_['params']\n",
        "for mean, stdev, param in zip(means, stds, params):\n",
        "    print(\"%f (%f) with: %r\" % (mean, stdev, param))\n"
      ],
      "execution_count": null,
      "outputs": []
    },
    {
      "cell_type": "markdown",
      "metadata": {
        "id": "TWMfyND3snVG",
        "colab_type": "text"
      },
      "source": [
        "Look_back Optimization\n"
      ]
    },
    {
      "cell_type": "code",
      "metadata": {
        "id": "qrm7CZBCsmtA",
        "colab_type": "code",
        "colab": {
          "base_uri": "https://localhost:8080/",
          "height": 388
        },
        "outputId": "91847f7c-d988-4cfa-9998-c6f232a1dd9b"
      },
      "source": [
        "epoch=130\n",
        "def create_model(look_up=130):\n",
        "\t# create model\n",
        "  model = Sequential()\n",
        "  model.add(LSTM(40, input_shape=(1, look_up)))\n",
        "  model.add(Dropout(0.12))\n",
        "  model.add(Dense(1))\n",
        "  # model.compile(loss='mse', optimizer='adam')\n",
        "  model.compile(loss='mse', optimizer='adam', metrics=['accuracy'])\n",
        "  return model\n",
        "\n",
        "model = KerasClassifier(build_fn=create_model, verbose=0)\n",
        "# define the grid search parameters\n",
        "look_up=[70,90,110,130,150,170,190,210,230]\n",
        "epochs = [epoch]\n",
        "batch_size=[25]\n",
        "param_grid = dict(look_up=look_up, epochs=epochs, batch_size=batch_size)\n",
        "grid = GridSearchCV(estimator=model, param_grid=param_grid, n_jobs=-1, cv=3)\n",
        "\n",
        "grid_result = grid.fit(trainX, trainY)\n",
        "\n",
        "print(\"Best: %f using %s\" % (grid_result.best_score_, grid_result.best_params_))\n",
        "means = grid_result.cv_results_['mean_test_score']\n",
        "stds = grid_result.cv_results_['std_test_score']\n",
        "params = grid_result.cv_results_['params']\n",
        "for mean, stdev, param in zip(means, stds, params):\n",
        "    print(\"%f (%f) with: %r\" % (mean, stdev, param))\n"
      ],
      "execution_count": null,
      "outputs": [
        {
          "output_type": "error",
          "ename": "ValueError",
          "evalue": "ignored",
          "traceback": [
            "\u001b[0;31m---------------------------------------------------------------------------\u001b[0m",
            "\u001b[0;31mValueError\u001b[0m                                Traceback (most recent call last)",
            "\u001b[0;32m<ipython-input-14-f21109922956>\u001b[0m in \u001b[0;36m<module>\u001b[0;34m()\u001b[0m\n\u001b[1;32m     18\u001b[0m \u001b[0mgrid\u001b[0m \u001b[0;34m=\u001b[0m \u001b[0mGridSearchCV\u001b[0m\u001b[0;34m(\u001b[0m\u001b[0mestimator\u001b[0m\u001b[0;34m=\u001b[0m\u001b[0mmodel\u001b[0m\u001b[0;34m,\u001b[0m \u001b[0mparam_grid\u001b[0m\u001b[0;34m=\u001b[0m\u001b[0mparam_grid\u001b[0m\u001b[0;34m,\u001b[0m \u001b[0mn_jobs\u001b[0m\u001b[0;34m=\u001b[0m\u001b[0;34m-\u001b[0m\u001b[0;36m1\u001b[0m\u001b[0;34m,\u001b[0m \u001b[0mcv\u001b[0m\u001b[0;34m=\u001b[0m\u001b[0;36m3\u001b[0m\u001b[0;34m)\u001b[0m\u001b[0;34m\u001b[0m\u001b[0;34m\u001b[0m\u001b[0m\n\u001b[1;32m     19\u001b[0m \u001b[0;34m\u001b[0m\u001b[0m\n\u001b[0;32m---> 20\u001b[0;31m \u001b[0mgrid_result\u001b[0m \u001b[0;34m=\u001b[0m \u001b[0mgrid\u001b[0m\u001b[0;34m.\u001b[0m\u001b[0mfit\u001b[0m\u001b[0;34m(\u001b[0m\u001b[0mtrainX\u001b[0m\u001b[0;34m,\u001b[0m \u001b[0mtrainY\u001b[0m\u001b[0;34m)\u001b[0m\u001b[0;34m\u001b[0m\u001b[0;34m\u001b[0m\u001b[0m\n\u001b[0m\u001b[1;32m     21\u001b[0m \u001b[0;34m\u001b[0m\u001b[0m\n\u001b[1;32m     22\u001b[0m \u001b[0mprint\u001b[0m\u001b[0;34m(\u001b[0m\u001b[0;34m\"Best: %f using %s\"\u001b[0m \u001b[0;34m%\u001b[0m \u001b[0;34m(\u001b[0m\u001b[0mgrid_result\u001b[0m\u001b[0;34m.\u001b[0m\u001b[0mbest_score_\u001b[0m\u001b[0;34m,\u001b[0m \u001b[0mgrid_result\u001b[0m\u001b[0;34m.\u001b[0m\u001b[0mbest_params_\u001b[0m\u001b[0;34m)\u001b[0m\u001b[0;34m)\u001b[0m\u001b[0;34m\u001b[0m\u001b[0;34m\u001b[0m\u001b[0m\n",
            "\u001b[0;32m/usr/local/lib/python3.6/dist-packages/sklearn/model_selection/_search.py\u001b[0m in \u001b[0;36mfit\u001b[0;34m(self, X, y, groups, **fit_params)\u001b[0m\n\u001b[1;32m    737\u001b[0m             \u001b[0mrefit_start_time\u001b[0m \u001b[0;34m=\u001b[0m \u001b[0mtime\u001b[0m\u001b[0;34m.\u001b[0m\u001b[0mtime\u001b[0m\u001b[0;34m(\u001b[0m\u001b[0;34m)\u001b[0m\u001b[0;34m\u001b[0m\u001b[0;34m\u001b[0m\u001b[0m\n\u001b[1;32m    738\u001b[0m             \u001b[0;32mif\u001b[0m \u001b[0my\u001b[0m \u001b[0;32mis\u001b[0m \u001b[0;32mnot\u001b[0m \u001b[0;32mNone\u001b[0m\u001b[0;34m:\u001b[0m\u001b[0;34m\u001b[0m\u001b[0;34m\u001b[0m\u001b[0m\n\u001b[0;32m--> 739\u001b[0;31m                 \u001b[0mself\u001b[0m\u001b[0;34m.\u001b[0m\u001b[0mbest_estimator_\u001b[0m\u001b[0;34m.\u001b[0m\u001b[0mfit\u001b[0m\u001b[0;34m(\u001b[0m\u001b[0mX\u001b[0m\u001b[0;34m,\u001b[0m \u001b[0my\u001b[0m\u001b[0;34m,\u001b[0m \u001b[0;34m**\u001b[0m\u001b[0mfit_params\u001b[0m\u001b[0;34m)\u001b[0m\u001b[0;34m\u001b[0m\u001b[0;34m\u001b[0m\u001b[0m\n\u001b[0m\u001b[1;32m    740\u001b[0m             \u001b[0;32melse\u001b[0m\u001b[0;34m:\u001b[0m\u001b[0;34m\u001b[0m\u001b[0;34m\u001b[0m\u001b[0m\n\u001b[1;32m    741\u001b[0m                 \u001b[0mself\u001b[0m\u001b[0;34m.\u001b[0m\u001b[0mbest_estimator_\u001b[0m\u001b[0;34m.\u001b[0m\u001b[0mfit\u001b[0m\u001b[0;34m(\u001b[0m\u001b[0mX\u001b[0m\u001b[0;34m,\u001b[0m \u001b[0;34m**\u001b[0m\u001b[0mfit_params\u001b[0m\u001b[0;34m)\u001b[0m\u001b[0;34m\u001b[0m\u001b[0;34m\u001b[0m\u001b[0m\n",
            "\u001b[0;32m/usr/local/lib/python3.6/dist-packages/keras/wrappers/scikit_learn.py\u001b[0m in \u001b[0;36mfit\u001b[0;34m(self, x, y, sample_weight, **kwargs)\u001b[0m\n\u001b[1;32m    208\u001b[0m         \u001b[0;32mif\u001b[0m \u001b[0msample_weight\u001b[0m \u001b[0;32mis\u001b[0m \u001b[0;32mnot\u001b[0m \u001b[0;32mNone\u001b[0m\u001b[0;34m:\u001b[0m\u001b[0;34m\u001b[0m\u001b[0;34m\u001b[0m\u001b[0m\n\u001b[1;32m    209\u001b[0m             \u001b[0mkwargs\u001b[0m\u001b[0;34m[\u001b[0m\u001b[0;34m'sample_weight'\u001b[0m\u001b[0;34m]\u001b[0m \u001b[0;34m=\u001b[0m \u001b[0msample_weight\u001b[0m\u001b[0;34m\u001b[0m\u001b[0;34m\u001b[0m\u001b[0m\n\u001b[0;32m--> 210\u001b[0;31m         \u001b[0;32mreturn\u001b[0m \u001b[0msuper\u001b[0m\u001b[0;34m(\u001b[0m\u001b[0mKerasClassifier\u001b[0m\u001b[0;34m,\u001b[0m \u001b[0mself\u001b[0m\u001b[0;34m)\u001b[0m\u001b[0;34m.\u001b[0m\u001b[0mfit\u001b[0m\u001b[0;34m(\u001b[0m\u001b[0mx\u001b[0m\u001b[0;34m,\u001b[0m \u001b[0my\u001b[0m\u001b[0;34m,\u001b[0m \u001b[0;34m**\u001b[0m\u001b[0mkwargs\u001b[0m\u001b[0;34m)\u001b[0m\u001b[0;34m\u001b[0m\u001b[0;34m\u001b[0m\u001b[0m\n\u001b[0m\u001b[1;32m    211\u001b[0m \u001b[0;34m\u001b[0m\u001b[0m\n\u001b[1;32m    212\u001b[0m     \u001b[0;32mdef\u001b[0m \u001b[0mpredict\u001b[0m\u001b[0;34m(\u001b[0m\u001b[0mself\u001b[0m\u001b[0;34m,\u001b[0m \u001b[0mx\u001b[0m\u001b[0;34m,\u001b[0m \u001b[0;34m**\u001b[0m\u001b[0mkwargs\u001b[0m\u001b[0;34m)\u001b[0m\u001b[0;34m:\u001b[0m\u001b[0;34m\u001b[0m\u001b[0;34m\u001b[0m\u001b[0m\n",
            "\u001b[0;32m/usr/local/lib/python3.6/dist-packages/keras/wrappers/scikit_learn.py\u001b[0m in \u001b[0;36mfit\u001b[0;34m(self, x, y, **kwargs)\u001b[0m\n\u001b[1;32m    150\u001b[0m         \u001b[0mfit_args\u001b[0m\u001b[0;34m.\u001b[0m\u001b[0mupdate\u001b[0m\u001b[0;34m(\u001b[0m\u001b[0mkwargs\u001b[0m\u001b[0;34m)\u001b[0m\u001b[0;34m\u001b[0m\u001b[0;34m\u001b[0m\u001b[0m\n\u001b[1;32m    151\u001b[0m \u001b[0;34m\u001b[0m\u001b[0m\n\u001b[0;32m--> 152\u001b[0;31m         \u001b[0mhistory\u001b[0m \u001b[0;34m=\u001b[0m \u001b[0mself\u001b[0m\u001b[0;34m.\u001b[0m\u001b[0mmodel\u001b[0m\u001b[0;34m.\u001b[0m\u001b[0mfit\u001b[0m\u001b[0;34m(\u001b[0m\u001b[0mx\u001b[0m\u001b[0;34m,\u001b[0m \u001b[0my\u001b[0m\u001b[0;34m,\u001b[0m \u001b[0;34m**\u001b[0m\u001b[0mfit_args\u001b[0m\u001b[0;34m)\u001b[0m\u001b[0;34m\u001b[0m\u001b[0;34m\u001b[0m\u001b[0m\n\u001b[0m\u001b[1;32m    153\u001b[0m \u001b[0;34m\u001b[0m\u001b[0m\n\u001b[1;32m    154\u001b[0m         \u001b[0;32mreturn\u001b[0m \u001b[0mhistory\u001b[0m\u001b[0;34m\u001b[0m\u001b[0;34m\u001b[0m\u001b[0m\n",
            "\u001b[0;32m/usr/local/lib/python3.6/dist-packages/keras/engine/training.py\u001b[0m in \u001b[0;36mfit\u001b[0;34m(self, x, y, batch_size, epochs, verbose, callbacks, validation_split, validation_data, shuffle, class_weight, sample_weight, initial_epoch, steps_per_epoch, validation_steps, **kwargs)\u001b[0m\n\u001b[1;32m    950\u001b[0m             \u001b[0msample_weight\u001b[0m\u001b[0;34m=\u001b[0m\u001b[0msample_weight\u001b[0m\u001b[0;34m,\u001b[0m\u001b[0;34m\u001b[0m\u001b[0;34m\u001b[0m\u001b[0m\n\u001b[1;32m    951\u001b[0m             \u001b[0mclass_weight\u001b[0m\u001b[0;34m=\u001b[0m\u001b[0mclass_weight\u001b[0m\u001b[0;34m,\u001b[0m\u001b[0;34m\u001b[0m\u001b[0;34m\u001b[0m\u001b[0m\n\u001b[0;32m--> 952\u001b[0;31m             batch_size=batch_size)\n\u001b[0m\u001b[1;32m    953\u001b[0m         \u001b[0;31m# Prepare validation data.\u001b[0m\u001b[0;34m\u001b[0m\u001b[0;34m\u001b[0m\u001b[0;34m\u001b[0m\u001b[0m\n\u001b[1;32m    954\u001b[0m         \u001b[0mdo_validation\u001b[0m \u001b[0;34m=\u001b[0m \u001b[0;32mFalse\u001b[0m\u001b[0;34m\u001b[0m\u001b[0;34m\u001b[0m\u001b[0m\n",
            "\u001b[0;32m/usr/local/lib/python3.6/dist-packages/keras/engine/training.py\u001b[0m in \u001b[0;36m_standardize_user_data\u001b[0;34m(self, x, y, sample_weight, class_weight, check_array_lengths, batch_size)\u001b[0m\n\u001b[1;32m    749\u001b[0m             \u001b[0mfeed_input_shapes\u001b[0m\u001b[0;34m,\u001b[0m\u001b[0;34m\u001b[0m\u001b[0;34m\u001b[0m\u001b[0m\n\u001b[1;32m    750\u001b[0m             \u001b[0mcheck_batch_axis\u001b[0m\u001b[0;34m=\u001b[0m\u001b[0;32mFalse\u001b[0m\u001b[0;34m,\u001b[0m  \u001b[0;31m# Don't enforce the batch size.\u001b[0m\u001b[0;34m\u001b[0m\u001b[0;34m\u001b[0m\u001b[0m\n\u001b[0;32m--> 751\u001b[0;31m             exception_prefix='input')\n\u001b[0m\u001b[1;32m    752\u001b[0m \u001b[0;34m\u001b[0m\u001b[0m\n\u001b[1;32m    753\u001b[0m         \u001b[0;32mif\u001b[0m \u001b[0my\u001b[0m \u001b[0;32mis\u001b[0m \u001b[0;32mnot\u001b[0m \u001b[0;32mNone\u001b[0m\u001b[0;34m:\u001b[0m\u001b[0;34m\u001b[0m\u001b[0;34m\u001b[0m\u001b[0m\n",
            "\u001b[0;32m/usr/local/lib/python3.6/dist-packages/keras/engine/training_utils.py\u001b[0m in \u001b[0;36mstandardize_input_data\u001b[0;34m(data, names, shapes, check_batch_axis, exception_prefix)\u001b[0m\n\u001b[1;32m    136\u001b[0m                             \u001b[0;34m': expected '\u001b[0m \u001b[0;34m+\u001b[0m \u001b[0mnames\u001b[0m\u001b[0;34m[\u001b[0m\u001b[0mi\u001b[0m\u001b[0;34m]\u001b[0m \u001b[0;34m+\u001b[0m \u001b[0;34m' to have shape '\u001b[0m \u001b[0;34m+\u001b[0m\u001b[0;34m\u001b[0m\u001b[0;34m\u001b[0m\u001b[0m\n\u001b[1;32m    137\u001b[0m                             \u001b[0mstr\u001b[0m\u001b[0;34m(\u001b[0m\u001b[0mshape\u001b[0m\u001b[0;34m)\u001b[0m \u001b[0;34m+\u001b[0m \u001b[0;34m' but got array with shape '\u001b[0m \u001b[0;34m+\u001b[0m\u001b[0;34m\u001b[0m\u001b[0;34m\u001b[0m\u001b[0m\n\u001b[0;32m--> 138\u001b[0;31m                             str(data_shape))\n\u001b[0m\u001b[1;32m    139\u001b[0m     \u001b[0;32mreturn\u001b[0m \u001b[0mdata\u001b[0m\u001b[0;34m\u001b[0m\u001b[0;34m\u001b[0m\u001b[0m\n\u001b[1;32m    140\u001b[0m \u001b[0;34m\u001b[0m\u001b[0m\n",
            "\u001b[0;31mValueError\u001b[0m: Error when checking input: expected lstm_2_input to have shape (1, 70) but got array with shape (1, 180)"
          ]
        }
      ]
    },
    {
      "cell_type": "markdown",
      "metadata": {
        "id": "YHzbExMlvZgM",
        "colab_type": "text"
      },
      "source": [
        "Neuron Optimization"
      ]
    },
    {
      "cell_type": "code",
      "metadata": {
        "id": "4awB-EHwvcYi",
        "colab_type": "code",
        "colab": {
          "base_uri": "https://localhost:8080/",
          "height": 197
        },
        "outputId": "7b5035e6-3cf7-4014-9aed-f1641b39aaaf"
      },
      "source": [
        "epoch=130\n",
        "def create_model(neurons=30):\n",
        "\t# create model\n",
        "  model = Sequential()\n",
        "  model.add(LSTM(neurons, input_shape=(1, look_back)))\n",
        "  model.add(Dropout(0.12))\n",
        "  model.add(Dense(1))\n",
        "  # model.compile(loss='mse', optimizer='adam')\n",
        "  model.compile(loss='mse', optimizer='adam', metrics=['accuracy'])\n",
        "  return model\n",
        "\n",
        "model = KerasClassifier(build_fn=create_model, verbose=0)\n",
        "# define the grid search parameters\n",
        "neurons = [20, 25, 35,45,55,70]\n",
        "epochs = [epoch]\n",
        "batch_size = [25]\n",
        "\n",
        "param_grid = dict(neurons=neurons, epochs=epochs, batch_size=batch_size)\n",
        "grid = GridSearchCV(estimator=model, param_grid=param_grid, n_jobs=-1, cv=3)\n",
        "\n",
        "grid_result = grid.fit(trainX, trainY)\n",
        "\n",
        "print(\"Best: %f using %s\" % (grid_result.best_score_, grid_result.best_params_))\n",
        "means = grid_result.cv_results_['mean_test_score']\n",
        "stds = grid_result.cv_results_['std_test_score']\n",
        "params = grid_result.cv_results_['params']\n",
        "for mean, stdev, param in zip(means, stds, params):\n",
        "    print(\"%f (%f) with: %r\" % (mean, stdev, param))\n"
      ],
      "execution_count": null,
      "outputs": [
        {
          "output_type": "stream",
          "text": [
            "/usr/local/lib/python3.6/dist-packages/joblib/externals/loky/process_executor.py:706: UserWarning: A worker stopped while some jobs were given to the executor. This can be caused by a too short worker timeout or by a memory leak.\n",
            "  \"timeout or by a memory leak.\", UserWarning\n"
          ],
          "name": "stderr"
        },
        {
          "output_type": "stream",
          "text": [
            "Best: 0.001833 using {'batch_size': 25, 'epochs': 130, 'neurons': 20}\n",
            "0.001833 (0.000980) with: {'batch_size': 25, 'epochs': 130, 'neurons': 20}\n",
            "0.000262 (0.000370) with: {'batch_size': 25, 'epochs': 130, 'neurons': 25}\n",
            "0.000262 (0.000370) with: {'batch_size': 25, 'epochs': 130, 'neurons': 35}\n",
            "0.000000 (0.000000) with: {'batch_size': 25, 'epochs': 130, 'neurons': 45}\n",
            "0.001309 (0.001852) with: {'batch_size': 25, 'epochs': 130, 'neurons': 55}\n",
            "0.000262 (0.000370) with: {'batch_size': 25, 'epochs': 130, 'neurons': 70}\n"
          ],
          "name": "stdout"
        }
      ]
    },
    {
      "cell_type": "code",
      "metadata": {
        "id": "7-5JttmzvcWU",
        "colab_type": "code",
        "colab": {}
      },
      "source": [
        ""
      ],
      "execution_count": null,
      "outputs": []
    },
    {
      "cell_type": "code",
      "metadata": {
        "id": "ihgi3Sf1vcSf",
        "colab_type": "code",
        "colab": {}
      },
      "source": [
        ""
      ],
      "execution_count": null,
      "outputs": []
    },
    {
      "cell_type": "markdown",
      "metadata": {
        "id": "VtEf7oHx_ps_",
        "colab_type": "text"
      },
      "source": [
        "All Parameters at Once"
      ]
    },
    {
      "cell_type": "code",
      "metadata": {
        "id": "xo_W6DwX_oxY",
        "colab_type": "code",
        "colab": {
          "base_uri": "https://localhost:8080/",
          "height": 72
        },
        "outputId": "2f395b57-f3c4-46ce-8ba2-d7c7a5e981a7"
      },
      "source": [
        "epoch=130\n",
        "def create_model(dropout_rate=0.1,neurons=25,batch_size=20,look_up=130):\n",
        "\t# create model\n",
        "  model = Sequential()\n",
        "  model.add(LSTM(neurons, input_shape=(1, look_back)))\n",
        "  model.add(Dropout(dropout_rate))\n",
        "  model.add(Dense(1))\n",
        "  # model.compile(loss='mse', optimizer='adam')\n",
        "  model.compile(loss='mse', optimizer='adam', metrics=['accuracy'])\n",
        "  return model\n",
        "\n",
        "model = KerasClassifier(build_fn=create_model, verbose=0)\n",
        "# define the grid search parameters\n",
        "batch_size = [25,30,45,60, 80, 100,130]\n",
        "dropout = [0.0,0.06, 0.08, 0.1,0.12,0.14,0.16,0.18, 0.2,0.25, 0.3, 0.4]\n",
        "neurons = [20, 25, 35,45,55,70]\n",
        "look_up=[50,70,90,110,130,150,170,190,210,230]\n",
        "epochs = [130]\n",
        "\n",
        "# batch_size = [25,30]\n",
        "# dropout_rate = [0.0, 0.1]\n",
        "# neurons = [20,40]\n",
        "# look_up=[50,60]\n",
        "# epochs = [1]\n",
        "\n",
        "\n",
        "param_grid = dict(batch_size=batch_size, epochs=epochs,dropout_rate=dropout_rate, neurons=neurons,look_up=look_up)\n",
        "grid = GridSearchCV(estimator=model, param_grid=param_grid, n_jobs=-1, cv=3)\n",
        "\n",
        "grid_result = grid.fit(trainX, trainY)\n",
        "\n",
        "print(\"Best: %f using %s\" % (grid_result.best_score_, grid_result.best_params_))\n",
        "means = grid_result.cv_results_['mean_test_score']\n",
        "stds = grid_result.cv_results_['std_test_score']\n",
        "params = grid_result.cv_results_['params']\n",
        "for mean, stdev, param in zip(means, stds, params):\n",
        "    print(\"%f (%f) with: %r\" % (mean, stdev, param))\n",
        "\n"
      ],
      "execution_count": null,
      "outputs": [
        {
          "output_type": "stream",
          "text": [
            "/usr/local/lib/python3.6/dist-packages/joblib/externals/loky/process_executor.py:706: UserWarning: A worker stopped while some jobs were given to the executor. This can be caused by a too short worker timeout or by a memory leak.\n",
            "  \"timeout or by a memory leak.\", UserWarning\n"
          ],
          "name": "stderr"
        }
      ]
    },
    {
      "cell_type": "code",
      "metadata": {
        "id": "HABQX94h7dPK",
        "colab_type": "code",
        "colab": {
          "base_uri": "https://localhost:8080/",
          "height": 70
        },
        "outputId": "1783e443-ee9c-4ae4-ce38-2da80b67dfcb"
      },
      "source": [
        "\n",
        "# Function to create model, required for KerasClassifier\n",
        "def create_model(dropout_rate=0.0):\n",
        "\t# create model\n",
        "\t\n",
        "  model = Sequential()\n",
        "  model.add(LSTM(60, input_shape=(1, look_back)))\n",
        "  model.add(Dropout(dropout_rate))\n",
        "  model.add(Dense(1))\n",
        "  model.compile(loss='mse', optimizer='adam', metrics=['accuracy'])\n",
        "  return model\n",
        "\n",
        "model = KerasClassifier(build_fn=create_model, epochs=epoch, batch_size=30, verbose=0)\n",
        "# define the grid search parameters\n",
        "dropout_rate = [0.0, 0.1,0.12,0.14,0.16,0.18, 0.2,0.25, 0.3, 0.4, 0.5]\n",
        "param_grid = dict(dropout_rate=dropout_rate)\n",
        "grid = GridSearchCV(estimator=model, param_grid=param_grid, n_jobs=-1, cv=3)\n",
        "grid_result = grid.fit(trainX, trainY)\n",
        "# summarize results\n",
        "print(\"Best: %f using %s\" % (grid_result.best_score_, grid_result.best_params_))\n",
        "means = grid_result.cv_results_['mean_test_score']\n",
        "stds = grid_result.cv_results_['std_test_score']\n",
        "params = grid_result.cv_results_['params']\n",
        "for mean, stdev, param in zip(means, stds, params):\n",
        "    print(\"%f (%f) with: %r\" % (mean, stdev, param))"
      ],
      "execution_count": null,
      "outputs": [
        {
          "output_type": "stream",
          "text": [
            "/usr/local/lib/python3.6/dist-packages/joblib/externals/loky/process_executor.py:706: UserWarning: A worker stopped while some jobs were given to the executor. This can be caused by a too short worker timeout or by a memory leak.\n",
            "  \"timeout or by a memory leak.\", UserWarning\n"
          ],
          "name": "stderr"
        }
      ]
    },
    {
      "cell_type": "code",
      "metadata": {
        "id": "VxsW6ZFU7dMJ",
        "colab_type": "code",
        "colab": {}
      },
      "source": [
        ""
      ],
      "execution_count": null,
      "outputs": []
    },
    {
      "cell_type": "code",
      "metadata": {
        "id": "TrWagR4U7dGJ",
        "colab_type": "code",
        "colab": {
          "base_uri": "https://localhost:8080/",
          "height": 205
        },
        "outputId": "22435610-1a3d-4977-dfa3-c3ebcc752863"
      },
      "source": [
        "# Use scikit-learn to grid search the number of neurons\n",
        "import numpy\n",
        "from sklearn.model_selection import GridSearchCV\n",
        "# from keras.models import Sequential\n",
        "from keras.layers import Dense\n",
        "from keras.layers import Dropout\n",
        "from keras.wrappers.scikit_learn import KerasClassifier\n",
        "from keras.constraints import maxnorm\n",
        "# Function to create model, required for KerasClassifier\n",
        "def create_model(neurons=1):\n",
        "\t# create model\n",
        "  model = Sequential()\n",
        "  model.add(LSTM(neurons, input_shape=(1, look_back)))\n",
        "  model.add(Dropout(0.7))\n",
        "  model.add(Dense(1))\n",
        "  model.compile(loss='mse', optimizer='adam', metrics=['accuracy'])\n",
        "  return model\n",
        "# fix random seed for reproducibility\n",
        "# seed = 7\n",
        "# numpy.random.seed(seed)\n",
        "# # load dataset\n",
        "# dataset = numpy.loadtxt(\"pima-indians-diabetes.csv\", delimiter=\",\")\n",
        "# # split into input (X) and output (Y) variables\n",
        "# X = dataset[:,0:8]\n",
        "# Y = dataset[:,8]\n",
        "# create model\n",
        "model = KerasClassifier(build_fn=create_model, epochs=100, batch_size=240, verbose=0)\n",
        "# define the grid search parameters\n",
        "neurons = [20, 25, 35,45,55,70]\n",
        "param_grid = dict(neurons=neurons)\n",
        "grid = GridSearchCV(estimator=model, param_grid=param_grid, n_jobs=-1, cv=3)\n",
        "grid_result = grid.fit(trainX, trainY)\n",
        "# summarize results\n",
        "print(\"Best: %f using %s\" % (grid_result.best_score_, grid_result.best_params_))\n",
        "means = grid_result.cv_results_['mean_test_score']\n",
        "stds = grid_result.cv_results_['std_test_score']\n",
        "params = grid_result.cv_results_['params']\n",
        "for mean, stdev, param in zip(means, stds, params):\n",
        "    print(\"%f (%f) with: %r\" % (mean, stdev, param))"
      ],
      "execution_count": null,
      "outputs": [
        {
          "output_type": "stream",
          "text": [
            "/usr/local/lib/python3.6/dist-packages/joblib/externals/loky/process_executor.py:706: UserWarning: A worker stopped while some jobs were given to the executor. This can be caused by a too short worker timeout or by a memory leak.\n",
            "  \"timeout or by a memory leak.\", UserWarning\n"
          ],
          "name": "stderr"
        },
        {
          "output_type": "stream",
          "text": [
            "WARNING:tensorflow:Large dropout rate: 0.7 (>0.5). In TensorFlow 2.x, dropout() uses dropout rate instead of keep_prob. Please ensure that this is intended.\n",
            "Best: 0.000886 using {'neurons': 25}\n",
            "0.000380 (0.000310) with: {'neurons': 20}\n",
            "0.000886 (0.001253) with: {'neurons': 25}\n",
            "0.000127 (0.000179) with: {'neurons': 35}\n",
            "0.000000 (0.000000) with: {'neurons': 45}\n",
            "0.000127 (0.000179) with: {'neurons': 55}\n",
            "0.000000 (0.000000) with: {'neurons': 70}\n"
          ],
          "name": "stdout"
        }
      ]
    },
    {
      "cell_type": "code",
      "metadata": {
        "id": "4_bZ_IV5iLk1",
        "colab_type": "code",
        "colab": {
          "base_uri": "https://localhost:8080/",
          "height": 34
        },
        "outputId": "74244d38-3989-423d-8c24-362a6c8eb80f"
      },
      "source": [
        "testScore"
      ],
      "execution_count": null,
      "outputs": [
        {
          "output_type": "execute_result",
          "data": {
            "text/plain": [
              "5557.32400930795"
            ]
          },
          "metadata": {
            "tags": []
          },
          "execution_count": 35
        }
      ]
    },
    {
      "cell_type": "code",
      "metadata": {
        "id": "-rs_B2pKiLG5",
        "colab_type": "code",
        "colab": {
          "base_uri": "https://localhost:8080/",
          "height": 34
        },
        "outputId": "cc8cccc3-b925-49c4-ac7f-405be996d26b"
      },
      "source": [
        "trainScore"
      ],
      "execution_count": null,
      "outputs": [
        {
          "output_type": "execute_result",
          "data": {
            "text/plain": [
              "4073.4197630015556"
            ]
          },
          "metadata": {
            "tags": []
          },
          "execution_count": 36
        }
      ]
    },
    {
      "cell_type": "code",
      "metadata": {
        "id": "ZxnkW40-IWXE",
        "colab_type": "code",
        "colab": {
          "base_uri": "https://localhost:8080/",
          "height": 255
        },
        "outputId": "40a43f9f-4a5a-4e20-aa02-a3d7c3e6000a"
      },
      "source": [
        "# k=2000\n",
        "f=736\n",
        "epoch=150\n",
        "all_y = data[f]\n",
        "dataset=all_y.reshape(-1, 1)\n",
        "print(f)\n",
        "# normalize the dataset\n",
        "scaler = MinMaxScaler(feature_range=(0, 1))\n",
        "dataset = scaler.fit_transform(dataset)\n",
        "\n",
        "# split into train and test sets, 50% test data, 50% training data\n",
        "train_size = int(len(dataset) * 0.8)\n",
        "k=int(len(dataset) * 0.8)\n",
        "test_size = len(dataset) - train_size\n",
        "train, test = dataset[0:train_size,:], dataset[train_size:len(dataset),:]\n",
        "\n",
        "# reshape into X=t and Y=t+1, timestep 240\n",
        "look_back = 350\n",
        "trainX, trainY = create_dataset(train, look_back)\n",
        "testX, testY = create_dataset(test, look_back)\n",
        "\n",
        "# reshape input to be [samples, time steps, features]\n",
        "trainX = np.reshape(trainX, (trainX.shape[0], 1, trainX.shape[1]))\n",
        "testX = np.reshape(testX, (testX.shape[0], 1, testX.shape[1]))\n",
        "\n",
        "# Use scikit-learn to grid search the activation function\n",
        "import numpy\n",
        "from sklearn.model_selection import GridSearchCV\n",
        "# from keras.models import Sequential\n",
        "from keras.layers import Dense\n",
        "from keras.wrappers.scikit_learn import KerasClassifier\n",
        "# Function to create model, required for KerasClassifier\n",
        "def create_model(activation='relu'):\n",
        "\t# create model\n",
        "\t# model = Sequential()\n",
        "\t# model.add(Dense(12, input_dim=8, kernel_initializer='uniform', activation=activation))\n",
        "\t# model.add(Dense(1, kernel_initializer='uniform', activation='sigmoid'))\n",
        "\t# # Compile model\n",
        "\t# model.compile(loss='binary_crossentropy', optimizer='adam', metrics=['accuracy'])\n",
        "\t# return model\n",
        "  model = Sequential()\n",
        "  model.add(LSTM(25, input_shape=(1, look_back), activation=activation))\n",
        "  model.add(Dropout(0.7))\n",
        "  model.add(Dense(1))\n",
        "  model.compile(loss='mse', optimizer='adam', metrics=['accuracy'])\n",
        "  return model\n",
        "\n",
        "model = KerasClassifier(build_fn=create_model, epochs=100, batch_size=240, verbose=0)\n",
        "# define the grid search parameters\n",
        "activation = ['softmax', 'softplus', 'softsign', 'relu', 'tanh', 'sigmoid', 'hard_sigmoid', 'linear']\n",
        "param_grid = dict(activation=activation)\n",
        "grid = GridSearchCV(estimator=model, param_grid=param_grid, n_jobs=-1, cv=3)\n",
        "grid_result = grid.fit(trainX, trainY)\n",
        "# summarize results\n",
        "print(\"Best: %f using %s\" % (grid_result.best_score_, grid_result.best_params_))\n",
        "means = grid_result.cv_results_['mean_test_score']\n",
        "stds = grid_result.cv_results_['std_test_score']\n",
        "params = grid_result.cv_results_['params']\n",
        "for mean, stdev, param in zip(means, stds, params):\n",
        "    print(\"%f (%f) with: %r\" % (mean, stdev, param))\n",
        "\n",
        "\n",
        "\n"
      ],
      "execution_count": null,
      "outputs": [
        {
          "output_type": "stream",
          "text": [
            "736\n"
          ],
          "name": "stdout"
        },
        {
          "output_type": "stream",
          "text": [
            "/usr/local/lib/python3.6/dist-packages/joblib/externals/loky/process_executor.py:706: UserWarning: A worker stopped while some jobs were given to the executor. This can be caused by a too short worker timeout or by a memory leak.\n",
            "  \"timeout or by a memory leak.\", UserWarning\n"
          ],
          "name": "stderr"
        },
        {
          "output_type": "stream",
          "text": [
            "WARNING:tensorflow:Large dropout rate: 0.7 (>0.5). In TensorFlow 2.x, dropout() uses dropout rate instead of keep_prob. Please ensure that this is intended.\n",
            "Best: 0.001569 using {'activation': 'tanh'}\n",
            "0.000000 (0.000000) with: {'activation': 'softmax'}\n",
            "0.000000 (0.000000) with: {'activation': 'softplus'}\n",
            "0.000131 (0.000185) with: {'activation': 'softsign'}\n",
            "0.000000 (0.000000) with: {'activation': 'relu'}\n",
            "0.001569 (0.002219) with: {'activation': 'tanh'}\n",
            "0.000262 (0.000370) with: {'activation': 'sigmoid'}\n",
            "0.000262 (0.000370) with: {'activation': 'hard_sigmoid'}\n",
            "0.000000 (0.000000) with: {'activation': 'linear'}\n"
          ],
          "name": "stdout"
        }
      ]
    },
    {
      "cell_type": "code",
      "metadata": {
        "id": "ubxSVmT9Xakl",
        "colab_type": "code",
        "colab": {
          "base_uri": "https://localhost:8080/",
          "height": 34
        },
        "outputId": "c276be9d-1ae1-449e-d7cc-f3e2ddc43d2c"
      },
      "source": [
        "trainX.shape"
      ],
      "execution_count": null,
      "outputs": [
        {
          "output_type": "execute_result",
          "data": {
            "text/plain": [
              "(7649, 1, 350)"
            ]
          },
          "metadata": {
            "tags": []
          },
          "execution_count": 9
        }
      ]
    },
    {
      "cell_type": "code",
      "metadata": {
        "id": "kidmAOHwXaYj",
        "colab_type": "code",
        "colab": {
          "base_uri": "https://localhost:8080/",
          "height": 34
        },
        "outputId": "c33693b6-4217-40f2-fb1b-726b31e07f12"
      },
      "source": [
        "trainY.shape"
      ],
      "execution_count": null,
      "outputs": [
        {
          "output_type": "execute_result",
          "data": {
            "text/plain": [
              "(1, 7649)"
            ]
          },
          "metadata": {
            "tags": []
          },
          "execution_count": 10
        }
      ]
    },
    {
      "cell_type": "code",
      "metadata": {
        "id": "Y_td1Ub3XaOq",
        "colab_type": "code",
        "colab": {}
      },
      "source": [
        ""
      ],
      "execution_count": null,
      "outputs": []
    },
    {
      "cell_type": "code",
      "metadata": {
        "id": "E0zKybpBIWAT",
        "colab_type": "code",
        "colab": {
          "base_uri": "https://localhost:8080/",
          "height": 34
        },
        "outputId": "4503ef8b-8dca-4e80-ce5a-c096a891636f"
      },
      "source": [
        "type(trainPredict)"
      ],
      "execution_count": null,
      "outputs": [
        {
          "output_type": "execute_result",
          "data": {
            "text/plain": [
              "numpy.ndarray"
            ]
          },
          "metadata": {
            "tags": []
          },
          "execution_count": 17
        }
      ]
    },
    {
      "cell_type": "code",
      "metadata": {
        "id": "hm34plzZ66R2",
        "colab_type": "code",
        "colab": {
          "base_uri": "https://localhost:8080/",
          "height": 34
        },
        "outputId": "572bced4-5f30-4470-bd76-dedd0de53173"
      },
      "source": [
        "trainScore"
      ],
      "execution_count": null,
      "outputs": [
        {
          "output_type": "execute_result",
          "data": {
            "text/plain": [
              "398.41379905139075"
            ]
          },
          "metadata": {
            "tags": []
          },
          "execution_count": 18
        }
      ]
    },
    {
      "cell_type": "code",
      "metadata": {
        "id": "eSHMUXtT66Ij",
        "colab_type": "code",
        "colab": {
          "base_uri": "https://localhost:8080/",
          "height": 34
        },
        "outputId": "7ca84ed6-92f5-4b50-b5d6-83f998d4c99e"
      },
      "source": [
        "testScore"
      ],
      "execution_count": null,
      "outputs": [
        {
          "output_type": "execute_result",
          "data": {
            "text/plain": [
              "2935.0959073390295"
            ]
          },
          "metadata": {
            "tags": []
          },
          "execution_count": 19
        }
      ]
    },
    {
      "cell_type": "code",
      "metadata": {
        "id": "FDmjZ-e0KOfd",
        "colab_type": "code",
        "colab": {
          "base_uri": "https://localhost:8080/",
          "height": 34
        },
        "outputId": "8ff1e302-35a0-444a-980c-d170253e149b"
      },
      "source": [
        "testY.shape"
      ],
      "execution_count": null,
      "outputs": [
        {
          "output_type": "execute_result",
          "data": {
            "text/plain": [
              "(1, 1649)"
            ]
          },
          "metadata": {
            "tags": []
          },
          "execution_count": 20
        }
      ]
    },
    {
      "cell_type": "code",
      "metadata": {
        "id": "Yd2Xb6pO658S",
        "colab_type": "code",
        "colab": {
          "base_uri": "https://localhost:8080/",
          "height": 34
        },
        "outputId": "50a686bd-e50a-4b3c-adfe-dc479f9b1a14"
      },
      "source": [
        "trainX.shape"
      ],
      "execution_count": null,
      "outputs": [
        {
          "output_type": "execute_result",
          "data": {
            "text/plain": [
              "(7649, 1, 350)"
            ]
          },
          "metadata": {
            "tags": []
          },
          "execution_count": 21
        }
      ]
    },
    {
      "cell_type": "code",
      "metadata": {
        "id": "HB5EGTxSj_Xl",
        "colab_type": "code",
        "colab": {
          "base_uri": "https://localhost:8080/",
          "height": 134
        },
        "outputId": "ab496ed7-8a50-42f4-80e5-8470cb039e15"
      },
      "source": [
        "testPredict"
      ],
      "execution_count": null,
      "outputs": [
        {
          "output_type": "execute_result",
          "data": {
            "text/plain": [
              "array([[ 735.1216 ],\n",
              "       [1569.1564 ],\n",
              "       [1394.3575 ],\n",
              "       ...,\n",
              "       [ 350.16782],\n",
              "       [ 762.1287 ],\n",
              "       [1435.8369 ]], dtype=float32)"
            ]
          },
          "metadata": {
            "tags": []
          },
          "execution_count": 22
        }
      ]
    },
    {
      "cell_type": "code",
      "metadata": {
        "id": "gnI-U2l7TBZa",
        "colab_type": "code",
        "colab": {
          "base_uri": "https://localhost:8080/",
          "height": 34
        },
        "outputId": "f3d4af7b-5174-43d1-fd89-14e94eef9058"
      },
      "source": [
        "trainX.shape"
      ],
      "execution_count": null,
      "outputs": [
        {
          "output_type": "execute_result",
          "data": {
            "text/plain": [
              "(7649, 1, 350)"
            ]
          },
          "metadata": {
            "tags": []
          },
          "execution_count": 23
        }
      ]
    },
    {
      "cell_type": "code",
      "metadata": {
        "id": "uMN2siLbTBNR",
        "colab_type": "code",
        "colab": {
          "base_uri": "https://localhost:8080/",
          "height": 478
        },
        "outputId": "8f9226f1-6bbe-4925-813b-1f0cfb0875c9"
      },
      "source": [
        "\n",
        "# plot baseline and predictions\n",
        "figure(num=None, figsize=(18, 4), dpi=120, facecolor='w', edgecolor='k')\n",
        "\n",
        "plt.plot((data[f]),color='r',label=\"Whole Data\")\n",
        "# plt.show()\n",
        "plt.plot(trainPredictPlot,color='g',label=\"Train\")\n",
        "# print('testPrices:')\n",
        "testPrices=scaler.inverse_transform(dataset[test_size+look_back:])\n",
        "\n",
        "\n",
        "plt.plot(testPredictPlot, label=\"test\")\n",
        "plt.legend()\n",
        "plt.title('colab cell-'+str(f))\n",
        "plt.show()\n",
        "\n",
        "\n"
      ],
      "execution_count": null,
      "outputs": [
        {
          "output_type": "display_data",
          "data": {
            "image/png": "[encoded data removed]",
            "text/plain": [
              "<Figure size 2160x480 with 1 Axes>"
            ]
          },
          "metadata": {
            "tags": []
          }
        }
      ]
    },
    {
      "cell_type": "code",
      "metadata": {
        "id": "hqLEi4PNTA_z",
        "colab_type": "code",
        "colab": {
          "base_uri": "https://localhost:8080/",
          "height": 458
        },
        "outputId": "c2e7be5a-1c4f-42c1-f743-eb47ae5f15e1"
      },
      "source": [
        "\n",
        "# plot baseline and predictions\n",
        "figure(num=None, figsize=(8, 4), dpi=120, facecolor='w', edgecolor='k')\n",
        "\n",
        "plt.plot((data[f][k:]),color='r',label=\"Whole Data\")\n",
        "# plt.show()\n",
        "plt.plot(trainPredictPlot[k:],color='g',label=\"Train\")\n",
        "# print('testPrices:')\n",
        "testPrices=scaler.inverse_transform(dataset[test_size+look_back:])\n",
        "\n",
        "\n",
        "plt.plot(testPredictPlot[k:], label=\"test\")\n",
        "plt.legend()\n",
        "plt.title('colab cell-'+str(f))\n",
        "plt.show()\n",
        "\n",
        "\n"
      ],
      "execution_count": null,
      "outputs": [
        {
          "output_type": "display_data",
          "data": {
            "image/png": "[encoded data removed]",
            "text/plain": [
              "<Figure size 960x480 with 1 Axes>"
            ]
          },
          "metadata": {
            "tags": []
          }
        }
      ]
    },
    {
      "cell_type": "code",
      "metadata": {
        "id": "UE9pYzAkiuaf",
        "colab_type": "code",
        "colab": {}
      },
      "source": [
        ""
      ],
      "execution_count": null,
      "outputs": []
    }
  ]
}